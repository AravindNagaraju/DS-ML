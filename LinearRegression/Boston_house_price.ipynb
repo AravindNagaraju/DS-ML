{
 "cells": [
  {
   "cell_type": "code",
   "execution_count": 1,
   "id": "02d2b196",
   "metadata": {},
   "outputs": [],
   "source": [
    "# Import libraries\n",
    "import numpy as np\n",
    "import pandas as pd"
   ]
  },
  {
   "cell_type": "code",
   "execution_count": 116,
   "id": "632c5d22",
   "metadata": {},
   "outputs": [],
   "source": [
    "#Loading the csv files to df\n",
    "test_data = pd.read_csv(\"test.csv\")\n",
    "train_data = pd.read_csv(\"train.csv\")"
   ]
  },
  {
   "cell_type": "code",
   "execution_count": 117,
   "id": "b024c7f9",
   "metadata": {},
   "outputs": [
    {
     "data": {
      "text/html": [
       "<div>\n",
       "<style scoped>\n",
       "    .dataframe tbody tr th:only-of-type {\n",
       "        vertical-align: middle;\n",
       "    }\n",
       "\n",
       "    .dataframe tbody tr th {\n",
       "        vertical-align: top;\n",
       "    }\n",
       "\n",
       "    .dataframe thead th {\n",
       "        text-align: right;\n",
       "    }\n",
       "</style>\n",
       "<table border=\"1\" class=\"dataframe\">\n",
       "  <thead>\n",
       "    <tr style=\"text-align: right;\">\n",
       "      <th></th>\n",
       "      <th>ID</th>\n",
       "      <th>CRIM</th>\n",
       "      <th>ZN</th>\n",
       "      <th>INDUS</th>\n",
       "      <th>CHAS</th>\n",
       "      <th>NOX</th>\n",
       "      <th>RM</th>\n",
       "      <th>AGE</th>\n",
       "      <th>DIS</th>\n",
       "      <th>RAD</th>\n",
       "      <th>TAX</th>\n",
       "      <th>PTRATIO</th>\n",
       "      <th>B</th>\n",
       "      <th>LSTAT</th>\n",
       "    </tr>\n",
       "  </thead>\n",
       "  <tbody>\n",
       "    <tr>\n",
       "      <th>0</th>\n",
       "      <td>0</td>\n",
       "      <td>0.10612</td>\n",
       "      <td>30.0</td>\n",
       "      <td>4.93</td>\n",
       "      <td>0</td>\n",
       "      <td>0.428</td>\n",
       "      <td>6.095</td>\n",
       "      <td>65.1</td>\n",
       "      <td>6.3361</td>\n",
       "      <td>6</td>\n",
       "      <td>300.0</td>\n",
       "      <td>16.6</td>\n",
       "      <td>394.62</td>\n",
       "      <td>12.40</td>\n",
       "    </tr>\n",
       "    <tr>\n",
       "      <th>1</th>\n",
       "      <td>1</td>\n",
       "      <td>0.34109</td>\n",
       "      <td>0.0</td>\n",
       "      <td>7.38</td>\n",
       "      <td>0</td>\n",
       "      <td>0.493</td>\n",
       "      <td>6.415</td>\n",
       "      <td>40.1</td>\n",
       "      <td>4.7211</td>\n",
       "      <td>5</td>\n",
       "      <td>287.0</td>\n",
       "      <td>19.6</td>\n",
       "      <td>396.90</td>\n",
       "      <td>6.12</td>\n",
       "    </tr>\n",
       "    <tr>\n",
       "      <th>2</th>\n",
       "      <td>2</td>\n",
       "      <td>12.24720</td>\n",
       "      <td>0.0</td>\n",
       "      <td>18.10</td>\n",
       "      <td>0</td>\n",
       "      <td>0.584</td>\n",
       "      <td>5.837</td>\n",
       "      <td>59.7</td>\n",
       "      <td>1.9976</td>\n",
       "      <td>24</td>\n",
       "      <td>666.0</td>\n",
       "      <td>20.2</td>\n",
       "      <td>24.65</td>\n",
       "      <td>15.69</td>\n",
       "    </tr>\n",
       "    <tr>\n",
       "      <th>3</th>\n",
       "      <td>3</td>\n",
       "      <td>0.22489</td>\n",
       "      <td>12.5</td>\n",
       "      <td>7.87</td>\n",
       "      <td>0</td>\n",
       "      <td>0.524</td>\n",
       "      <td>6.377</td>\n",
       "      <td>94.3</td>\n",
       "      <td>6.3467</td>\n",
       "      <td>5</td>\n",
       "      <td>311.0</td>\n",
       "      <td>15.2</td>\n",
       "      <td>392.52</td>\n",
       "      <td>20.45</td>\n",
       "    </tr>\n",
       "    <tr>\n",
       "      <th>4</th>\n",
       "      <td>4</td>\n",
       "      <td>1.80028</td>\n",
       "      <td>0.0</td>\n",
       "      <td>19.58</td>\n",
       "      <td>0</td>\n",
       "      <td>0.605</td>\n",
       "      <td>5.877</td>\n",
       "      <td>79.2</td>\n",
       "      <td>2.4259</td>\n",
       "      <td>5</td>\n",
       "      <td>403.0</td>\n",
       "      <td>14.7</td>\n",
       "      <td>227.61</td>\n",
       "      <td>12.14</td>\n",
       "    </tr>\n",
       "  </tbody>\n",
       "</table>\n",
       "</div>"
      ],
      "text/plain": [
       "   ID      CRIM    ZN  INDUS  CHAS    NOX     RM   AGE     DIS  RAD    TAX  \\\n",
       "0   0   0.10612  30.0   4.93     0  0.428  6.095  65.1  6.3361    6  300.0   \n",
       "1   1   0.34109   0.0   7.38     0  0.493  6.415  40.1  4.7211    5  287.0   \n",
       "2   2  12.24720   0.0  18.10     0  0.584  5.837  59.7  1.9976   24  666.0   \n",
       "3   3   0.22489  12.5   7.87     0  0.524  6.377  94.3  6.3467    5  311.0   \n",
       "4   4   1.80028   0.0  19.58     0  0.605  5.877  79.2  2.4259    5  403.0   \n",
       "\n",
       "   PTRATIO       B  LSTAT  \n",
       "0     16.6  394.62  12.40  \n",
       "1     19.6  396.90   6.12  \n",
       "2     20.2   24.65  15.69  \n",
       "3     15.2  392.52  20.45  \n",
       "4     14.7  227.61  12.14  "
      ]
     },
     "execution_count": 117,
     "metadata": {},
     "output_type": "execute_result"
    }
   ],
   "source": [
    "test_data.head()"
   ]
  },
  {
   "cell_type": "code",
   "execution_count": 118,
   "id": "72918785",
   "metadata": {},
   "outputs": [
    {
     "data": {
      "text/html": [
       "<div>\n",
       "<style scoped>\n",
       "    .dataframe tbody tr th:only-of-type {\n",
       "        vertical-align: middle;\n",
       "    }\n",
       "\n",
       "    .dataframe tbody tr th {\n",
       "        vertical-align: top;\n",
       "    }\n",
       "\n",
       "    .dataframe thead th {\n",
       "        text-align: right;\n",
       "    }\n",
       "</style>\n",
       "<table border=\"1\" class=\"dataframe\">\n",
       "  <thead>\n",
       "    <tr style=\"text-align: right;\">\n",
       "      <th></th>\n",
       "      <th>ID</th>\n",
       "      <th>CRIM</th>\n",
       "      <th>ZN</th>\n",
       "      <th>INDUS</th>\n",
       "      <th>CHAS</th>\n",
       "      <th>NOX</th>\n",
       "      <th>RM</th>\n",
       "      <th>AGE</th>\n",
       "      <th>DIS</th>\n",
       "      <th>RAD</th>\n",
       "      <th>TAX</th>\n",
       "      <th>PTRATIO</th>\n",
       "      <th>B</th>\n",
       "      <th>LSTAT</th>\n",
       "      <th>MEDV</th>\n",
       "    </tr>\n",
       "  </thead>\n",
       "  <tbody>\n",
       "    <tr>\n",
       "      <th>0</th>\n",
       "      <td>0</td>\n",
       "      <td>0.95577</td>\n",
       "      <td>0.0</td>\n",
       "      <td>8.14</td>\n",
       "      <td>0</td>\n",
       "      <td>0.538</td>\n",
       "      <td>6.047</td>\n",
       "      <td>88.8</td>\n",
       "      <td>4.4534</td>\n",
       "      <td>4</td>\n",
       "      <td>307.0</td>\n",
       "      <td>21.0</td>\n",
       "      <td>306.38</td>\n",
       "      <td>17.28</td>\n",
       "      <td>14.8</td>\n",
       "    </tr>\n",
       "    <tr>\n",
       "      <th>1</th>\n",
       "      <td>1</td>\n",
       "      <td>0.02875</td>\n",
       "      <td>28.0</td>\n",
       "      <td>15.04</td>\n",
       "      <td>0</td>\n",
       "      <td>0.464</td>\n",
       "      <td>6.211</td>\n",
       "      <td>28.9</td>\n",
       "      <td>3.6659</td>\n",
       "      <td>4</td>\n",
       "      <td>270.0</td>\n",
       "      <td>18.2</td>\n",
       "      <td>396.33</td>\n",
       "      <td>6.21</td>\n",
       "      <td>25.0</td>\n",
       "    </tr>\n",
       "    <tr>\n",
       "      <th>2</th>\n",
       "      <td>2</td>\n",
       "      <td>1.22358</td>\n",
       "      <td>0.0</td>\n",
       "      <td>19.58</td>\n",
       "      <td>0</td>\n",
       "      <td>0.605</td>\n",
       "      <td>6.943</td>\n",
       "      <td>97.4</td>\n",
       "      <td>1.8773</td>\n",
       "      <td>5</td>\n",
       "      <td>403.0</td>\n",
       "      <td>14.7</td>\n",
       "      <td>363.43</td>\n",
       "      <td>4.59</td>\n",
       "      <td>41.3</td>\n",
       "    </tr>\n",
       "    <tr>\n",
       "      <th>3</th>\n",
       "      <td>3</td>\n",
       "      <td>5.66637</td>\n",
       "      <td>0.0</td>\n",
       "      <td>18.10</td>\n",
       "      <td>0</td>\n",
       "      <td>0.740</td>\n",
       "      <td>6.219</td>\n",
       "      <td>100.0</td>\n",
       "      <td>2.0048</td>\n",
       "      <td>24</td>\n",
       "      <td>666.0</td>\n",
       "      <td>20.2</td>\n",
       "      <td>395.69</td>\n",
       "      <td>16.59</td>\n",
       "      <td>18.4</td>\n",
       "    </tr>\n",
       "    <tr>\n",
       "      <th>4</th>\n",
       "      <td>4</td>\n",
       "      <td>0.04544</td>\n",
       "      <td>0.0</td>\n",
       "      <td>3.24</td>\n",
       "      <td>0</td>\n",
       "      <td>0.460</td>\n",
       "      <td>6.144</td>\n",
       "      <td>32.2</td>\n",
       "      <td>5.8736</td>\n",
       "      <td>4</td>\n",
       "      <td>430.0</td>\n",
       "      <td>16.9</td>\n",
       "      <td>368.57</td>\n",
       "      <td>9.09</td>\n",
       "      <td>19.8</td>\n",
       "    </tr>\n",
       "  </tbody>\n",
       "</table>\n",
       "</div>"
      ],
      "text/plain": [
       "   ID     CRIM    ZN  INDUS  CHAS    NOX     RM    AGE     DIS  RAD    TAX  \\\n",
       "0   0  0.95577   0.0   8.14     0  0.538  6.047   88.8  4.4534    4  307.0   \n",
       "1   1  0.02875  28.0  15.04     0  0.464  6.211   28.9  3.6659    4  270.0   \n",
       "2   2  1.22358   0.0  19.58     0  0.605  6.943   97.4  1.8773    5  403.0   \n",
       "3   3  5.66637   0.0  18.10     0  0.740  6.219  100.0  2.0048   24  666.0   \n",
       "4   4  0.04544   0.0   3.24     0  0.460  6.144   32.2  5.8736    4  430.0   \n",
       "\n",
       "   PTRATIO       B  LSTAT  MEDV  \n",
       "0     21.0  306.38  17.28  14.8  \n",
       "1     18.2  396.33   6.21  25.0  \n",
       "2     14.7  363.43   4.59  41.3  \n",
       "3     20.2  395.69  16.59  18.4  \n",
       "4     16.9  368.57   9.09  19.8  "
      ]
     },
     "execution_count": 118,
     "metadata": {},
     "output_type": "execute_result"
    }
   ],
   "source": [
    "train_data.head()"
   ]
  },
  {
   "cell_type": "code",
   "execution_count": 119,
   "id": "05110958",
   "metadata": {},
   "outputs": [
    {
     "data": {
      "text/plain": [
       "ID         0\n",
       "CRIM       0\n",
       "ZN         0\n",
       "INDUS      0\n",
       "CHAS       0\n",
       "NOX        0\n",
       "RM         0\n",
       "AGE        0\n",
       "DIS        0\n",
       "RAD        0\n",
       "TAX        0\n",
       "PTRATIO    0\n",
       "B          0\n",
       "LSTAT      0\n",
       "dtype: int64"
      ]
     },
     "execution_count": 119,
     "metadata": {},
     "output_type": "execute_result"
    }
   ],
   "source": [
    "#To check for null values\n",
    "test_data.isnull().sum()"
   ]
  },
  {
   "cell_type": "code",
   "execution_count": 120,
   "id": "2575ef06",
   "metadata": {},
   "outputs": [
    {
     "data": {
      "text/plain": [
       "ID         0\n",
       "CRIM       0\n",
       "ZN         0\n",
       "INDUS      0\n",
       "CHAS       0\n",
       "NOX        0\n",
       "RM         0\n",
       "AGE        0\n",
       "DIS        0\n",
       "RAD        0\n",
       "TAX        0\n",
       "PTRATIO    0\n",
       "B          0\n",
       "LSTAT      0\n",
       "MEDV       0\n",
       "dtype: int64"
      ]
     },
     "execution_count": 120,
     "metadata": {},
     "output_type": "execute_result"
    }
   ],
   "source": [
    "train_data.isnull().sum()"
   ]
  },
  {
   "cell_type": "code",
   "execution_count": 121,
   "id": "8f5f56ff",
   "metadata": {},
   "outputs": [
    {
     "data": {
      "text/html": [
       "<div>\n",
       "<style scoped>\n",
       "    .dataframe tbody tr th:only-of-type {\n",
       "        vertical-align: middle;\n",
       "    }\n",
       "\n",
       "    .dataframe tbody tr th {\n",
       "        vertical-align: top;\n",
       "    }\n",
       "\n",
       "    .dataframe thead th {\n",
       "        text-align: right;\n",
       "    }\n",
       "</style>\n",
       "<table border=\"1\" class=\"dataframe\">\n",
       "  <thead>\n",
       "    <tr style=\"text-align: right;\">\n",
       "      <th></th>\n",
       "      <th>count</th>\n",
       "      <th>mean</th>\n",
       "      <th>std</th>\n",
       "      <th>min</th>\n",
       "      <th>25%</th>\n",
       "      <th>50%</th>\n",
       "      <th>75%</th>\n",
       "      <th>max</th>\n",
       "    </tr>\n",
       "  </thead>\n",
       "  <tbody>\n",
       "    <tr>\n",
       "      <th>ID</th>\n",
       "      <td>400.0</td>\n",
       "      <td>199.500000</td>\n",
       "      <td>115.614301</td>\n",
       "      <td>0.00000</td>\n",
       "      <td>99.75000</td>\n",
       "      <td>199.50000</td>\n",
       "      <td>299.250000</td>\n",
       "      <td>399.0000</td>\n",
       "    </tr>\n",
       "    <tr>\n",
       "      <th>CRIM</th>\n",
       "      <td>400.0</td>\n",
       "      <td>3.757191</td>\n",
       "      <td>9.155496</td>\n",
       "      <td>0.00906</td>\n",
       "      <td>0.07782</td>\n",
       "      <td>0.24217</td>\n",
       "      <td>3.543427</td>\n",
       "      <td>88.9762</td>\n",
       "    </tr>\n",
       "    <tr>\n",
       "      <th>ZN</th>\n",
       "      <td>400.0</td>\n",
       "      <td>10.970000</td>\n",
       "      <td>22.796261</td>\n",
       "      <td>0.00000</td>\n",
       "      <td>0.00000</td>\n",
       "      <td>0.00000</td>\n",
       "      <td>12.500000</td>\n",
       "      <td>95.0000</td>\n",
       "    </tr>\n",
       "    <tr>\n",
       "      <th>INDUS</th>\n",
       "      <td>400.0</td>\n",
       "      <td>10.936425</td>\n",
       "      <td>6.848042</td>\n",
       "      <td>0.46000</td>\n",
       "      <td>5.13000</td>\n",
       "      <td>8.56000</td>\n",
       "      <td>18.100000</td>\n",
       "      <td>27.7400</td>\n",
       "    </tr>\n",
       "    <tr>\n",
       "      <th>CHAS</th>\n",
       "      <td>400.0</td>\n",
       "      <td>0.072500</td>\n",
       "      <td>0.259639</td>\n",
       "      <td>0.00000</td>\n",
       "      <td>0.00000</td>\n",
       "      <td>0.00000</td>\n",
       "      <td>0.000000</td>\n",
       "      <td>1.0000</td>\n",
       "    </tr>\n",
       "    <tr>\n",
       "      <th>NOX</th>\n",
       "      <td>400.0</td>\n",
       "      <td>0.552817</td>\n",
       "      <td>0.115488</td>\n",
       "      <td>0.38500</td>\n",
       "      <td>0.44900</td>\n",
       "      <td>0.53200</td>\n",
       "      <td>0.624000</td>\n",
       "      <td>0.8710</td>\n",
       "    </tr>\n",
       "    <tr>\n",
       "      <th>RM</th>\n",
       "      <td>400.0</td>\n",
       "      <td>6.292165</td>\n",
       "      <td>0.709923</td>\n",
       "      <td>4.13800</td>\n",
       "      <td>5.87750</td>\n",
       "      <td>6.20850</td>\n",
       "      <td>6.620500</td>\n",
       "      <td>8.7800</td>\n",
       "    </tr>\n",
       "    <tr>\n",
       "      <th>AGE</th>\n",
       "      <td>400.0</td>\n",
       "      <td>68.086000</td>\n",
       "      <td>28.386888</td>\n",
       "      <td>2.90000</td>\n",
       "      <td>42.37500</td>\n",
       "      <td>76.95000</td>\n",
       "      <td>93.825000</td>\n",
       "      <td>100.0000</td>\n",
       "    </tr>\n",
       "    <tr>\n",
       "      <th>DIS</th>\n",
       "      <td>400.0</td>\n",
       "      <td>3.819462</td>\n",
       "      <td>2.132445</td>\n",
       "      <td>1.12960</td>\n",
       "      <td>2.10915</td>\n",
       "      <td>3.27210</td>\n",
       "      <td>5.214600</td>\n",
       "      <td>12.1265</td>\n",
       "    </tr>\n",
       "    <tr>\n",
       "      <th>RAD</th>\n",
       "      <td>400.0</td>\n",
       "      <td>9.462500</td>\n",
       "      <td>8.687478</td>\n",
       "      <td>1.00000</td>\n",
       "      <td>4.00000</td>\n",
       "      <td>5.00000</td>\n",
       "      <td>24.000000</td>\n",
       "      <td>24.0000</td>\n",
       "    </tr>\n",
       "    <tr>\n",
       "      <th>TAX</th>\n",
       "      <td>400.0</td>\n",
       "      <td>403.797500</td>\n",
       "      <td>169.656816</td>\n",
       "      <td>187.00000</td>\n",
       "      <td>277.00000</td>\n",
       "      <td>329.00000</td>\n",
       "      <td>666.000000</td>\n",
       "      <td>711.0000</td>\n",
       "    </tr>\n",
       "    <tr>\n",
       "      <th>PTRATIO</th>\n",
       "      <td>400.0</td>\n",
       "      <td>18.459000</td>\n",
       "      <td>2.148105</td>\n",
       "      <td>12.60000</td>\n",
       "      <td>17.40000</td>\n",
       "      <td>18.95000</td>\n",
       "      <td>20.200000</td>\n",
       "      <td>22.0000</td>\n",
       "    </tr>\n",
       "    <tr>\n",
       "      <th>B</th>\n",
       "      <td>400.0</td>\n",
       "      <td>359.455375</td>\n",
       "      <td>86.732906</td>\n",
       "      <td>0.32000</td>\n",
       "      <td>376.11500</td>\n",
       "      <td>391.57500</td>\n",
       "      <td>396.285000</td>\n",
       "      <td>396.9000</td>\n",
       "    </tr>\n",
       "    <tr>\n",
       "      <th>LSTAT</th>\n",
       "      <td>400.0</td>\n",
       "      <td>12.668525</td>\n",
       "      <td>7.207047</td>\n",
       "      <td>1.92000</td>\n",
       "      <td>6.99000</td>\n",
       "      <td>10.87500</td>\n",
       "      <td>16.910000</td>\n",
       "      <td>37.9700</td>\n",
       "    </tr>\n",
       "    <tr>\n",
       "      <th>MEDV</th>\n",
       "      <td>400.0</td>\n",
       "      <td>22.475750</td>\n",
       "      <td>9.218611</td>\n",
       "      <td>5.00000</td>\n",
       "      <td>17.10000</td>\n",
       "      <td>21.00000</td>\n",
       "      <td>25.000000</td>\n",
       "      <td>50.0000</td>\n",
       "    </tr>\n",
       "  </tbody>\n",
       "</table>\n",
       "</div>"
      ],
      "text/plain": [
       "         count        mean         std        min        25%        50%  \\\n",
       "ID       400.0  199.500000  115.614301    0.00000   99.75000  199.50000   \n",
       "CRIM     400.0    3.757191    9.155496    0.00906    0.07782    0.24217   \n",
       "ZN       400.0   10.970000   22.796261    0.00000    0.00000    0.00000   \n",
       "INDUS    400.0   10.936425    6.848042    0.46000    5.13000    8.56000   \n",
       "CHAS     400.0    0.072500    0.259639    0.00000    0.00000    0.00000   \n",
       "NOX      400.0    0.552817    0.115488    0.38500    0.44900    0.53200   \n",
       "RM       400.0    6.292165    0.709923    4.13800    5.87750    6.20850   \n",
       "AGE      400.0   68.086000   28.386888    2.90000   42.37500   76.95000   \n",
       "DIS      400.0    3.819462    2.132445    1.12960    2.10915    3.27210   \n",
       "RAD      400.0    9.462500    8.687478    1.00000    4.00000    5.00000   \n",
       "TAX      400.0  403.797500  169.656816  187.00000  277.00000  329.00000   \n",
       "PTRATIO  400.0   18.459000    2.148105   12.60000   17.40000   18.95000   \n",
       "B        400.0  359.455375   86.732906    0.32000  376.11500  391.57500   \n",
       "LSTAT    400.0   12.668525    7.207047    1.92000    6.99000   10.87500   \n",
       "MEDV     400.0   22.475750    9.218611    5.00000   17.10000   21.00000   \n",
       "\n",
       "                75%       max  \n",
       "ID       299.250000  399.0000  \n",
       "CRIM       3.543427   88.9762  \n",
       "ZN        12.500000   95.0000  \n",
       "INDUS     18.100000   27.7400  \n",
       "CHAS       0.000000    1.0000  \n",
       "NOX        0.624000    0.8710  \n",
       "RM         6.620500    8.7800  \n",
       "AGE       93.825000  100.0000  \n",
       "DIS        5.214600   12.1265  \n",
       "RAD       24.000000   24.0000  \n",
       "TAX      666.000000  711.0000  \n",
       "PTRATIO   20.200000   22.0000  \n",
       "B        396.285000  396.9000  \n",
       "LSTAT     16.910000   37.9700  \n",
       "MEDV      25.000000   50.0000  "
      ]
     },
     "execution_count": 121,
     "metadata": {},
     "output_type": "execute_result"
    }
   ],
   "source": [
    "train_data.describe().T"
   ]
  },
  {
   "cell_type": "code",
   "execution_count": 122,
   "id": "973cf1d9",
   "metadata": {},
   "outputs": [
    {
     "name": "stdout",
     "output_type": "stream",
     "text": [
      "<class 'pandas.core.frame.DataFrame'>\n",
      "RangeIndex: 400 entries, 0 to 399\n",
      "Data columns (total 15 columns):\n",
      " #   Column   Non-Null Count  Dtype  \n",
      "---  ------   --------------  -----  \n",
      " 0   ID       400 non-null    int64  \n",
      " 1   CRIM     400 non-null    float64\n",
      " 2   ZN       400 non-null    float64\n",
      " 3   INDUS    400 non-null    float64\n",
      " 4   CHAS     400 non-null    int64  \n",
      " 5   NOX      400 non-null    float64\n",
      " 6   RM       400 non-null    float64\n",
      " 7   AGE      400 non-null    float64\n",
      " 8   DIS      400 non-null    float64\n",
      " 9   RAD      400 non-null    int64  \n",
      " 10  TAX      400 non-null    float64\n",
      " 11  PTRATIO  400 non-null    float64\n",
      " 12  B        400 non-null    float64\n",
      " 13  LSTAT    400 non-null    float64\n",
      " 14  MEDV     400 non-null    float64\n",
      "dtypes: float64(12), int64(3)\n",
      "memory usage: 47.0 KB\n"
     ]
    }
   ],
   "source": [
    "train_data.info()"
   ]
  },
  {
   "cell_type": "code",
   "execution_count": 130,
   "id": "607e7667",
   "metadata": {},
   "outputs": [],
   "source": [
    "# Split the training data\n",
    "train_y = train_data['MEDV']\n",
    "train_x = train_data.drop('MEDV', axis = 1)"
   ]
  },
  {
   "cell_type": "code",
   "execution_count": 124,
   "id": "16e9fe9c",
   "metadata": {},
   "outputs": [
    {
     "data": {
      "image/png": "[encoded data removed]",
      "text/plain": [
       "<Figure size 1440x720 with 14 Axes>"
      ]
     },
     "metadata": {
      "needs_background": "light"
     },
     "output_type": "display_data"
    }
   ],
   "source": [
    "#checking outliers using boxplot\n",
    "import seaborn as sns\n",
    "import matplotlib.pyplot as plt\n",
    "from scipy import stats\n",
    "%matplotlib inline\n",
    "\n",
    "fig, axs = plt.subplots(ncols=7, nrows=2, figsize=(20, 10))\n",
    "count = 0\n",
    "axs = axs.flatten()\n",
    "for tar, var in train_x.items():\n",
    "    sns.boxplot(y = tar, data = train_x, ax = axs[count])\n",
    "    count = count+1\n",
    "plt.tight_layout(pad=0.4, w_pad=0.75, h_pad=4.0)\n",
    "plt.show()"
   ]
  },
  {
   "cell_type": "code",
   "execution_count": 125,
   "id": "b31896a1",
   "metadata": {},
   "outputs": [
    {
     "name": "stdout",
     "output_type": "stream",
     "text": [
      "Column ID outliers = 0.00%\n",
      "Column CRIM outliers = 13.25%\n",
      "Column ZN outliers = 13.00%\n",
      "Column INDUS outliers = 0.00%\n",
      "Column CHAS outliers = 100.00%\n",
      "Column NOX outliers = 0.00%\n",
      "Column RM outliers = 6.25%\n",
      "Column AGE outliers = 0.00%\n",
      "Column DIS outliers = 1.25%\n",
      "Column RAD outliers = 0.00%\n",
      "Column TAX outliers = 0.00%\n",
      "Column PTRATIO outliers = 3.25%\n",
      "Column B outliers = 14.50%\n",
      "Column LSTAT outliers = 1.50%\n"
     ]
    }
   ],
   "source": [
    "#outliers in percentage\n",
    "for tar,var in train_x.items():\n",
    "    q1 = var.quantile(0.25) #First Quartile of the param\n",
    "    q3 = var.quantile(0.75)   #Third Quartile of the param\n",
    "    iqr = q3 - q1     #Inter Quartile Range\n",
    "    var_col = var[(var <= q1 - 1.5 * iqr) | (var >= q3 + 1.5 * iqr)] #Check if the value is below the 1st Quartile or above the third quartile\n",
    "    perc = np.shape(var_col)[0]*100.0/np.shape(train_x)[0]     #Finding the percentage of outliers [(no. of outliers/total no. of rows) * 100]\n",
    "    print(\"Column %s outliers = %.2f%%\" % (tar, perc))   "
   ]
  },
  {
   "cell_type": "markdown",
   "id": "9fc812da",
   "metadata": {},
   "source": [
    "It is evident from the above Boxplot and the % Outliers that CRIM [`per capita crime rate by town`], ZN [`proportion of residential land zoned for lots over 25,000 sq.ft.`], RM [`average number of rooms per dwelling`], B [`1000(Bk - 0.63)^2 where Bk is the proportion of blacks by town`] are having large number of outliers."
   ]
  },
  {
   "cell_type": "code",
   "execution_count": 126,
   "id": "8d348d9a",
   "metadata": {},
   "outputs": [
    {
     "name": "stderr",
     "output_type": "stream",
     "text": [
      "C:\\Users\\aravi\\anaconda3\\lib\\site-packages\\seaborn\\distributions.py:2557: FutureWarning: `distplot` is a deprecated function and will be removed in a future version. Please adapt your code to use either `displot` (a figure-level function with similar flexibility) or `histplot` (an axes-level function for histograms).\n",
      "  warnings.warn(msg, FutureWarning)\n",
      "C:\\Users\\aravi\\anaconda3\\lib\\site-packages\\seaborn\\distributions.py:2557: FutureWarning: `distplot` is a deprecated function and will be removed in a future version. Please adapt your code to use either `displot` (a figure-level function with similar flexibility) or `histplot` (an axes-level function for histograms).\n",
      "  warnings.warn(msg, FutureWarning)\n",
      "C:\\Users\\aravi\\anaconda3\\lib\\site-packages\\seaborn\\distributions.py:2557: FutureWarning: `distplot` is a deprecated function and will be removed in a future version. Please adapt your code to use either `displot` (a figure-level function with similar flexibility) or `histplot` (an axes-level function for histograms).\n",
      "  warnings.warn(msg, FutureWarning)\n",
      "C:\\Users\\aravi\\anaconda3\\lib\\site-packages\\seaborn\\distributions.py:2557: FutureWarning: `distplot` is a deprecated function and will be removed in a future version. Please adapt your code to use either `displot` (a figure-level function with similar flexibility) or `histplot` (an axes-level function for histograms).\n",
      "  warnings.warn(msg, FutureWarning)\n",
      "C:\\Users\\aravi\\anaconda3\\lib\\site-packages\\seaborn\\distributions.py:2557: FutureWarning: `distplot` is a deprecated function and will be removed in a future version. Please adapt your code to use either `displot` (a figure-level function with similar flexibility) or `histplot` (an axes-level function for histograms).\n",
      "  warnings.warn(msg, FutureWarning)\n",
      "C:\\Users\\aravi\\anaconda3\\lib\\site-packages\\seaborn\\distributions.py:2557: FutureWarning: `distplot` is a deprecated function and will be removed in a future version. Please adapt your code to use either `displot` (a figure-level function with similar flexibility) or `histplot` (an axes-level function for histograms).\n",
      "  warnings.warn(msg, FutureWarning)\n",
      "C:\\Users\\aravi\\anaconda3\\lib\\site-packages\\seaborn\\distributions.py:2557: FutureWarning: `distplot` is a deprecated function and will be removed in a future version. Please adapt your code to use either `displot` (a figure-level function with similar flexibility) or `histplot` (an axes-level function for histograms).\n",
      "  warnings.warn(msg, FutureWarning)\n",
      "C:\\Users\\aravi\\anaconda3\\lib\\site-packages\\seaborn\\distributions.py:2557: FutureWarning: `distplot` is a deprecated function and will be removed in a future version. Please adapt your code to use either `displot` (a figure-level function with similar flexibility) or `histplot` (an axes-level function for histograms).\n",
      "  warnings.warn(msg, FutureWarning)\n",
      "C:\\Users\\aravi\\anaconda3\\lib\\site-packages\\seaborn\\distributions.py:2557: FutureWarning: `distplot` is a deprecated function and will be removed in a future version. Please adapt your code to use either `displot` (a figure-level function with similar flexibility) or `histplot` (an axes-level function for histograms).\n",
      "  warnings.warn(msg, FutureWarning)\n",
      "C:\\Users\\aravi\\anaconda3\\lib\\site-packages\\seaborn\\distributions.py:2557: FutureWarning: `distplot` is a deprecated function and will be removed in a future version. Please adapt your code to use either `displot` (a figure-level function with similar flexibility) or `histplot` (an axes-level function for histograms).\n",
      "  warnings.warn(msg, FutureWarning)\n",
      "C:\\Users\\aravi\\anaconda3\\lib\\site-packages\\seaborn\\distributions.py:2557: FutureWarning: `distplot` is a deprecated function and will be removed in a future version. Please adapt your code to use either `displot` (a figure-level function with similar flexibility) or `histplot` (an axes-level function for histograms).\n",
      "  warnings.warn(msg, FutureWarning)\n",
      "C:\\Users\\aravi\\anaconda3\\lib\\site-packages\\seaborn\\distributions.py:2557: FutureWarning: `distplot` is a deprecated function and will be removed in a future version. Please adapt your code to use either `displot` (a figure-level function with similar flexibility) or `histplot` (an axes-level function for histograms).\n",
      "  warnings.warn(msg, FutureWarning)\n",
      "C:\\Users\\aravi\\anaconda3\\lib\\site-packages\\seaborn\\distributions.py:2557: FutureWarning: `distplot` is a deprecated function and will be removed in a future version. Please adapt your code to use either `displot` (a figure-level function with similar flexibility) or `histplot` (an axes-level function for histograms).\n",
      "  warnings.warn(msg, FutureWarning)\n",
      "C:\\Users\\aravi\\anaconda3\\lib\\site-packages\\seaborn\\distributions.py:2557: FutureWarning: `distplot` is a deprecated function and will be removed in a future version. Please adapt your code to use either `displot` (a figure-level function with similar flexibility) or `histplot` (an axes-level function for histograms).\n",
      "  warnings.warn(msg, FutureWarning)\n"
     ]
    },
    {
     "data": {
      "image/png": "[encoded data removed]",
      "text/plain": [
       "<Figure size 1728x864 with 14 Axes>"
      ]
     },
     "metadata": {
      "needs_background": "light"
     },
     "output_type": "display_data"
    }
   ],
   "source": [
    "#Checking the skewness in data\n",
    "fig,axs = plt.subplots(ncols=7, nrows=2, figsize=(24,12))\n",
    "count = 0\n",
    "axs = axs.flatten()\n",
    "for tar,var in train_x.items():\n",
    "    sns.distplot(var,ax=axs[count])\n",
    "    count = count+1\n",
    "plt.tight_layout(pad=0.5, w_pad=0.6, h_pad=5.0)"
   ]
  },
  {
   "cell_type": "code",
   "execution_count": 127,
   "id": "259eff4f",
   "metadata": {},
   "outputs": [
    {
     "data": {
      "text/html": [
       "<div>\n",
       "<style scoped>\n",
       "    .dataframe tbody tr th:only-of-type {\n",
       "        vertical-align: middle;\n",
       "    }\n",
       "\n",
       "    .dataframe tbody tr th {\n",
       "        vertical-align: top;\n",
       "    }\n",
       "\n",
       "    .dataframe thead th {\n",
       "        text-align: right;\n",
       "    }\n",
       "</style>\n",
       "<table border=\"1\" class=\"dataframe\">\n",
       "  <thead>\n",
       "    <tr style=\"text-align: right;\">\n",
       "      <th></th>\n",
       "      <th>ID</th>\n",
       "      <th>CRIM</th>\n",
       "      <th>ZN</th>\n",
       "      <th>INDUS</th>\n",
       "      <th>CHAS</th>\n",
       "      <th>NOX</th>\n",
       "      <th>RM</th>\n",
       "      <th>AGE</th>\n",
       "      <th>DIS</th>\n",
       "      <th>RAD</th>\n",
       "      <th>TAX</th>\n",
       "      <th>PTRATIO</th>\n",
       "      <th>B</th>\n",
       "      <th>LSTAT</th>\n",
       "      <th>MEDV</th>\n",
       "    </tr>\n",
       "  </thead>\n",
       "  <tbody>\n",
       "    <tr>\n",
       "      <th>ID</th>\n",
       "      <td>1.000000</td>\n",
       "      <td>-0.009895</td>\n",
       "      <td>-0.037340</td>\n",
       "      <td>0.005167</td>\n",
       "      <td>-0.034274</td>\n",
       "      <td>-0.034631</td>\n",
       "      <td>0.061728</td>\n",
       "      <td>-0.031016</td>\n",
       "      <td>0.010385</td>\n",
       "      <td>-0.031669</td>\n",
       "      <td>-0.007460</td>\n",
       "      <td>0.056734</td>\n",
       "      <td>-0.030764</td>\n",
       "      <td>-0.019382</td>\n",
       "      <td>0.006956</td>\n",
       "    </tr>\n",
       "    <tr>\n",
       "      <th>CRIM</th>\n",
       "      <td>-0.009895</td>\n",
       "      <td>1.000000</td>\n",
       "      <td>-0.193548</td>\n",
       "      <td>0.409972</td>\n",
       "      <td>-0.060591</td>\n",
       "      <td>0.422635</td>\n",
       "      <td>-0.205928</td>\n",
       "      <td>0.353379</td>\n",
       "      <td>-0.376323</td>\n",
       "      <td>0.618538</td>\n",
       "      <td>0.577501</td>\n",
       "      <td>0.284967</td>\n",
       "      <td>-0.357581</td>\n",
       "      <td>0.442743</td>\n",
       "      <td>-0.393693</td>\n",
       "    </tr>\n",
       "    <tr>\n",
       "      <th>ZN</th>\n",
       "      <td>-0.037340</td>\n",
       "      <td>-0.193548</td>\n",
       "      <td>1.000000</td>\n",
       "      <td>-0.522218</td>\n",
       "      <td>-0.037318</td>\n",
       "      <td>-0.497638</td>\n",
       "      <td>0.290127</td>\n",
       "      <td>-0.554214</td>\n",
       "      <td>0.659949</td>\n",
       "      <td>-0.301067</td>\n",
       "      <td>-0.300221</td>\n",
       "      <td>-0.369974</td>\n",
       "      <td>0.161515</td>\n",
       "      <td>-0.402116</td>\n",
       "      <td>0.336805</td>\n",
       "    </tr>\n",
       "    <tr>\n",
       "      <th>INDUS</th>\n",
       "      <td>0.005167</td>\n",
       "      <td>0.409972</td>\n",
       "      <td>-0.522218</td>\n",
       "      <td>1.000000</td>\n",
       "      <td>0.075305</td>\n",
       "      <td>0.759132</td>\n",
       "      <td>-0.396865</td>\n",
       "      <td>0.631742</td>\n",
       "      <td>-0.695199</td>\n",
       "      <td>0.608088</td>\n",
       "      <td>0.731619</td>\n",
       "      <td>0.370383</td>\n",
       "      <td>-0.338007</td>\n",
       "      <td>0.624374</td>\n",
       "      <td>-0.502898</td>\n",
       "    </tr>\n",
       "    <tr>\n",
       "      <th>CHAS</th>\n",
       "      <td>-0.034274</td>\n",
       "      <td>-0.060591</td>\n",
       "      <td>-0.037318</td>\n",
       "      <td>0.075305</td>\n",
       "      <td>1.000000</td>\n",
       "      <td>0.084020</td>\n",
       "      <td>0.091267</td>\n",
       "      <td>0.083314</td>\n",
       "      <td>-0.102016</td>\n",
       "      <td>-0.023792</td>\n",
       "      <td>-0.045183</td>\n",
       "      <td>-0.137556</td>\n",
       "      <td>0.040732</td>\n",
       "      <td>-0.055326</td>\n",
       "      <td>0.182096</td>\n",
       "    </tr>\n",
       "    <tr>\n",
       "      <th>NOX</th>\n",
       "      <td>-0.034631</td>\n",
       "      <td>0.422635</td>\n",
       "      <td>-0.497638</td>\n",
       "      <td>0.759132</td>\n",
       "      <td>0.084020</td>\n",
       "      <td>1.000000</td>\n",
       "      <td>-0.283907</td>\n",
       "      <td>0.736349</td>\n",
       "      <td>-0.768775</td>\n",
       "      <td>0.602960</td>\n",
       "      <td>0.657875</td>\n",
       "      <td>0.154693</td>\n",
       "      <td>-0.382202</td>\n",
       "      <td>0.622209</td>\n",
       "      <td>-0.434271</td>\n",
       "    </tr>\n",
       "    <tr>\n",
       "      <th>RM</th>\n",
       "      <td>0.061728</td>\n",
       "      <td>-0.205928</td>\n",
       "      <td>0.290127</td>\n",
       "      <td>-0.396865</td>\n",
       "      <td>0.091267</td>\n",
       "      <td>-0.283907</td>\n",
       "      <td>1.000000</td>\n",
       "      <td>-0.198918</td>\n",
       "      <td>0.171596</td>\n",
       "      <td>-0.190030</td>\n",
       "      <td>-0.277064</td>\n",
       "      <td>-0.336408</td>\n",
       "      <td>0.120518</td>\n",
       "      <td>-0.634758</td>\n",
       "      <td>0.721489</td>\n",
       "    </tr>\n",
       "    <tr>\n",
       "      <th>AGE</th>\n",
       "      <td>-0.031016</td>\n",
       "      <td>0.353379</td>\n",
       "      <td>-0.554214</td>\n",
       "      <td>0.631742</td>\n",
       "      <td>0.083314</td>\n",
       "      <td>0.736349</td>\n",
       "      <td>-0.198918</td>\n",
       "      <td>1.000000</td>\n",
       "      <td>-0.750408</td>\n",
       "      <td>0.457339</td>\n",
       "      <td>0.499478</td>\n",
       "      <td>0.234894</td>\n",
       "      <td>-0.274650</td>\n",
       "      <td>0.593788</td>\n",
       "      <td>-0.354106</td>\n",
       "    </tr>\n",
       "    <tr>\n",
       "      <th>DIS</th>\n",
       "      <td>0.010385</td>\n",
       "      <td>-0.376323</td>\n",
       "      <td>0.659949</td>\n",
       "      <td>-0.695199</td>\n",
       "      <td>-0.102016</td>\n",
       "      <td>-0.768775</td>\n",
       "      <td>0.171596</td>\n",
       "      <td>-0.750408</td>\n",
       "      <td>1.000000</td>\n",
       "      <td>-0.492090</td>\n",
       "      <td>-0.520442</td>\n",
       "      <td>-0.185938</td>\n",
       "      <td>0.274036</td>\n",
       "      <td>-0.503383</td>\n",
       "      <td>0.235087</td>\n",
       "    </tr>\n",
       "    <tr>\n",
       "      <th>RAD</th>\n",
       "      <td>-0.031669</td>\n",
       "      <td>0.618538</td>\n",
       "      <td>-0.301067</td>\n",
       "      <td>0.608088</td>\n",
       "      <td>-0.023792</td>\n",
       "      <td>0.602960</td>\n",
       "      <td>-0.190030</td>\n",
       "      <td>0.457339</td>\n",
       "      <td>-0.492090</td>\n",
       "      <td>1.000000</td>\n",
       "      <td>0.911103</td>\n",
       "      <td>0.458930</td>\n",
       "      <td>-0.395845</td>\n",
       "      <td>0.503532</td>\n",
       "      <td>-0.386922</td>\n",
       "    </tr>\n",
       "    <tr>\n",
       "      <th>TAX</th>\n",
       "      <td>-0.007460</td>\n",
       "      <td>0.577501</td>\n",
       "      <td>-0.300221</td>\n",
       "      <td>0.731619</td>\n",
       "      <td>-0.045183</td>\n",
       "      <td>0.657875</td>\n",
       "      <td>-0.277064</td>\n",
       "      <td>0.499478</td>\n",
       "      <td>-0.520442</td>\n",
       "      <td>0.911103</td>\n",
       "      <td>1.000000</td>\n",
       "      <td>0.450978</td>\n",
       "      <td>-0.400353</td>\n",
       "      <td>0.552239</td>\n",
       "      <td>-0.479308</td>\n",
       "    </tr>\n",
       "    <tr>\n",
       "      <th>PTRATIO</th>\n",
       "      <td>0.056734</td>\n",
       "      <td>0.284967</td>\n",
       "      <td>-0.369974</td>\n",
       "      <td>0.370383</td>\n",
       "      <td>-0.137556</td>\n",
       "      <td>0.154693</td>\n",
       "      <td>-0.336408</td>\n",
       "      <td>0.234894</td>\n",
       "      <td>-0.185938</td>\n",
       "      <td>0.458930</td>\n",
       "      <td>0.450978</td>\n",
       "      <td>1.000000</td>\n",
       "      <td>-0.155939</td>\n",
       "      <td>0.352839</td>\n",
       "      <td>-0.495904</td>\n",
       "    </tr>\n",
       "    <tr>\n",
       "      <th>B</th>\n",
       "      <td>-0.030764</td>\n",
       "      <td>-0.357581</td>\n",
       "      <td>0.161515</td>\n",
       "      <td>-0.338007</td>\n",
       "      <td>0.040732</td>\n",
       "      <td>-0.382202</td>\n",
       "      <td>0.120518</td>\n",
       "      <td>-0.274650</td>\n",
       "      <td>0.274036</td>\n",
       "      <td>-0.395845</td>\n",
       "      <td>-0.400353</td>\n",
       "      <td>-0.155939</td>\n",
       "      <td>1.000000</td>\n",
       "      <td>-0.343821</td>\n",
       "      <td>0.317910</td>\n",
       "    </tr>\n",
       "    <tr>\n",
       "      <th>LSTAT</th>\n",
       "      <td>-0.019382</td>\n",
       "      <td>0.442743</td>\n",
       "      <td>-0.402116</td>\n",
       "      <td>0.624374</td>\n",
       "      <td>-0.055326</td>\n",
       "      <td>0.622209</td>\n",
       "      <td>-0.634758</td>\n",
       "      <td>0.593788</td>\n",
       "      <td>-0.503383</td>\n",
       "      <td>0.503532</td>\n",
       "      <td>0.552239</td>\n",
       "      <td>0.352839</td>\n",
       "      <td>-0.343821</td>\n",
       "      <td>1.000000</td>\n",
       "      <td>-0.725281</td>\n",
       "    </tr>\n",
       "    <tr>\n",
       "      <th>MEDV</th>\n",
       "      <td>0.006956</td>\n",
       "      <td>-0.393693</td>\n",
       "      <td>0.336805</td>\n",
       "      <td>-0.502898</td>\n",
       "      <td>0.182096</td>\n",
       "      <td>-0.434271</td>\n",
       "      <td>0.721489</td>\n",
       "      <td>-0.354106</td>\n",
       "      <td>0.235087</td>\n",
       "      <td>-0.386922</td>\n",
       "      <td>-0.479308</td>\n",
       "      <td>-0.495904</td>\n",
       "      <td>0.317910</td>\n",
       "      <td>-0.725281</td>\n",
       "      <td>1.000000</td>\n",
       "    </tr>\n",
       "  </tbody>\n",
       "</table>\n",
       "</div>"
      ],
      "text/plain": [
       "               ID      CRIM        ZN     INDUS      CHAS       NOX        RM  \\\n",
       "ID       1.000000 -0.009895 -0.037340  0.005167 -0.034274 -0.034631  0.061728   \n",
       "CRIM    -0.009895  1.000000 -0.193548  0.409972 -0.060591  0.422635 -0.205928   \n",
       "ZN      -0.037340 -0.193548  1.000000 -0.522218 -0.037318 -0.497638  0.290127   \n",
       "INDUS    0.005167  0.409972 -0.522218  1.000000  0.075305  0.759132 -0.396865   \n",
       "CHAS    -0.034274 -0.060591 -0.037318  0.075305  1.000000  0.084020  0.091267   \n",
       "NOX     -0.034631  0.422635 -0.497638  0.759132  0.084020  1.000000 -0.283907   \n",
       "RM       0.061728 -0.205928  0.290127 -0.396865  0.091267 -0.283907  1.000000   \n",
       "AGE     -0.031016  0.353379 -0.554214  0.631742  0.083314  0.736349 -0.198918   \n",
       "DIS      0.010385 -0.376323  0.659949 -0.695199 -0.102016 -0.768775  0.171596   \n",
       "RAD     -0.031669  0.618538 -0.301067  0.608088 -0.023792  0.602960 -0.190030   \n",
       "TAX     -0.007460  0.577501 -0.300221  0.731619 -0.045183  0.657875 -0.277064   \n",
       "PTRATIO  0.056734  0.284967 -0.369974  0.370383 -0.137556  0.154693 -0.336408   \n",
       "B       -0.030764 -0.357581  0.161515 -0.338007  0.040732 -0.382202  0.120518   \n",
       "LSTAT   -0.019382  0.442743 -0.402116  0.624374 -0.055326  0.622209 -0.634758   \n",
       "MEDV     0.006956 -0.393693  0.336805 -0.502898  0.182096 -0.434271  0.721489   \n",
       "\n",
       "              AGE       DIS       RAD       TAX   PTRATIO         B     LSTAT  \\\n",
       "ID      -0.031016  0.010385 -0.031669 -0.007460  0.056734 -0.030764 -0.019382   \n",
       "CRIM     0.353379 -0.376323  0.618538  0.577501  0.284967 -0.357581  0.442743   \n",
       "ZN      -0.554214  0.659949 -0.301067 -0.300221 -0.369974  0.161515 -0.402116   \n",
       "INDUS    0.631742 -0.695199  0.608088  0.731619  0.370383 -0.338007  0.624374   \n",
       "CHAS     0.083314 -0.102016 -0.023792 -0.045183 -0.137556  0.040732 -0.055326   \n",
       "NOX      0.736349 -0.768775  0.602960  0.657875  0.154693 -0.382202  0.622209   \n",
       "RM      -0.198918  0.171596 -0.190030 -0.277064 -0.336408  0.120518 -0.634758   \n",
       "AGE      1.000000 -0.750408  0.457339  0.499478  0.234894 -0.274650  0.593788   \n",
       "DIS     -0.750408  1.000000 -0.492090 -0.520442 -0.185938  0.274036 -0.503383   \n",
       "RAD      0.457339 -0.492090  1.000000  0.911103  0.458930 -0.395845  0.503532   \n",
       "TAX      0.499478 -0.520442  0.911103  1.000000  0.450978 -0.400353  0.552239   \n",
       "PTRATIO  0.234894 -0.185938  0.458930  0.450978  1.000000 -0.155939  0.352839   \n",
       "B       -0.274650  0.274036 -0.395845 -0.400353 -0.155939  1.000000 -0.343821   \n",
       "LSTAT    0.593788 -0.503383  0.503532  0.552239  0.352839 -0.343821  1.000000   \n",
       "MEDV    -0.354106  0.235087 -0.386922 -0.479308 -0.495904  0.317910 -0.725281   \n",
       "\n",
       "             MEDV  \n",
       "ID       0.006956  \n",
       "CRIM    -0.393693  \n",
       "ZN       0.336805  \n",
       "INDUS   -0.502898  \n",
       "CHAS     0.182096  \n",
       "NOX     -0.434271  \n",
       "RM       0.721489  \n",
       "AGE     -0.354106  \n",
       "DIS      0.235087  \n",
       "RAD     -0.386922  \n",
       "TAX     -0.479308  \n",
       "PTRATIO -0.495904  \n",
       "B        0.317910  \n",
       "LSTAT   -0.725281  \n",
       "MEDV     1.000000  "
      ]
     },
     "execution_count": 127,
     "metadata": {},
     "output_type": "execute_result"
    }
   ],
   "source": [
    "#checking the correlation between two features.\n",
    "corr=train_data.corr()\n",
    "corr"
   ]
  },
  {
   "cell_type": "code",
   "execution_count": 128,
   "id": "e4147306",
   "metadata": {},
   "outputs": [
    {
     "data": {
      "text/plain": [
       "<AxesSubplot:>"
      ]
     },
     "execution_count": 128,
     "metadata": {},
     "output_type": "execute_result"
    },
    {
     "data": {
      "image/png": "[encoded data removed]",
      "text/plain": [
       "<Figure size 1440x1440 with 2 Axes>"
      ]
     },
     "metadata": {
      "needs_background": "light"
     },
     "output_type": "display_data"
    }
   ],
   "source": [
    "#using a heatmap to see correlation between features more clearly.\n",
    "plt.figure(figsize=(20,20))\n",
    "sns.heatmap(corr.abs(), annot=True,cmap='Blues')"
   ]
  },
  {
   "cell_type": "markdown",
   "id": "209193b0",
   "metadata": {},
   "source": [
    "From the above figure, it is clear that INDUS, NOX, RM, TAX, PTRATIO, LSTAT are correlated (with value < 0.4) with MEDV(Price)."
   ]
  },
  {
   "cell_type": "code",
   "execution_count": 219,
   "id": "029eab7a",
   "metadata": {},
   "outputs": [],
   "source": [
    "#Split the training data\n",
    "from sklearn.model_selection import train_test_split\n",
    "x_train, x_test, y_train, y_test = train_test_split(train_x, train_y, test_size = 0.2, random_state = 10)"
   ]
  },
  {
   "cell_type": "code",
   "execution_count": 220,
   "id": "8a18cdbf",
   "metadata": {},
   "outputs": [],
   "source": [
    "#Standarddize features\n",
    "from sklearn.preprocessing import MinMaxScaler\n",
    "scaler = MinMaxScaler()\n",
    "\n",
    "x_train = scaler.fit_transform(x_train)\n",
    "\n",
    "x_test = scaler.transform(x_test)"
   ]
  },
  {
   "cell_type": "code",
   "execution_count": 221,
   "id": "dffa380d",
   "metadata": {},
   "outputs": [
    {
     "data": {
      "text/plain": [
       "array([[0.7593985 , 0.0593926 , 0.        , ..., 0.80851064, 0.95330072,\n",
       "        0.46712899],\n",
       "       [0.87468672, 0.21133578, 0.        , ..., 0.80851064, 0.07178879,\n",
       "        0.9001387 ],\n",
       "       [0.37343358, 0.07175751, 0.        , ..., 0.80851064, 0.7626204 ,\n",
       "        0.61525659],\n",
       "       ...,\n",
       "       [0.03759398, 0.1781696 , 0.        , ..., 0.80851064, 0.01855868,\n",
       "        0.62330097],\n",
       "       [0.31328321, 0.00185911, 0.        , ..., 0.63829787, 0.99079631,\n",
       "        0.4257975 ],\n",
       "       [0.6641604 , 0.00146728, 0.        , ..., 0.88297872, 0.98938424,\n",
       "        0.2887656 ]])"
      ]
     },
     "execution_count": 221,
     "metadata": {},
     "output_type": "execute_result"
    }
   ],
   "source": [
    "x_train"
   ]
  },
  {
   "cell_type": "markdown",
   "id": "e77cb129",
   "metadata": {},
   "source": [
    "Linear Regression"
   ]
  },
  {
   "cell_type": "code",
   "execution_count": 222,
   "id": "56ce3a43",
   "metadata": {},
   "outputs": [
    {
     "data": {
      "text/html": [
       "<style>#sk-container-id-6 {color: black;background-color: white;}#sk-container-id-6 pre{padding: 0;}#sk-container-id-6 div.sk-toggleable {background-color: white;}#sk-container-id-6 label.sk-toggleable__label {cursor: pointer;display: block;width: 100%;margin-bottom: 0;padding: 0.3em;box-sizing: border-box;text-align: center;}#sk-container-id-6 label.sk-toggleable__label-arrow:before {content: \"▸\";float: left;margin-right: 0.25em;color: #696969;}#sk-container-id-6 label.sk-toggleable__label-arrow:hover:before {color: black;}#sk-container-id-6 div.sk-estimator:hover label.sk-toggleable__label-arrow:before {color: black;}#sk-container-id-6 div.sk-toggleable__content {max-height: 0;max-width: 0;overflow: hidden;text-align: left;background-color: #f0f8ff;}#sk-container-id-6 div.sk-toggleable__content pre {margin: 0.2em;color: black;border-radius: 0.25em;background-color: #f0f8ff;}#sk-container-id-6 input.sk-toggleable__control:checked~div.sk-toggleable__content {max-height: 200px;max-width: 100%;overflow: auto;}#sk-container-id-6 input.sk-toggleable__control:checked~label.sk-toggleable__label-arrow:before {content: \"▾\";}#sk-container-id-6 div.sk-estimator input.sk-toggleable__control:checked~label.sk-toggleable__label {background-color: #d4ebff;}#sk-container-id-6 div.sk-label input.sk-toggleable__control:checked~label.sk-toggleable__label {background-color: #d4ebff;}#sk-container-id-6 input.sk-hidden--visually {border: 0;clip: rect(1px 1px 1px 1px);clip: rect(1px, 1px, 1px, 1px);height: 1px;margin: -1px;overflow: hidden;padding: 0;position: absolute;width: 1px;}#sk-container-id-6 div.sk-estimator {font-family: monospace;background-color: #f0f8ff;border: 1px dotted black;border-radius: 0.25em;box-sizing: border-box;margin-bottom: 0.5em;}#sk-container-id-6 div.sk-estimator:hover {background-color: #d4ebff;}#sk-container-id-6 div.sk-parallel-item::after {content: \"\";width: 100%;border-bottom: 1px solid gray;flex-grow: 1;}#sk-container-id-6 div.sk-label:hover label.sk-toggleable__label {background-color: #d4ebff;}#sk-container-id-6 div.sk-serial::before {content: \"\";position: absolute;border-left: 1px solid gray;box-sizing: border-box;top: 0;bottom: 0;left: 50%;z-index: 0;}#sk-container-id-6 div.sk-serial {display: flex;flex-direction: column;align-items: center;background-color: white;padding-right: 0.2em;padding-left: 0.2em;position: relative;}#sk-container-id-6 div.sk-item {position: relative;z-index: 1;}#sk-container-id-6 div.sk-parallel {display: flex;align-items: stretch;justify-content: center;background-color: white;position: relative;}#sk-container-id-6 div.sk-item::before, #sk-container-id-6 div.sk-parallel-item::before {content: \"\";position: absolute;border-left: 1px solid gray;box-sizing: border-box;top: 0;bottom: 0;left: 50%;z-index: -1;}#sk-container-id-6 div.sk-parallel-item {display: flex;flex-direction: column;z-index: 1;position: relative;background-color: white;}#sk-container-id-6 div.sk-parallel-item:first-child::after {align-self: flex-end;width: 50%;}#sk-container-id-6 div.sk-parallel-item:last-child::after {align-self: flex-start;width: 50%;}#sk-container-id-6 div.sk-parallel-item:only-child::after {width: 0;}#sk-container-id-6 div.sk-dashed-wrapped {border: 1px dashed gray;margin: 0 0.4em 0.5em 0.4em;box-sizing: border-box;padding-bottom: 0.4em;background-color: white;}#sk-container-id-6 div.sk-label label {font-family: monospace;font-weight: bold;display: inline-block;line-height: 1.2em;}#sk-container-id-6 div.sk-label-container {text-align: center;}#sk-container-id-6 div.sk-container {/* jupyter's `normalize.less` sets `[hidden] { display: none; }` but bootstrap.min.css set `[hidden] { display: none !important; }` so we also need the `!important` here to be able to override the default hidden behavior on the sphinx rendered scikit-learn.org. See: https://github.com/scikit-learn/scikit-learn/issues/21755 */display: inline-block !important;position: relative;}#sk-container-id-6 div.sk-text-repr-fallback {display: none;}</style><div id=\"sk-container-id-6\" class=\"sk-top-container\"><div class=\"sk-text-repr-fallback\"><pre>LinearRegression()</pre><b>In a Jupyter environment, please rerun this cell to show the HTML representation or trust the notebook. <br />On GitHub, the HTML representation is unable to render, please try loading this page with nbviewer.org.</b></div><div class=\"sk-container\" hidden><div class=\"sk-item\"><div class=\"sk-estimator sk-toggleable\"><input class=\"sk-toggleable__control sk-hidden--visually\" id=\"sk-estimator-id-6\" type=\"checkbox\" checked><label for=\"sk-estimator-id-6\" class=\"sk-toggleable__label sk-toggleable__label-arrow\">LinearRegression</label><div class=\"sk-toggleable__content\"><pre>LinearRegression()</pre></div></div></div></div></div>"
      ],
      "text/plain": [
       "LinearRegression()"
      ]
     },
     "execution_count": 222,
     "metadata": {},
     "output_type": "execute_result"
    }
   ],
   "source": [
    "# Import library for Linear Regression\n",
    "from sklearn.linear_model import LinearRegression\n",
    "\n",
    "# Create a Linear regressor\n",
    "lm = LinearRegression()\n",
    "\n",
    "# Train the model using the training sets \n",
    "lm.fit(x_train, y_train)"
   ]
  },
  {
   "cell_type": "code",
   "execution_count": 223,
   "id": "297a0e83",
   "metadata": {},
   "outputs": [
    {
     "data": {
      "text/plain": [
       "27.368879883520727"
      ]
     },
     "execution_count": 223,
     "metadata": {},
     "output_type": "execute_result"
    }
   ],
   "source": [
    "# Value of y intercept\n",
    "lm.intercept_"
   ]
  },
  {
   "cell_type": "code",
   "execution_count": 224,
   "id": "e0636e7b",
   "metadata": {},
   "outputs": [
    {
     "data": {
      "text/html": [
       "<div>\n",
       "<style scoped>\n",
       "    .dataframe tbody tr th:only-of-type {\n",
       "        vertical-align: middle;\n",
       "    }\n",
       "\n",
       "    .dataframe tbody tr th {\n",
       "        vertical-align: top;\n",
       "    }\n",
       "\n",
       "    .dataframe thead th {\n",
       "        text-align: right;\n",
       "    }\n",
       "</style>\n",
       "<table border=\"1\" class=\"dataframe\">\n",
       "  <thead>\n",
       "    <tr style=\"text-align: right;\">\n",
       "      <th></th>\n",
       "      <th>Attribute</th>\n",
       "      <th>Coeff_LinReg</th>\n",
       "    </tr>\n",
       "  </thead>\n",
       "  <tbody>\n",
       "    <tr>\n",
       "      <th>0</th>\n",
       "      <td>ID</td>\n",
       "      <td>0.299626</td>\n",
       "    </tr>\n",
       "    <tr>\n",
       "      <th>1</th>\n",
       "      <td>CRIM</td>\n",
       "      <td>-13.244354</td>\n",
       "    </tr>\n",
       "    <tr>\n",
       "      <th>2</th>\n",
       "      <td>ZN</td>\n",
       "      <td>5.577593</td>\n",
       "    </tr>\n",
       "    <tr>\n",
       "      <th>3</th>\n",
       "      <td>INDUS</td>\n",
       "      <td>0.047677</td>\n",
       "    </tr>\n",
       "    <tr>\n",
       "      <th>4</th>\n",
       "      <td>CHAS</td>\n",
       "      <td>3.543189</td>\n",
       "    </tr>\n",
       "    <tr>\n",
       "      <th>5</th>\n",
       "      <td>NOX</td>\n",
       "      <td>-8.192706</td>\n",
       "    </tr>\n",
       "    <tr>\n",
       "      <th>6</th>\n",
       "      <td>RM</td>\n",
       "      <td>16.800633</td>\n",
       "    </tr>\n",
       "    <tr>\n",
       "      <th>7</th>\n",
       "      <td>AGE</td>\n",
       "      <td>0.004226</td>\n",
       "    </tr>\n",
       "    <tr>\n",
       "      <th>8</th>\n",
       "      <td>DIS</td>\n",
       "      <td>-15.991128</td>\n",
       "    </tr>\n",
       "    <tr>\n",
       "      <th>9</th>\n",
       "      <td>RAD</td>\n",
       "      <td>8.145365</td>\n",
       "    </tr>\n",
       "    <tr>\n",
       "      <th>10</th>\n",
       "      <td>TAX</td>\n",
       "      <td>-7.068082</td>\n",
       "    </tr>\n",
       "    <tr>\n",
       "      <th>11</th>\n",
       "      <td>PTRATIO</td>\n",
       "      <td>-8.770446</td>\n",
       "    </tr>\n",
       "    <tr>\n",
       "      <th>12</th>\n",
       "      <td>B</td>\n",
       "      <td>4.390892</td>\n",
       "    </tr>\n",
       "    <tr>\n",
       "      <th>13</th>\n",
       "      <td>LSTAT</td>\n",
       "      <td>-16.688151</td>\n",
       "    </tr>\n",
       "  </tbody>\n",
       "</table>\n",
       "</div>"
      ],
      "text/plain": [
       "   Attribute Coeff_LinReg\n",
       "0         ID     0.299626\n",
       "1       CRIM   -13.244354\n",
       "2         ZN     5.577593\n",
       "3      INDUS     0.047677\n",
       "4       CHAS     3.543189\n",
       "5        NOX    -8.192706\n",
       "6         RM    16.800633\n",
       "7        AGE     0.004226\n",
       "8        DIS   -15.991128\n",
       "9        RAD     8.145365\n",
       "10       TAX    -7.068082\n",
       "11   PTRATIO    -8.770446\n",
       "12         B     4.390892\n",
       "13     LSTAT   -16.688151"
      ]
     },
     "execution_count": 224,
     "metadata": {},
     "output_type": "execute_result"
    }
   ],
   "source": [
    "#Converting the coefficient values to a dataframe\n",
    "coefficients = pd.DataFrame([train_x.columns,lm.coef_]).T\n",
    "coefficients = coefficients.rename(columns={0: 'Attribute', 1: 'Coeff_LinReg'})\n",
    "coefficients"
   ]
  },
  {
   "cell_type": "code",
   "execution_count": 273,
   "id": "0df94443",
   "metadata": {},
   "outputs": [
    {
     "name": "stdout",
     "output_type": "stream",
     "text": [
      "R^2 = 0.7292219911372129\n",
      "Adjusted R^2 = 0.7167928366320357\n",
      "MAE = 3.208440654918108\n",
      "MSE = 22.849920018956063\n",
      "RMSE = 4.780158995154457\n"
     ]
    }
   ],
   "source": [
    "from sklearn import metrics\n",
    "\n",
    "#predicting on training data\n",
    "y_pred=lm.predict(x_train)\n",
    "\n",
    "#Model Evaluation and error calculations\n",
    "print('R^2 =',metrics.r2_score(y_train, y_pred))\n",
    "print('Adjusted R^2 =',1 - (1-metrics.r2_score(y_train, y_pred))*(len(y_train)-1)/(len(y_train)-x_train.shape[1]-1))\n",
    "print('MAE =',metrics.mean_absolute_error(y_train, y_pred))\n",
    "print('MSE =',metrics.mean_squared_error(y_train, y_pred))\n",
    "print('RMSE =',np.sqrt(metrics.mean_squared_error(y_train, y_pred)))"
   ]
  },
  {
   "cell_type": "code",
   "execution_count": 274,
   "id": "865fcf88",
   "metadata": {},
   "outputs": [],
   "source": [
    "#Model Evaluation and error calculations\n",
    "linreg_calc = []\n",
    "linreg_calc.append(metrics.r2_score(y_train, y_pred))\n",
    "linreg_calc.append(1 - (1-metrics.r2_score(y_train, y_pred))*(len(y_train)-1)/(len(y_train)-x_train.shape[1]-1))\n",
    "linreg_calc.append(metrics.mean_absolute_error(y_train, y_pred))\n",
    "linreg_calc.append(metrics.mean_squared_error(y_train, y_pred))\n",
    "linreg_calc.append(np.sqrt(metrics.mean_squared_error(y_train, y_pred)))"
   ]
  },
  {
   "cell_type": "code",
   "execution_count": 275,
   "id": "c8924352",
   "metadata": {},
   "outputs": [
    {
     "data": {
      "text/plain": [
       "[0.7292219911372129,\n",
       " 0.7167928366320357,\n",
       " 3.208440654918108,\n",
       " 22.849920018956063,\n",
       " 4.780158995154457]"
      ]
     },
     "execution_count": 275,
     "metadata": {},
     "output_type": "execute_result"
    }
   ],
   "source": [
    "linreg_calc"
   ]
  },
  {
   "cell_type": "code",
   "execution_count": 226,
   "id": "e2a4befd",
   "metadata": {},
   "outputs": [
    {
     "name": "stdout",
     "output_type": "stream",
     "text": [
      "R^2 = 0.7292219911372129\n",
      "Adjusted R^2 = 0.7167928366320357\n",
      "MAE = 3.208440654918108\n",
      "MSE = 22.849920018956063\n",
      "RMSE = 4.780158995154457\n"
     ]
    }
   ],
   "source": [
    "from sklearn import metrics\n",
    "\n",
    "#predicting on training data\n",
    "y_pred=lm.predict(x_train)\n",
    "#Model Evaluation and error calculations\n",
    "print('R^2 =',metrics.r2_score(y_train, y_pred))\n",
    "print('Adjusted R^2 =',1 - (1-metrics.r2_score(y_train, y_pred))*(len(y_train)-1)/(len(y_train)-x_train.shape[1]-1))\n",
    "print('MAE =',metrics.mean_absolute_error(y_train, y_pred))\n",
    "print('MSE =',metrics.mean_squared_error(y_train, y_pred))\n",
    "print('RMSE =',np.sqrt(metrics.mean_squared_error(y_train, y_pred)))"
   ]
  },
  {
   "cell_type": "code",
   "execution_count": 227,
   "id": "e5e30ec7",
   "metadata": {},
   "outputs": [
    {
     "data": {
      "image/png": "[encoded data removed]",
      "text/plain": [
       "<Figure size 432x288 with 1 Axes>"
      ]
     },
     "metadata": {
      "needs_background": "light"
     },
     "output_type": "display_data"
    }
   ],
   "source": [
    "# Visualizing the differences between actual prices and predicted values\n",
    "plt.scatter(y_train, y_pred)\n",
    "plt.xlabel(\"Actual Price\")\n",
    "plt.ylabel(\"Predicted Price\")\n",
    "plt.title(\"Actual Price vs Predicted Price\")\n",
    "plt.show()"
   ]
  },
  {
   "cell_type": "code",
   "execution_count": 208,
   "id": "edaf729a",
   "metadata": {},
   "outputs": [
    {
     "name": "stdout",
     "output_type": "stream",
     "text": [
      "R^2: 0.7957763026550397\n",
      "Adjusted R^2: 0.7517896601499714\n",
      "MAE: 3.139441730182466\n",
      "MSE: 17.614459508657383\n",
      "RMSE: 4.1969583639413655\n"
     ]
    }
   ],
   "source": [
    "#predicting the data using above model\n",
    "y_tpred= lm.predict(x_test)\n",
    "#Model Evaluation\n",
    "tpred_linreg = metrics.r2_score(y_test, y_tpred)\n",
    "print('R^2:', tpred_linreg)\n",
    "print('Adjusted R^2:',1 - (1-metrics.r2_score(y_test, y_tpred))*(len(y_test)-1)/(len(y_test)-x_test.shape[1]-1))\n",
    "print('MAE:',metrics.mean_absolute_error(y_test, y_tpred))\n",
    "print('MSE:',metrics.mean_squared_error(y_test, y_tpred))\n",
    "print('RMSE:',np.sqrt(metrics.mean_squared_error(y_test, y_tpred)))"
   ]
  },
  {
   "cell_type": "code",
   "execution_count": 228,
   "id": "d3ea4621",
   "metadata": {},
   "outputs": [],
   "source": [
    "test_data = scaler.fit_transform(test_data)"
   ]
  },
  {
   "cell_type": "code",
   "execution_count": 229,
   "id": "5d8d304d",
   "metadata": {},
   "outputs": [],
   "source": [
    "#predicting on training data\n",
    "y_pred_linreg = lm.predict(test_data)"
   ]
  },
  {
   "cell_type": "code",
   "execution_count": 230,
   "id": "def47fb5",
   "metadata": {},
   "outputs": [
    {
     "data": {
      "text/plain": [
       "array([23.46837704, 24.86753889, 15.45931206, 18.98494742, 23.80702368,\n",
       "       22.51721493, 20.19613709, 22.7735887 , 34.27079398, 19.95728214,\n",
       "       26.51423896, 24.89821105, 22.00149141, 19.03698637, 22.59234939,\n",
       "       26.43871944, 18.74695106, 24.07345984, 19.23532581, 23.31540967,\n",
       "       27.33402861, 38.03212565, 22.15814038, 10.53600296, 15.55842149,\n",
       "       10.05254123, 17.33515528, 21.98166543, 23.85862749, 14.56932764,\n",
       "       36.9616564 , 20.17084196, 20.22247963, 17.98392404, 27.89992135,\n",
       "       18.47279569, 30.27346606, 30.2643153 , 40.77731213, 22.72749192,\n",
       "       18.59062802, 34.3407022 , 26.56306214, 18.47977402, 23.7709535 ,\n",
       "       27.72210238, 19.49844265, 24.99799787, 16.64076378, 15.37095735,\n",
       "       19.20296049, 34.8026294 , 26.46029334, -9.7119449 , 12.24617112,\n",
       "       16.43139921, 22.11195156, 13.23716304,  8.63570441, 20.22149722,\n",
       "       21.10798896, 22.21473658, 32.37794693, 23.56682453, 37.76282324,\n",
       "       32.90323868, 15.02259744, 23.32691012, 26.15647298, 15.95099513,\n",
       "       21.02350675, 19.49982628, 29.4474126 , 14.55555876, 21.82448811,\n",
       "       18.24061882, 19.89291187, 31.98726197, 20.15467292, 34.40046718,\n",
       "       32.47349291, 43.06494938, 27.86468653, 31.66308834, 18.27529092,\n",
       "       33.21948417, 16.54265764, 30.18990356, 16.57379308, 19.36355954,\n",
       "       14.68235897, 21.55164798, 15.04687008, 23.38478837, 21.21545437,\n",
       "       25.70930544, 35.8150669 ,  5.37029906, 15.63631476, 29.36401111,\n",
       "       22.78083387, 18.41567882, 26.97647638, 37.01254989, 15.45293329])"
      ]
     },
     "execution_count": 230,
     "metadata": {},
     "output_type": "execute_result"
    }
   ],
   "source": [
    "y_pred_linreg"
   ]
  },
  {
   "cell_type": "code",
   "execution_count": 151,
   "id": "bf7ef502",
   "metadata": {},
   "outputs": [
    {
     "data": {
      "text/plain": [
       "array([23.94198685, 24.51498019, 15.6024116 , 19.34640615, 22.17141337,\n",
       "       22.00504884, 18.4665696 , 22.40156308, 34.15067042, 19.64824591,\n",
       "       25.32620177, 22.84456358, 20.48421916, 18.49592258, 20.47876441,\n",
       "       27.38201705, 17.31527138, 24.0414532 , 19.14086065, 22.43258602,\n",
       "       25.43404341, 35.60877538, 24.25206737, 10.69288691, 14.45187274,\n",
       "       10.47770079, 17.14411706, 20.45058742, 23.26217127, 16.11470861,\n",
       "       36.86828004, 18.7583304 , 19.38206234, 18.97947659, 26.85173528,\n",
       "       20.02792299, 30.40683609, 29.5692268 , 38.57214923, 24.46397842,\n",
       "       18.20664544, 32.77638023, 24.65572304, 18.23927924, 23.14083071,\n",
       "       25.93040967, 19.35878632, 23.84997164, 14.98574168, 13.93321155,\n",
       "       19.26723469, 34.51432455, 25.10101083, -4.60966711, 12.61811463,\n",
       "       15.99903192, 20.60890924, 12.56004645,  9.41756242, 19.13213255,\n",
       "       19.66157507, 20.39529912, 33.64033759, 24.22817951, 35.20756537,\n",
       "       32.45389314, 14.78720486, 21.59904957, 24.94483129, 16.90302627,\n",
       "       20.30456076, 18.41187702, 29.64059616, 14.17728716, 20.43769045,\n",
       "       17.42412002, 19.89773421, 31.97619666, 18.02470793, 33.39169985,\n",
       "       32.43639671, 42.20456619, 27.62045918, 30.64026726, 17.86760329,\n",
       "       31.9754423 , 16.91769619, 28.5950229 , 15.62348027, 18.97038847,\n",
       "       14.34330174, 20.12546434, 14.27370411, 22.43232973, 20.34341615,\n",
       "       24.39861741, 36.05723107,  3.80478302, 13.74468657, 27.50995334,\n",
       "       23.8819252 , 17.60111594, 27.31672163, 36.18478389, 14.50933408])"
      ]
     },
     "execution_count": 151,
     "metadata": {},
     "output_type": "execute_result"
    }
   ],
   "source": [
    "y_linreg = y_pred_test_1"
   ]
  },
  {
   "cell_type": "markdown",
   "id": "daf47990",
   "metadata": {},
   "source": [
    "Ridge Regression"
   ]
  },
  {
   "cell_type": "code",
   "execution_count": 231,
   "id": "87a2a58d",
   "metadata": {},
   "outputs": [
    {
     "data": {
      "text/html": [
       "<style>#sk-container-id-7 {color: black;background-color: white;}#sk-container-id-7 pre{padding: 0;}#sk-container-id-7 div.sk-toggleable {background-color: white;}#sk-container-id-7 label.sk-toggleable__label {cursor: pointer;display: block;width: 100%;margin-bottom: 0;padding: 0.3em;box-sizing: border-box;text-align: center;}#sk-container-id-7 label.sk-toggleable__label-arrow:before {content: \"▸\";float: left;margin-right: 0.25em;color: #696969;}#sk-container-id-7 label.sk-toggleable__label-arrow:hover:before {color: black;}#sk-container-id-7 div.sk-estimator:hover label.sk-toggleable__label-arrow:before {color: black;}#sk-container-id-7 div.sk-toggleable__content {max-height: 0;max-width: 0;overflow: hidden;text-align: left;background-color: #f0f8ff;}#sk-container-id-7 div.sk-toggleable__content pre {margin: 0.2em;color: black;border-radius: 0.25em;background-color: #f0f8ff;}#sk-container-id-7 input.sk-toggleable__control:checked~div.sk-toggleable__content {max-height: 200px;max-width: 100%;overflow: auto;}#sk-container-id-7 input.sk-toggleable__control:checked~label.sk-toggleable__label-arrow:before {content: \"▾\";}#sk-container-id-7 div.sk-estimator input.sk-toggleable__control:checked~label.sk-toggleable__label {background-color: #d4ebff;}#sk-container-id-7 div.sk-label input.sk-toggleable__control:checked~label.sk-toggleable__label {background-color: #d4ebff;}#sk-container-id-7 input.sk-hidden--visually {border: 0;clip: rect(1px 1px 1px 1px);clip: rect(1px, 1px, 1px, 1px);height: 1px;margin: -1px;overflow: hidden;padding: 0;position: absolute;width: 1px;}#sk-container-id-7 div.sk-estimator {font-family: monospace;background-color: #f0f8ff;border: 1px dotted black;border-radius: 0.25em;box-sizing: border-box;margin-bottom: 0.5em;}#sk-container-id-7 div.sk-estimator:hover {background-color: #d4ebff;}#sk-container-id-7 div.sk-parallel-item::after {content: \"\";width: 100%;border-bottom: 1px solid gray;flex-grow: 1;}#sk-container-id-7 div.sk-label:hover label.sk-toggleable__label {background-color: #d4ebff;}#sk-container-id-7 div.sk-serial::before {content: \"\";position: absolute;border-left: 1px solid gray;box-sizing: border-box;top: 0;bottom: 0;left: 50%;z-index: 0;}#sk-container-id-7 div.sk-serial {display: flex;flex-direction: column;align-items: center;background-color: white;padding-right: 0.2em;padding-left: 0.2em;position: relative;}#sk-container-id-7 div.sk-item {position: relative;z-index: 1;}#sk-container-id-7 div.sk-parallel {display: flex;align-items: stretch;justify-content: center;background-color: white;position: relative;}#sk-container-id-7 div.sk-item::before, #sk-container-id-7 div.sk-parallel-item::before {content: \"\";position: absolute;border-left: 1px solid gray;box-sizing: border-box;top: 0;bottom: 0;left: 50%;z-index: -1;}#sk-container-id-7 div.sk-parallel-item {display: flex;flex-direction: column;z-index: 1;position: relative;background-color: white;}#sk-container-id-7 div.sk-parallel-item:first-child::after {align-self: flex-end;width: 50%;}#sk-container-id-7 div.sk-parallel-item:last-child::after {align-self: flex-start;width: 50%;}#sk-container-id-7 div.sk-parallel-item:only-child::after {width: 0;}#sk-container-id-7 div.sk-dashed-wrapped {border: 1px dashed gray;margin: 0 0.4em 0.5em 0.4em;box-sizing: border-box;padding-bottom: 0.4em;background-color: white;}#sk-container-id-7 div.sk-label label {font-family: monospace;font-weight: bold;display: inline-block;line-height: 1.2em;}#sk-container-id-7 div.sk-label-container {text-align: center;}#sk-container-id-7 div.sk-container {/* jupyter's `normalize.less` sets `[hidden] { display: none; }` but bootstrap.min.css set `[hidden] { display: none !important; }` so we also need the `!important` here to be able to override the default hidden behavior on the sphinx rendered scikit-learn.org. See: https://github.com/scikit-learn/scikit-learn/issues/21755 */display: inline-block !important;position: relative;}#sk-container-id-7 div.sk-text-repr-fallback {display: none;}</style><div id=\"sk-container-id-7\" class=\"sk-top-container\"><div class=\"sk-text-repr-fallback\"><pre>Ridge(alpha=0.99)</pre><b>In a Jupyter environment, please rerun this cell to show the HTML representation or trust the notebook. <br />On GitHub, the HTML representation is unable to render, please try loading this page with nbviewer.org.</b></div><div class=\"sk-container\" hidden><div class=\"sk-item\"><div class=\"sk-estimator sk-toggleable\"><input class=\"sk-toggleable__control sk-hidden--visually\" id=\"sk-estimator-id-7\" type=\"checkbox\" checked><label for=\"sk-estimator-id-7\" class=\"sk-toggleable__label sk-toggleable__label-arrow\">Ridge</label><div class=\"sk-toggleable__content\"><pre>Ridge(alpha=0.99)</pre></div></div></div></div></div>"
      ],
      "text/plain": [
       "Ridge(alpha=0.99)"
      ]
     },
     "execution_count": 231,
     "metadata": {},
     "output_type": "execute_result"
    }
   ],
   "source": [
    "# importing ridge regression from sklearn library\n",
    "from sklearn.linear_model import Ridge\n",
    "\n",
    "# Train the model\n",
    "ridgeR = Ridge(alpha=.99)\n",
    "ridgeR.fit(x_train,y_train)"
   ]
  },
  {
   "cell_type": "code",
   "execution_count": 232,
   "id": "3d9da44f",
   "metadata": {},
   "outputs": [
    {
     "name": "stdout",
     "output_type": "stream",
     "text": [
      "intercept =  26.30184101937248\n"
     ]
    }
   ],
   "source": [
    "# intercepts\n",
    "print(\"intercept = \", ridgeR.intercept_)"
   ]
  },
  {
   "cell_type": "code",
   "execution_count": 233,
   "id": "aeff1370",
   "metadata": {},
   "outputs": [],
   "source": [
    "#Converting the coefficient values to a dataframe\n",
    "coeff_ridge = pd.DataFrame([ridgeR.coef_]).T\n",
    "coeff_ridge = coeff_ridge.rename(columns={0: 'Coeff_ridge'})\n",
    "coefficients = coefficients.join(coeff_ridge)"
   ]
  },
  {
   "cell_type": "code",
   "execution_count": 234,
   "id": "3e35215c",
   "metadata": {},
   "outputs": [
    {
     "data": {
      "text/html": [
       "<div>\n",
       "<style scoped>\n",
       "    .dataframe tbody tr th:only-of-type {\n",
       "        vertical-align: middle;\n",
       "    }\n",
       "\n",
       "    .dataframe tbody tr th {\n",
       "        vertical-align: top;\n",
       "    }\n",
       "\n",
       "    .dataframe thead th {\n",
       "        text-align: right;\n",
       "    }\n",
       "</style>\n",
       "<table border=\"1\" class=\"dataframe\">\n",
       "  <thead>\n",
       "    <tr style=\"text-align: right;\">\n",
       "      <th></th>\n",
       "      <th>Attribute</th>\n",
       "      <th>Coeff_LinReg</th>\n",
       "      <th>Coeff_ridge</th>\n",
       "    </tr>\n",
       "  </thead>\n",
       "  <tbody>\n",
       "    <tr>\n",
       "      <th>0</th>\n",
       "      <td>ID</td>\n",
       "      <td>0.299626</td>\n",
       "      <td>0.295336</td>\n",
       "    </tr>\n",
       "    <tr>\n",
       "      <th>1</th>\n",
       "      <td>CRIM</td>\n",
       "      <td>-13.244354</td>\n",
       "      <td>-8.350915</td>\n",
       "    </tr>\n",
       "    <tr>\n",
       "      <th>2</th>\n",
       "      <td>ZN</td>\n",
       "      <td>5.577593</td>\n",
       "      <td>4.220953</td>\n",
       "    </tr>\n",
       "    <tr>\n",
       "      <th>3</th>\n",
       "      <td>INDUS</td>\n",
       "      <td>0.047677</td>\n",
       "      <td>-0.883500</td>\n",
       "    </tr>\n",
       "    <tr>\n",
       "      <th>4</th>\n",
       "      <td>CHAS</td>\n",
       "      <td>3.543189</td>\n",
       "      <td>3.951935</td>\n",
       "    </tr>\n",
       "    <tr>\n",
       "      <th>5</th>\n",
       "      <td>NOX</td>\n",
       "      <td>-8.192706</td>\n",
       "      <td>-6.088132</td>\n",
       "    </tr>\n",
       "    <tr>\n",
       "      <th>6</th>\n",
       "      <td>RM</td>\n",
       "      <td>16.800633</td>\n",
       "      <td>15.931015</td>\n",
       "    </tr>\n",
       "    <tr>\n",
       "      <th>7</th>\n",
       "      <td>AGE</td>\n",
       "      <td>0.004226</td>\n",
       "      <td>-0.042264</td>\n",
       "    </tr>\n",
       "    <tr>\n",
       "      <th>8</th>\n",
       "      <td>DIS</td>\n",
       "      <td>-15.991128</td>\n",
       "      <td>-11.924339</td>\n",
       "    </tr>\n",
       "    <tr>\n",
       "      <th>9</th>\n",
       "      <td>RAD</td>\n",
       "      <td>8.145365</td>\n",
       "      <td>5.910749</td>\n",
       "    </tr>\n",
       "    <tr>\n",
       "      <th>10</th>\n",
       "      <td>TAX</td>\n",
       "      <td>-7.068082</td>\n",
       "      <td>-5.338226</td>\n",
       "    </tr>\n",
       "    <tr>\n",
       "      <th>11</th>\n",
       "      <td>PTRATIO</td>\n",
       "      <td>-8.770446</td>\n",
       "      <td>-8.513832</td>\n",
       "    </tr>\n",
       "    <tr>\n",
       "      <th>12</th>\n",
       "      <td>B</td>\n",
       "      <td>4.390892</td>\n",
       "      <td>4.160180</td>\n",
       "    </tr>\n",
       "    <tr>\n",
       "      <th>13</th>\n",
       "      <td>LSTAT</td>\n",
       "      <td>-16.688151</td>\n",
       "      <td>-15.941552</td>\n",
       "    </tr>\n",
       "  </tbody>\n",
       "</table>\n",
       "</div>"
      ],
      "text/plain": [
       "   Attribute Coeff_LinReg  Coeff_ridge\n",
       "0         ID     0.299626     0.295336\n",
       "1       CRIM   -13.244354    -8.350915\n",
       "2         ZN     5.577593     4.220953\n",
       "3      INDUS     0.047677    -0.883500\n",
       "4       CHAS     3.543189     3.951935\n",
       "5        NOX    -8.192706    -6.088132\n",
       "6         RM    16.800633    15.931015\n",
       "7        AGE     0.004226    -0.042264\n",
       "8        DIS   -15.991128   -11.924339\n",
       "9        RAD     8.145365     5.910749\n",
       "10       TAX    -7.068082    -5.338226\n",
       "11   PTRATIO    -8.770446    -8.513832\n",
       "12         B     4.390892     4.160180\n",
       "13     LSTAT   -16.688151   -15.941552"
      ]
     },
     "execution_count": 234,
     "metadata": {},
     "output_type": "execute_result"
    }
   ],
   "source": [
    "coefficients"
   ]
  },
  {
   "cell_type": "code",
   "execution_count": 276,
   "id": "4671ce56",
   "metadata": {},
   "outputs": [
    {
     "name": "stdout",
     "output_type": "stream",
     "text": [
      "R^2 = 0.723473345888147\n",
      "Adjusted R^2 = 0.7107803191420292\n",
      "MAE = 3.189647059883537\n",
      "MSE = 23.335026193974404\n",
      "RMSE = 4.830634139942126\n"
     ]
    }
   ],
   "source": [
    "#predicting on training data\n",
    "y_pred=ridgeR.predict(x_train)\n",
    "#Model Evaluation and error calculations\n",
    "print('R^2 =',metrics.r2_score(y_train, y_pred))\n",
    "print('Adjusted R^2 =',1 - (1-metrics.r2_score(y_train, y_pred))*(len(y_train)-1)/(len(y_train)-x_train.shape[1]-1))\n",
    "print('MAE =',metrics.mean_absolute_error(y_train, y_pred))\n",
    "print('MSE =',metrics.mean_squared_error(y_train, y_pred))\n",
    "print('RMSE =',np.sqrt(metrics.mean_squared_error(y_train, y_pred)))"
   ]
  },
  {
   "cell_type": "code",
   "execution_count": 277,
   "id": "23499ff3",
   "metadata": {},
   "outputs": [],
   "source": [
    "#Model Evaluation and error calculations\n",
    "ridge_calc = []\n",
    "ridge_calc.append(metrics.r2_score(y_train, y_pred))\n",
    "ridge_calc.append(1 - (1-metrics.r2_score(y_train, y_pred))*(len(y_train)-1)/(len(y_train)-x_train.shape[1]-1))\n",
    "ridge_calc.append(metrics.mean_absolute_error(y_train, y_pred))\n",
    "ridge_calc.append(metrics.mean_squared_error(y_train, y_pred))\n",
    "ridge_calc.append(np.sqrt(metrics.mean_squared_error(y_train, y_pred)))"
   ]
  },
  {
   "cell_type": "code",
   "execution_count": 236,
   "id": "7d219da0",
   "metadata": {},
   "outputs": [
    {
     "data": {
      "image/png": "[encoded data removed]",
      "text/plain": [
       "<Figure size 432x288 with 1 Axes>"
      ]
     },
     "metadata": {
      "needs_background": "light"
     },
     "output_type": "display_data"
    }
   ],
   "source": [
    "# Visualizing the differences between actual prices and predicted values\n",
    "plt.scatter(y_train, y_pred)\n",
    "plt.xlabel(\"Actual Price\")\n",
    "plt.ylabel(\"Predicted Price\")\n",
    "plt.title(\"Actual Price vs Predicted Price\")\n",
    "plt.show()"
   ]
  },
  {
   "cell_type": "code",
   "execution_count": 237,
   "id": "23cf5f61",
   "metadata": {},
   "outputs": [
    {
     "data": {
      "text/plain": [
       "array([24.09086375, 25.25174806, 15.69550126, 20.37382613, 23.78493894,\n",
       "       22.87784245, 19.95686194, 22.83306266, 33.66708345, 19.8956349 ,\n",
       "       26.56547955, 26.01500916, 21.99172629, 19.04280749, 23.20767173,\n",
       "       26.97669173, 18.6183392 , 24.78647686, 20.14604022, 23.31204464,\n",
       "       27.03855462, 37.1581516 , 23.88155461, 11.22679225, 16.01440558,\n",
       "       10.64139424, 17.8205954 , 21.96436086, 24.0965598 , 16.11218286,\n",
       "       36.88937228, 20.21350361, 20.33803676, 18.93966741, 27.01505227,\n",
       "       20.11210737, 30.94120176, 30.52828618, 39.89469266, 24.50346435,\n",
       "       18.47381182, 33.51230924, 26.24103418, 18.95547888, 24.47287412,\n",
       "       27.5106346 , 19.52536504, 25.11435082, 16.56951979, 15.4977782 ,\n",
       "       20.1361042 , 33.75185288, 26.56324334, -4.93256902, 13.84579616,\n",
       "       17.19884645, 22.22615585, 13.5626553 ,  9.97058876, 20.20420251,\n",
       "       21.01752266, 21.2029094 , 32.70780058, 24.48637829, 36.83568394,\n",
       "       32.69010287, 15.66587995, 22.38161384, 26.2342071 , 16.81624357,\n",
       "       20.92786314, 19.43875669, 29.74415234, 14.54506519, 21.80583468,\n",
       "       17.80359381, 21.07693931, 32.15471532, 20.87921034, 33.58516322,\n",
       "       33.03664687, 41.56871567, 28.33315336, 32.00651841, 19.05747658,\n",
       "       32.90802918, 17.26102727, 29.96049151, 16.6817695 , 20.15802534,\n",
       "       15.28326697, 21.51487853, 15.14393354, 23.44636131, 21.67837272,\n",
       "       25.74085824, 36.22735238,  6.33666439, 15.53142485, 28.7214879 ,\n",
       "       24.11422504, 18.37471899, 27.7785635 , 36.85657477, 15.31758959])"
      ]
     },
     "execution_count": 237,
     "metadata": {},
     "output_type": "execute_result"
    }
   ],
   "source": [
    "#predicting on training data\n",
    "y_pred_ridge = ridgeR.predict(test_data)\n",
    "y_pred_ridge"
   ]
  },
  {
   "cell_type": "code",
   "execution_count": 245,
   "id": "7df06113",
   "metadata": {},
   "outputs": [],
   "source": [
    "target = pd.DataFrame([y_pred_linreg, y_pred_ridge]).T\n",
    "target = target.rename(columns={0: 'by_LinReg', 1: 'by_RidgeReg'})"
   ]
  },
  {
   "cell_type": "code",
   "execution_count": 246,
   "id": "95bcd585",
   "metadata": {},
   "outputs": [
    {
     "data": {
      "text/html": [
       "<div>\n",
       "<style scoped>\n",
       "    .dataframe tbody tr th:only-of-type {\n",
       "        vertical-align: middle;\n",
       "    }\n",
       "\n",
       "    .dataframe tbody tr th {\n",
       "        vertical-align: top;\n",
       "    }\n",
       "\n",
       "    .dataframe thead th {\n",
       "        text-align: right;\n",
       "    }\n",
       "</style>\n",
       "<table border=\"1\" class=\"dataframe\">\n",
       "  <thead>\n",
       "    <tr style=\"text-align: right;\">\n",
       "      <th></th>\n",
       "      <th>by_LinReg</th>\n",
       "      <th>by_RidgeReg</th>\n",
       "    </tr>\n",
       "  </thead>\n",
       "  <tbody>\n",
       "    <tr>\n",
       "      <th>0</th>\n",
       "      <td>23.468377</td>\n",
       "      <td>24.090864</td>\n",
       "    </tr>\n",
       "    <tr>\n",
       "      <th>1</th>\n",
       "      <td>24.867539</td>\n",
       "      <td>25.251748</td>\n",
       "    </tr>\n",
       "    <tr>\n",
       "      <th>2</th>\n",
       "      <td>15.459312</td>\n",
       "      <td>15.695501</td>\n",
       "    </tr>\n",
       "    <tr>\n",
       "      <th>3</th>\n",
       "      <td>18.984947</td>\n",
       "      <td>20.373826</td>\n",
       "    </tr>\n",
       "    <tr>\n",
       "      <th>4</th>\n",
       "      <td>23.807024</td>\n",
       "      <td>23.784939</td>\n",
       "    </tr>\n",
       "    <tr>\n",
       "      <th>...</th>\n",
       "      <td>...</td>\n",
       "      <td>...</td>\n",
       "    </tr>\n",
       "    <tr>\n",
       "      <th>100</th>\n",
       "      <td>22.780834</td>\n",
       "      <td>24.114225</td>\n",
       "    </tr>\n",
       "    <tr>\n",
       "      <th>101</th>\n",
       "      <td>18.415679</td>\n",
       "      <td>18.374719</td>\n",
       "    </tr>\n",
       "    <tr>\n",
       "      <th>102</th>\n",
       "      <td>26.976476</td>\n",
       "      <td>27.778563</td>\n",
       "    </tr>\n",
       "    <tr>\n",
       "      <th>103</th>\n",
       "      <td>37.012550</td>\n",
       "      <td>36.856575</td>\n",
       "    </tr>\n",
       "    <tr>\n",
       "      <th>104</th>\n",
       "      <td>15.452933</td>\n",
       "      <td>15.317590</td>\n",
       "    </tr>\n",
       "  </tbody>\n",
       "</table>\n",
       "<p>105 rows × 2 columns</p>\n",
       "</div>"
      ],
      "text/plain": [
       "     by_LinReg  by_RidgeReg\n",
       "0    23.468377    24.090864\n",
       "1    24.867539    25.251748\n",
       "2    15.459312    15.695501\n",
       "3    18.984947    20.373826\n",
       "4    23.807024    23.784939\n",
       "..         ...          ...\n",
       "100  22.780834    24.114225\n",
       "101  18.415679    18.374719\n",
       "102  26.976476    27.778563\n",
       "103  37.012550    36.856575\n",
       "104  15.452933    15.317590\n",
       "\n",
       "[105 rows x 2 columns]"
      ]
     },
     "execution_count": 246,
     "metadata": {},
     "output_type": "execute_result"
    }
   ],
   "source": [
    "target"
   ]
  },
  {
   "cell_type": "markdown",
   "id": "20fb2080",
   "metadata": {},
   "source": [
    "Lasso Regression"
   ]
  },
  {
   "cell_type": "code",
   "execution_count": 247,
   "id": "9256899a",
   "metadata": {},
   "outputs": [
    {
     "data": {
      "text/html": [
       "<style>#sk-container-id-8 {color: black;background-color: white;}#sk-container-id-8 pre{padding: 0;}#sk-container-id-8 div.sk-toggleable {background-color: white;}#sk-container-id-8 label.sk-toggleable__label {cursor: pointer;display: block;width: 100%;margin-bottom: 0;padding: 0.3em;box-sizing: border-box;text-align: center;}#sk-container-id-8 label.sk-toggleable__label-arrow:before {content: \"▸\";float: left;margin-right: 0.25em;color: #696969;}#sk-container-id-8 label.sk-toggleable__label-arrow:hover:before {color: black;}#sk-container-id-8 div.sk-estimator:hover label.sk-toggleable__label-arrow:before {color: black;}#sk-container-id-8 div.sk-toggleable__content {max-height: 0;max-width: 0;overflow: hidden;text-align: left;background-color: #f0f8ff;}#sk-container-id-8 div.sk-toggleable__content pre {margin: 0.2em;color: black;border-radius: 0.25em;background-color: #f0f8ff;}#sk-container-id-8 input.sk-toggleable__control:checked~div.sk-toggleable__content {max-height: 200px;max-width: 100%;overflow: auto;}#sk-container-id-8 input.sk-toggleable__control:checked~label.sk-toggleable__label-arrow:before {content: \"▾\";}#sk-container-id-8 div.sk-estimator input.sk-toggleable__control:checked~label.sk-toggleable__label {background-color: #d4ebff;}#sk-container-id-8 div.sk-label input.sk-toggleable__control:checked~label.sk-toggleable__label {background-color: #d4ebff;}#sk-container-id-8 input.sk-hidden--visually {border: 0;clip: rect(1px 1px 1px 1px);clip: rect(1px, 1px, 1px, 1px);height: 1px;margin: -1px;overflow: hidden;padding: 0;position: absolute;width: 1px;}#sk-container-id-8 div.sk-estimator {font-family: monospace;background-color: #f0f8ff;border: 1px dotted black;border-radius: 0.25em;box-sizing: border-box;margin-bottom: 0.5em;}#sk-container-id-8 div.sk-estimator:hover {background-color: #d4ebff;}#sk-container-id-8 div.sk-parallel-item::after {content: \"\";width: 100%;border-bottom: 1px solid gray;flex-grow: 1;}#sk-container-id-8 div.sk-label:hover label.sk-toggleable__label {background-color: #d4ebff;}#sk-container-id-8 div.sk-serial::before {content: \"\";position: absolute;border-left: 1px solid gray;box-sizing: border-box;top: 0;bottom: 0;left: 50%;z-index: 0;}#sk-container-id-8 div.sk-serial {display: flex;flex-direction: column;align-items: center;background-color: white;padding-right: 0.2em;padding-left: 0.2em;position: relative;}#sk-container-id-8 div.sk-item {position: relative;z-index: 1;}#sk-container-id-8 div.sk-parallel {display: flex;align-items: stretch;justify-content: center;background-color: white;position: relative;}#sk-container-id-8 div.sk-item::before, #sk-container-id-8 div.sk-parallel-item::before {content: \"\";position: absolute;border-left: 1px solid gray;box-sizing: border-box;top: 0;bottom: 0;left: 50%;z-index: -1;}#sk-container-id-8 div.sk-parallel-item {display: flex;flex-direction: column;z-index: 1;position: relative;background-color: white;}#sk-container-id-8 div.sk-parallel-item:first-child::after {align-self: flex-end;width: 50%;}#sk-container-id-8 div.sk-parallel-item:last-child::after {align-self: flex-start;width: 50%;}#sk-container-id-8 div.sk-parallel-item:only-child::after {width: 0;}#sk-container-id-8 div.sk-dashed-wrapped {border: 1px dashed gray;margin: 0 0.4em 0.5em 0.4em;box-sizing: border-box;padding-bottom: 0.4em;background-color: white;}#sk-container-id-8 div.sk-label label {font-family: monospace;font-weight: bold;display: inline-block;line-height: 1.2em;}#sk-container-id-8 div.sk-label-container {text-align: center;}#sk-container-id-8 div.sk-container {/* jupyter's `normalize.less` sets `[hidden] { display: none; }` but bootstrap.min.css set `[hidden] { display: none !important; }` so we also need the `!important` here to be able to override the default hidden behavior on the sphinx rendered scikit-learn.org. See: https://github.com/scikit-learn/scikit-learn/issues/21755 */display: inline-block !important;position: relative;}#sk-container-id-8 div.sk-text-repr-fallback {display: none;}</style><div id=\"sk-container-id-8\" class=\"sk-top-container\"><div class=\"sk-text-repr-fallback\"><pre>Lasso(alpha=0.05)</pre><b>In a Jupyter environment, please rerun this cell to show the HTML representation or trust the notebook. <br />On GitHub, the HTML representation is unable to render, please try loading this page with nbviewer.org.</b></div><div class=\"sk-container\" hidden><div class=\"sk-item\"><div class=\"sk-estimator sk-toggleable\"><input class=\"sk-toggleable__control sk-hidden--visually\" id=\"sk-estimator-id-8\" type=\"checkbox\" checked><label for=\"sk-estimator-id-8\" class=\"sk-toggleable__label sk-toggleable__label-arrow\">Lasso</label><div class=\"sk-toggleable__content\"><pre>Lasso(alpha=0.05)</pre></div></div></div></div></div>"
      ],
      "text/plain": [
       "Lasso(alpha=0.05)"
      ]
     },
     "execution_count": 247,
     "metadata": {},
     "output_type": "execute_result"
    }
   ],
   "source": [
    "# importing ridge regression from sklearn library\n",
    "from sklearn.linear_model import Lasso\n",
    "\n",
    "# Train the model\n",
    "lasso = Lasso(alpha = .05)\n",
    "lasso.fit(x_train,y_train)"
   ]
  },
  {
   "cell_type": "code",
   "execution_count": 248,
   "id": "d649feb4",
   "metadata": {},
   "outputs": [
    {
     "name": "stdout",
     "output_type": "stream",
     "text": [
      "intercept =  24.978721804286884\n"
     ]
    }
   ],
   "source": [
    "# intercepts\n",
    "print(\"intercept = \", lasso.intercept_)"
   ]
  },
  {
   "cell_type": "code",
   "execution_count": 250,
   "id": "76c04c5c",
   "metadata": {},
   "outputs": [],
   "source": [
    "#Converting the coefficient values to a dataframe\n",
    "coeff_lasso = pd.DataFrame([lasso.coef_]).T\n",
    "coeff_lasso = coeff_lasso.rename(columns={0: 'Coeff_lasso'})\n",
    "coefficients = coefficients.join(coeff_lasso)"
   ]
  },
  {
   "cell_type": "code",
   "execution_count": 251,
   "id": "461e92b6",
   "metadata": {},
   "outputs": [
    {
     "data": {
      "text/html": [
       "<div>\n",
       "<style scoped>\n",
       "    .dataframe tbody tr th:only-of-type {\n",
       "        vertical-align: middle;\n",
       "    }\n",
       "\n",
       "    .dataframe tbody tr th {\n",
       "        vertical-align: top;\n",
       "    }\n",
       "\n",
       "    .dataframe thead th {\n",
       "        text-align: right;\n",
       "    }\n",
       "</style>\n",
       "<table border=\"1\" class=\"dataframe\">\n",
       "  <thead>\n",
       "    <tr style=\"text-align: right;\">\n",
       "      <th></th>\n",
       "      <th>Attribute</th>\n",
       "      <th>Coeff_LinReg</th>\n",
       "      <th>Coeff_ridge</th>\n",
       "      <th>Coeff_lasso</th>\n",
       "    </tr>\n",
       "  </thead>\n",
       "  <tbody>\n",
       "    <tr>\n",
       "      <th>0</th>\n",
       "      <td>ID</td>\n",
       "      <td>0.299626</td>\n",
       "      <td>0.295336</td>\n",
       "      <td>0.000000</td>\n",
       "    </tr>\n",
       "    <tr>\n",
       "      <th>1</th>\n",
       "      <td>CRIM</td>\n",
       "      <td>-13.244354</td>\n",
       "      <td>-8.350915</td>\n",
       "      <td>-2.308950</td>\n",
       "    </tr>\n",
       "    <tr>\n",
       "      <th>2</th>\n",
       "      <td>ZN</td>\n",
       "      <td>5.577593</td>\n",
       "      <td>4.220953</td>\n",
       "      <td>2.259557</td>\n",
       "    </tr>\n",
       "    <tr>\n",
       "      <th>3</th>\n",
       "      <td>INDUS</td>\n",
       "      <td>0.047677</td>\n",
       "      <td>-0.883500</td>\n",
       "      <td>-0.000000</td>\n",
       "    </tr>\n",
       "    <tr>\n",
       "      <th>4</th>\n",
       "      <td>CHAS</td>\n",
       "      <td>3.543189</td>\n",
       "      <td>3.951935</td>\n",
       "      <td>3.591891</td>\n",
       "    </tr>\n",
       "    <tr>\n",
       "      <th>5</th>\n",
       "      <td>NOX</td>\n",
       "      <td>-8.192706</td>\n",
       "      <td>-6.088132</td>\n",
       "      <td>-4.253882</td>\n",
       "    </tr>\n",
       "    <tr>\n",
       "      <th>6</th>\n",
       "      <td>RM</td>\n",
       "      <td>16.800633</td>\n",
       "      <td>15.931015</td>\n",
       "      <td>17.506891</td>\n",
       "    </tr>\n",
       "    <tr>\n",
       "      <th>7</th>\n",
       "      <td>AGE</td>\n",
       "      <td>0.004226</td>\n",
       "      <td>-0.042264</td>\n",
       "      <td>-0.000000</td>\n",
       "    </tr>\n",
       "    <tr>\n",
       "      <th>8</th>\n",
       "      <td>DIS</td>\n",
       "      <td>-15.991128</td>\n",
       "      <td>-11.924339</td>\n",
       "      <td>-7.791828</td>\n",
       "    </tr>\n",
       "    <tr>\n",
       "      <th>9</th>\n",
       "      <td>RAD</td>\n",
       "      <td>8.145365</td>\n",
       "      <td>5.910749</td>\n",
       "      <td>2.350113</td>\n",
       "    </tr>\n",
       "    <tr>\n",
       "      <th>10</th>\n",
       "      <td>TAX</td>\n",
       "      <td>-7.068082</td>\n",
       "      <td>-5.338226</td>\n",
       "      <td>-2.723035</td>\n",
       "    </tr>\n",
       "    <tr>\n",
       "      <th>11</th>\n",
       "      <td>PTRATIO</td>\n",
       "      <td>-8.770446</td>\n",
       "      <td>-8.513832</td>\n",
       "      <td>-8.097560</td>\n",
       "    </tr>\n",
       "    <tr>\n",
       "      <th>12</th>\n",
       "      <td>B</td>\n",
       "      <td>4.390892</td>\n",
       "      <td>4.160180</td>\n",
       "      <td>3.091319</td>\n",
       "    </tr>\n",
       "    <tr>\n",
       "      <th>13</th>\n",
       "      <td>LSTAT</td>\n",
       "      <td>-16.688151</td>\n",
       "      <td>-15.941552</td>\n",
       "      <td>-17.037211</td>\n",
       "    </tr>\n",
       "  </tbody>\n",
       "</table>\n",
       "</div>"
      ],
      "text/plain": [
       "   Attribute Coeff_LinReg  Coeff_ridge  Coeff_lasso\n",
       "0         ID     0.299626     0.295336     0.000000\n",
       "1       CRIM   -13.244354    -8.350915    -2.308950\n",
       "2         ZN     5.577593     4.220953     2.259557\n",
       "3      INDUS     0.047677    -0.883500    -0.000000\n",
       "4       CHAS     3.543189     3.951935     3.591891\n",
       "5        NOX    -8.192706    -6.088132    -4.253882\n",
       "6         RM    16.800633    15.931015    17.506891\n",
       "7        AGE     0.004226    -0.042264    -0.000000\n",
       "8        DIS   -15.991128   -11.924339    -7.791828\n",
       "9        RAD     8.145365     5.910749     2.350113\n",
       "10       TAX    -7.068082    -5.338226    -2.723035\n",
       "11   PTRATIO    -8.770446    -8.513832    -8.097560\n",
       "12         B     4.390892     4.160180     3.091319\n",
       "13     LSTAT   -16.688151   -15.941552   -17.037211"
      ]
     },
     "execution_count": 251,
     "metadata": {},
     "output_type": "execute_result"
    }
   ],
   "source": [
    "coefficients"
   ]
  },
  {
   "cell_type": "code",
   "execution_count": 278,
   "id": "afc092bb",
   "metadata": {},
   "outputs": [
    {
     "name": "stdout",
     "output_type": "stream",
     "text": [
      "R^2 = 0.7070667785406617\n",
      "Adjusted R^2 = 0.6936206634572822\n",
      "MAE = 3.2906416709249\n",
      "MSE = 24.719513631673323\n",
      "RMSE = 4.971872246113462\n"
     ]
    }
   ],
   "source": [
    "#predicting on training data\n",
    "y_pred = lasso.predict(x_train)\n",
    "#Model Evaluation and error calculations\n",
    "print('R^2 =',metrics.r2_score(y_train, y_pred))\n",
    "print('Adjusted R^2 =',1 - (1-metrics.r2_score(y_train, y_pred))*(len(y_train)-1)/(len(y_train)-x_train.shape[1]-1))\n",
    "print('MAE =',metrics.mean_absolute_error(y_train, y_pred))\n",
    "print('MSE =',metrics.mean_squared_error(y_train, y_pred))\n",
    "print('RMSE =',np.sqrt(metrics.mean_squared_error(y_train, y_pred)))"
   ]
  },
  {
   "cell_type": "code",
   "execution_count": 279,
   "id": "084b200f",
   "metadata": {},
   "outputs": [],
   "source": [
    "#Model Evaluation and error calculations\n",
    "lasso_calc = []\n",
    "lasso_calc.append(metrics.r2_score(y_train, y_pred))\n",
    "lasso_calc.append(1 - (1-metrics.r2_score(y_train, y_pred))*(len(y_train)-1)/(len(y_train)-x_train.shape[1]-1))\n",
    "lasso_calc.append(metrics.mean_absolute_error(y_train, y_pred))\n",
    "lasso_calc.append(metrics.mean_squared_error(y_train, y_pred))\n",
    "lasso_calc.append(np.sqrt(metrics.mean_squared_error(y_train, y_pred)))"
   ]
  },
  {
   "cell_type": "code",
   "execution_count": 253,
   "id": "a2b78c10",
   "metadata": {},
   "outputs": [
    {
     "data": {
      "image/png": "[encoded data removed]",
      "text/plain": [
       "<Figure size 432x288 with 1 Axes>"
      ]
     },
     "metadata": {
      "needs_background": "light"
     },
     "output_type": "display_data"
    }
   ],
   "source": [
    "# Visualizing the differences between actual prices and predicted values\n",
    "plt.scatter(y_train, y_pred)\n",
    "plt.xlabel(\"Actual Price\")\n",
    "plt.ylabel(\"Predicted Price\")\n",
    "plt.title(\"Actual Price vs Predicted Price\")\n",
    "plt.show()"
   ]
  },
  {
   "cell_type": "code",
   "execution_count": 255,
   "id": "56d7c7c9",
   "metadata": {},
   "outputs": [
    {
     "data": {
      "text/plain": [
       "array([24.60651631, 26.40191434, 17.20185879, 21.72386971, 25.20042607,\n",
       "       23.26754222, 21.2894266 , 22.84015506, 33.65532482, 20.46986789,\n",
       "       26.64715992, 27.41782724, 22.25213342, 19.52222721, 24.8146832 ,\n",
       "       27.61491565, 18.51521216, 26.26866735, 21.57450455, 24.2452384 ,\n",
       "       28.31555924, 38.98044027, 25.68241525, 11.31639589, 16.04486808,\n",
       "       11.26649096, 19.05663439, 22.1434027 , 25.40823373, 17.42674844,\n",
       "       37.67593056, 21.88737505, 20.89062056, 19.53025888, 26.87206504,\n",
       "       21.87416907, 32.25692883, 32.07624066, 39.87259453, 27.14309559,\n",
       "       19.72742017, 33.26575918, 26.59232543, 19.8941076 , 24.89743101,\n",
       "       28.22271472, 20.80575245, 25.8574132 , 17.45100181, 16.48883528,\n",
       "       21.1702805 , 33.23085941, 25.34961509, -0.19657633, 14.36619913,\n",
       "       17.97944411, 22.4967894 , 14.7074668 , 12.17940934, 20.62910518,\n",
       "       21.22585566, 21.15322973, 32.89063207, 25.37241237, 38.31065714,\n",
       "       33.07035385, 17.67496877, 22.5000616 , 27.05777265, 18.05724902,\n",
       "       21.22282197, 19.43267725, 29.7711033 , 15.34584871, 22.11919147,\n",
       "       17.41871076, 21.95808849, 32.63363802, 22.1220285 , 33.40216954,\n",
       "       34.34545988, 40.54428037, 29.95169123, 31.84336771, 20.08492102,\n",
       "       33.50325398, 18.25100527, 29.92836874, 17.78904285, 21.30508718,\n",
       "       16.96925098, 21.73849493, 15.84112972, 24.28241749, 22.20496993,\n",
       "       25.72780264, 37.0207429 ,  8.14155863, 16.15000006, 27.8291865 ,\n",
       "       25.83606506, 18.23185002, 28.8687831 , 36.59446567, 14.39204118])"
      ]
     },
     "execution_count": 255,
     "metadata": {},
     "output_type": "execute_result"
    }
   ],
   "source": [
    "#predicting on training data\n",
    "y_pred_lasso = lasso.predict(test_data)\n",
    "y_pred_lasso"
   ]
  },
  {
   "cell_type": "code",
   "execution_count": 256,
   "id": "e4bd0adc",
   "metadata": {},
   "outputs": [
    {
     "data": {
      "text/html": [
       "<div>\n",
       "<style scoped>\n",
       "    .dataframe tbody tr th:only-of-type {\n",
       "        vertical-align: middle;\n",
       "    }\n",
       "\n",
       "    .dataframe tbody tr th {\n",
       "        vertical-align: top;\n",
       "    }\n",
       "\n",
       "    .dataframe thead th {\n",
       "        text-align: right;\n",
       "    }\n",
       "</style>\n",
       "<table border=\"1\" class=\"dataframe\">\n",
       "  <thead>\n",
       "    <tr style=\"text-align: right;\">\n",
       "      <th></th>\n",
       "      <th>by_LinReg</th>\n",
       "      <th>by_RidgeReg</th>\n",
       "      <th>by_LassoReg</th>\n",
       "    </tr>\n",
       "  </thead>\n",
       "  <tbody>\n",
       "    <tr>\n",
       "      <th>0</th>\n",
       "      <td>23.468377</td>\n",
       "      <td>24.090864</td>\n",
       "      <td>24.606516</td>\n",
       "    </tr>\n",
       "    <tr>\n",
       "      <th>1</th>\n",
       "      <td>24.867539</td>\n",
       "      <td>25.251748</td>\n",
       "      <td>26.401914</td>\n",
       "    </tr>\n",
       "    <tr>\n",
       "      <th>2</th>\n",
       "      <td>15.459312</td>\n",
       "      <td>15.695501</td>\n",
       "      <td>17.201859</td>\n",
       "    </tr>\n",
       "    <tr>\n",
       "      <th>3</th>\n",
       "      <td>18.984947</td>\n",
       "      <td>20.373826</td>\n",
       "      <td>21.723870</td>\n",
       "    </tr>\n",
       "    <tr>\n",
       "      <th>4</th>\n",
       "      <td>23.807024</td>\n",
       "      <td>23.784939</td>\n",
       "      <td>25.200426</td>\n",
       "    </tr>\n",
       "    <tr>\n",
       "      <th>...</th>\n",
       "      <td>...</td>\n",
       "      <td>...</td>\n",
       "      <td>...</td>\n",
       "    </tr>\n",
       "    <tr>\n",
       "      <th>100</th>\n",
       "      <td>22.780834</td>\n",
       "      <td>24.114225</td>\n",
       "      <td>25.836065</td>\n",
       "    </tr>\n",
       "    <tr>\n",
       "      <th>101</th>\n",
       "      <td>18.415679</td>\n",
       "      <td>18.374719</td>\n",
       "      <td>18.231850</td>\n",
       "    </tr>\n",
       "    <tr>\n",
       "      <th>102</th>\n",
       "      <td>26.976476</td>\n",
       "      <td>27.778563</td>\n",
       "      <td>28.868783</td>\n",
       "    </tr>\n",
       "    <tr>\n",
       "      <th>103</th>\n",
       "      <td>37.012550</td>\n",
       "      <td>36.856575</td>\n",
       "      <td>36.594466</td>\n",
       "    </tr>\n",
       "    <tr>\n",
       "      <th>104</th>\n",
       "      <td>15.452933</td>\n",
       "      <td>15.317590</td>\n",
       "      <td>14.392041</td>\n",
       "    </tr>\n",
       "  </tbody>\n",
       "</table>\n",
       "<p>105 rows × 3 columns</p>\n",
       "</div>"
      ],
      "text/plain": [
       "     by_LinReg  by_RidgeReg  by_LassoReg\n",
       "0    23.468377    24.090864    24.606516\n",
       "1    24.867539    25.251748    26.401914\n",
       "2    15.459312    15.695501    17.201859\n",
       "3    18.984947    20.373826    21.723870\n",
       "4    23.807024    23.784939    25.200426\n",
       "..         ...          ...          ...\n",
       "100  22.780834    24.114225    25.836065\n",
       "101  18.415679    18.374719    18.231850\n",
       "102  26.976476    27.778563    28.868783\n",
       "103  37.012550    36.856575    36.594466\n",
       "104  15.452933    15.317590    14.392041\n",
       "\n",
       "[105 rows x 3 columns]"
      ]
     },
     "execution_count": 256,
     "metadata": {},
     "output_type": "execute_result"
    }
   ],
   "source": [
    "target_l = pd.DataFrame([y_pred_lasso]).T\n",
    "target_l = target_l.rename(columns={0: 'by_LassoReg'})\n",
    "target = target.join(target_l)\n",
    "target"
   ]
  },
  {
   "cell_type": "code",
   "execution_count": 257,
   "id": "e6672092",
   "metadata": {},
   "outputs": [
    {
     "data": {
      "text/html": [
       "<style>#sk-container-id-9 {color: black;background-color: white;}#sk-container-id-9 pre{padding: 0;}#sk-container-id-9 div.sk-toggleable {background-color: white;}#sk-container-id-9 label.sk-toggleable__label {cursor: pointer;display: block;width: 100%;margin-bottom: 0;padding: 0.3em;box-sizing: border-box;text-align: center;}#sk-container-id-9 label.sk-toggleable__label-arrow:before {content: \"▸\";float: left;margin-right: 0.25em;color: #696969;}#sk-container-id-9 label.sk-toggleable__label-arrow:hover:before {color: black;}#sk-container-id-9 div.sk-estimator:hover label.sk-toggleable__label-arrow:before {color: black;}#sk-container-id-9 div.sk-toggleable__content {max-height: 0;max-width: 0;overflow: hidden;text-align: left;background-color: #f0f8ff;}#sk-container-id-9 div.sk-toggleable__content pre {margin: 0.2em;color: black;border-radius: 0.25em;background-color: #f0f8ff;}#sk-container-id-9 input.sk-toggleable__control:checked~div.sk-toggleable__content {max-height: 200px;max-width: 100%;overflow: auto;}#sk-container-id-9 input.sk-toggleable__control:checked~label.sk-toggleable__label-arrow:before {content: \"▾\";}#sk-container-id-9 div.sk-estimator input.sk-toggleable__control:checked~label.sk-toggleable__label {background-color: #d4ebff;}#sk-container-id-9 div.sk-label input.sk-toggleable__control:checked~label.sk-toggleable__label {background-color: #d4ebff;}#sk-container-id-9 input.sk-hidden--visually {border: 0;clip: rect(1px 1px 1px 1px);clip: rect(1px, 1px, 1px, 1px);height: 1px;margin: -1px;overflow: hidden;padding: 0;position: absolute;width: 1px;}#sk-container-id-9 div.sk-estimator {font-family: monospace;background-color: #f0f8ff;border: 1px dotted black;border-radius: 0.25em;box-sizing: border-box;margin-bottom: 0.5em;}#sk-container-id-9 div.sk-estimator:hover {background-color: #d4ebff;}#sk-container-id-9 div.sk-parallel-item::after {content: \"\";width: 100%;border-bottom: 1px solid gray;flex-grow: 1;}#sk-container-id-9 div.sk-label:hover label.sk-toggleable__label {background-color: #d4ebff;}#sk-container-id-9 div.sk-serial::before {content: \"\";position: absolute;border-left: 1px solid gray;box-sizing: border-box;top: 0;bottom: 0;left: 50%;z-index: 0;}#sk-container-id-9 div.sk-serial {display: flex;flex-direction: column;align-items: center;background-color: white;padding-right: 0.2em;padding-left: 0.2em;position: relative;}#sk-container-id-9 div.sk-item {position: relative;z-index: 1;}#sk-container-id-9 div.sk-parallel {display: flex;align-items: stretch;justify-content: center;background-color: white;position: relative;}#sk-container-id-9 div.sk-item::before, #sk-container-id-9 div.sk-parallel-item::before {content: \"\";position: absolute;border-left: 1px solid gray;box-sizing: border-box;top: 0;bottom: 0;left: 50%;z-index: -1;}#sk-container-id-9 div.sk-parallel-item {display: flex;flex-direction: column;z-index: 1;position: relative;background-color: white;}#sk-container-id-9 div.sk-parallel-item:first-child::after {align-self: flex-end;width: 50%;}#sk-container-id-9 div.sk-parallel-item:last-child::after {align-self: flex-start;width: 50%;}#sk-container-id-9 div.sk-parallel-item:only-child::after {width: 0;}#sk-container-id-9 div.sk-dashed-wrapped {border: 1px dashed gray;margin: 0 0.4em 0.5em 0.4em;box-sizing: border-box;padding-bottom: 0.4em;background-color: white;}#sk-container-id-9 div.sk-label label {font-family: monospace;font-weight: bold;display: inline-block;line-height: 1.2em;}#sk-container-id-9 div.sk-label-container {text-align: center;}#sk-container-id-9 div.sk-container {/* jupyter's `normalize.less` sets `[hidden] { display: none; }` but bootstrap.min.css set `[hidden] { display: none !important; }` so we also need the `!important` here to be able to override the default hidden behavior on the sphinx rendered scikit-learn.org. See: https://github.com/scikit-learn/scikit-learn/issues/21755 */display: inline-block !important;position: relative;}#sk-container-id-9 div.sk-text-repr-fallback {display: none;}</style><div id=\"sk-container-id-9\" class=\"sk-top-container\"><div class=\"sk-text-repr-fallback\"><pre>SVR()</pre><b>In a Jupyter environment, please rerun this cell to show the HTML representation or trust the notebook. <br />On GitHub, the HTML representation is unable to render, please try loading this page with nbviewer.org.</b></div><div class=\"sk-container\" hidden><div class=\"sk-item\"><div class=\"sk-estimator sk-toggleable\"><input class=\"sk-toggleable__control sk-hidden--visually\" id=\"sk-estimator-id-9\" type=\"checkbox\" checked><label for=\"sk-estimator-id-9\" class=\"sk-toggleable__label sk-toggleable__label-arrow\">SVR</label><div class=\"sk-toggleable__content\"><pre>SVR()</pre></div></div></div></div></div>"
      ],
      "text/plain": [
       "SVR()"
      ]
     },
     "execution_count": 257,
     "metadata": {},
     "output_type": "execute_result"
    }
   ],
   "source": [
    "#importing SVM regressor\n",
    "from sklearn import svm\n",
    "reg= svm.SVR()\n",
    "\n",
    "#training the model\n",
    "reg.fit(x_train,y_train)"
   ]
  },
  {
   "cell_type": "code",
   "execution_count": 261,
   "id": "b2fd96a6",
   "metadata": {},
   "outputs": [
    {
     "name": "stdout",
     "output_type": "stream",
     "text": [
      "intercept =  22.202224005858156\n"
     ]
    }
   ],
   "source": [
    "# intercepts\n",
    "print(\"intercept = \", reg.intercept_[0])"
   ]
  },
  {
   "cell_type": "code",
   "execution_count": 287,
   "id": "08722c6d",
   "metadata": {},
   "outputs": [
    {
     "name": "stdout",
     "output_type": "stream",
     "text": [
      "R^2 = 0.5512767799006427\n",
      "Adjusted R^2 = 0.5306796484862459\n",
      "MAE = 3.531617446139131\n",
      "MSE = 37.86603547673785\n",
      "RMSE = 6.153538451715228\n"
     ]
    }
   ],
   "source": [
    "#predicting on training data\n",
    "y_pred = reg.predict(x_train)\n",
    "#Model Evaluation and error calculations\n",
    "print('R^2 =',metrics.r2_score(y_train, y_pred))\n",
    "print('Adjusted R^2 =',1 - (1-metrics.r2_score(y_train, y_pred))*(len(y_train)-1)/(len(y_train)-x_train.shape[1]-1))\n",
    "print('MAE =',metrics.mean_absolute_error(y_train, y_pred))\n",
    "print('MSE =',metrics.mean_squared_error(y_train, y_pred))\n",
    "print('RMSE =',np.sqrt(metrics.mean_squared_error(y_train, y_pred)))"
   ]
  },
  {
   "cell_type": "code",
   "execution_count": 288,
   "id": "1471488c",
   "metadata": {},
   "outputs": [],
   "source": [
    "#Model Evaluation and error calculations\n",
    "svr_calc = []\n",
    "svr_calc.append(metrics.r2_score(y_train, y_pred))\n",
    "svr_calc.append(1 - (1-metrics.r2_score(y_train, y_pred))*(len(y_train)-1)/(len(y_train)-x_train.shape[1]-1))\n",
    "svr_calc.append(metrics.mean_absolute_error(y_train, y_pred))\n",
    "svr_calc.append(metrics.mean_squared_error(y_train, y_pred))\n",
    "svr_calc.append(np.sqrt(metrics.mean_squared_error(y_train, y_pred)))"
   ]
  },
  {
   "cell_type": "code",
   "execution_count": 266,
   "id": "53c1ec2c",
   "metadata": {},
   "outputs": [
    {
     "data": {
      "image/png": "[encoded data removed]",
      "text/plain": [
       "<Figure size 432x288 with 1 Axes>"
      ]
     },
     "metadata": {
      "needs_background": "light"
     },
     "output_type": "display_data"
    }
   ],
   "source": [
    "# Visualizing the differences between actual prices and predicted values\n",
    "plt.scatter(y_train, y_pred)\n",
    "plt.xlabel(\"Actual Price\")\n",
    "plt.ylabel(\"Predicted Price\")\n",
    "plt.title(\"Actual Price vs Predicted Price\")\n",
    "plt.show()"
   ]
  },
  {
   "cell_type": "code",
   "execution_count": 269,
   "id": "0ad5b1c1",
   "metadata": {},
   "outputs": [
    {
     "data": {
      "text/plain": [
       "array([23.89543388, 24.65618703, 16.77661188, 21.75400025, 21.36653853,\n",
       "       23.18495818, 19.58249077, 23.12737965, 28.22167799, 16.90863013,\n",
       "       25.26870549, 21.56963242, 22.15051263, 16.0613626 , 20.34031085,\n",
       "       25.59872619, 18.4148052 , 24.86649492, 21.19463428, 19.47237092,\n",
       "       22.57862612, 27.81474842, 24.34957512, 13.34282062, 17.04830217,\n",
       "       14.11753925, 16.05023944, 21.38043204, 23.5956889 , 20.90575324,\n",
       "       29.7464901 , 19.52992098, 18.0876073 , 19.67877972, 23.75768641,\n",
       "       22.33522849, 28.44094351, 27.52475948, 32.36894472, 24.87154423,\n",
       "       15.03611752, 22.87937654, 22.85823899, 16.16626144, 20.84327969,\n",
       "       24.16431685, 14.9143566 , 23.50185679, 17.08394687, 16.67134956,\n",
       "       21.48663115, 28.41226094, 22.96975717, 14.00278633, 17.30883417,\n",
       "       17.89993123, 20.91582871, 13.84580662, 12.7594872 , 16.77799147,\n",
       "       19.32070457, 19.57741964, 27.49660112, 24.31822544, 28.04207739,\n",
       "       29.12366761, 14.41113401, 20.9215127 , 23.44426145, 17.23310518,\n",
       "       17.0939453 , 17.12384344, 27.19186913, 15.26140596, 21.39373278,\n",
       "       15.63710421, 21.00919943, 28.38821494, 19.07467402, 29.15342877,\n",
       "       29.15892698, 30.96365192, 26.2171095 , 26.5299362 , 18.87437449,\n",
       "       28.08664885, 15.14540183, 26.13871435, 14.99085007, 20.04760788,\n",
       "       14.76461316, 19.95675364, 14.49275292, 21.89160475, 20.74273084,\n",
       "       23.60774894, 28.75683599, 15.38156973, 17.24642354, 25.09698931,\n",
       "       24.6237763 , 16.48546826, 26.16917721, 28.78547704, 17.62568777])"
      ]
     },
     "execution_count": 269,
     "metadata": {},
     "output_type": "execute_result"
    }
   ],
   "source": [
    "#predicting on training data\n",
    "y_pred_svr = reg.predict(test_data)\n",
    "y_pred_svr"
   ]
  },
  {
   "cell_type": "code",
   "execution_count": 270,
   "id": "8c42d6a9",
   "metadata": {},
   "outputs": [
    {
     "data": {
      "text/html": [
       "<div>\n",
       "<style scoped>\n",
       "    .dataframe tbody tr th:only-of-type {\n",
       "        vertical-align: middle;\n",
       "    }\n",
       "\n",
       "    .dataframe tbody tr th {\n",
       "        vertical-align: top;\n",
       "    }\n",
       "\n",
       "    .dataframe thead th {\n",
       "        text-align: right;\n",
       "    }\n",
       "</style>\n",
       "<table border=\"1\" class=\"dataframe\">\n",
       "  <thead>\n",
       "    <tr style=\"text-align: right;\">\n",
       "      <th></th>\n",
       "      <th>by_LinReg</th>\n",
       "      <th>by_RidgeReg</th>\n",
       "      <th>by_LassoReg</th>\n",
       "      <th>by_SVR</th>\n",
       "    </tr>\n",
       "  </thead>\n",
       "  <tbody>\n",
       "    <tr>\n",
       "      <th>0</th>\n",
       "      <td>23.468377</td>\n",
       "      <td>24.090864</td>\n",
       "      <td>24.606516</td>\n",
       "      <td>23.895434</td>\n",
       "    </tr>\n",
       "    <tr>\n",
       "      <th>1</th>\n",
       "      <td>24.867539</td>\n",
       "      <td>25.251748</td>\n",
       "      <td>26.401914</td>\n",
       "      <td>24.656187</td>\n",
       "    </tr>\n",
       "    <tr>\n",
       "      <th>2</th>\n",
       "      <td>15.459312</td>\n",
       "      <td>15.695501</td>\n",
       "      <td>17.201859</td>\n",
       "      <td>16.776612</td>\n",
       "    </tr>\n",
       "    <tr>\n",
       "      <th>3</th>\n",
       "      <td>18.984947</td>\n",
       "      <td>20.373826</td>\n",
       "      <td>21.723870</td>\n",
       "      <td>21.754000</td>\n",
       "    </tr>\n",
       "    <tr>\n",
       "      <th>4</th>\n",
       "      <td>23.807024</td>\n",
       "      <td>23.784939</td>\n",
       "      <td>25.200426</td>\n",
       "      <td>21.366539</td>\n",
       "    </tr>\n",
       "    <tr>\n",
       "      <th>...</th>\n",
       "      <td>...</td>\n",
       "      <td>...</td>\n",
       "      <td>...</td>\n",
       "      <td>...</td>\n",
       "    </tr>\n",
       "    <tr>\n",
       "      <th>100</th>\n",
       "      <td>22.780834</td>\n",
       "      <td>24.114225</td>\n",
       "      <td>25.836065</td>\n",
       "      <td>24.623776</td>\n",
       "    </tr>\n",
       "    <tr>\n",
       "      <th>101</th>\n",
       "      <td>18.415679</td>\n",
       "      <td>18.374719</td>\n",
       "      <td>18.231850</td>\n",
       "      <td>16.485468</td>\n",
       "    </tr>\n",
       "    <tr>\n",
       "      <th>102</th>\n",
       "      <td>26.976476</td>\n",
       "      <td>27.778563</td>\n",
       "      <td>28.868783</td>\n",
       "      <td>26.169177</td>\n",
       "    </tr>\n",
       "    <tr>\n",
       "      <th>103</th>\n",
       "      <td>37.012550</td>\n",
       "      <td>36.856575</td>\n",
       "      <td>36.594466</td>\n",
       "      <td>28.785477</td>\n",
       "    </tr>\n",
       "    <tr>\n",
       "      <th>104</th>\n",
       "      <td>15.452933</td>\n",
       "      <td>15.317590</td>\n",
       "      <td>14.392041</td>\n",
       "      <td>17.625688</td>\n",
       "    </tr>\n",
       "  </tbody>\n",
       "</table>\n",
       "<p>105 rows × 4 columns</p>\n",
       "</div>"
      ],
      "text/plain": [
       "     by_LinReg  by_RidgeReg  by_LassoReg     by_SVR\n",
       "0    23.468377    24.090864    24.606516  23.895434\n",
       "1    24.867539    25.251748    26.401914  24.656187\n",
       "2    15.459312    15.695501    17.201859  16.776612\n",
       "3    18.984947    20.373826    21.723870  21.754000\n",
       "4    23.807024    23.784939    25.200426  21.366539\n",
       "..         ...          ...          ...        ...\n",
       "100  22.780834    24.114225    25.836065  24.623776\n",
       "101  18.415679    18.374719    18.231850  16.485468\n",
       "102  26.976476    27.778563    28.868783  26.169177\n",
       "103  37.012550    36.856575    36.594466  28.785477\n",
       "104  15.452933    15.317590    14.392041  17.625688\n",
       "\n",
       "[105 rows x 4 columns]"
      ]
     },
     "execution_count": 270,
     "metadata": {},
     "output_type": "execute_result"
    }
   ],
   "source": [
    "target_svr = pd.DataFrame([y_pred_svr]).T\n",
    "target_svr = target_svr.rename(columns={0: 'by_SVR'})\n",
    "target = target.join(target_svr)\n",
    "target"
   ]
  },
  {
   "cell_type": "markdown",
   "id": "ce2b2b07",
   "metadata": {},
   "source": [
    "The above table shows the predicted values by each of theregression models."
   ]
  },
  {
   "cell_type": "code",
   "execution_count": 289,
   "id": "5c73940f",
   "metadata": {},
   "outputs": [
    {
     "data": {
      "text/html": [
       "<div>\n",
       "<style scoped>\n",
       "    .dataframe tbody tr th:only-of-type {\n",
       "        vertical-align: middle;\n",
       "    }\n",
       "\n",
       "    .dataframe tbody tr th {\n",
       "        vertical-align: top;\n",
       "    }\n",
       "\n",
       "    .dataframe thead th {\n",
       "        text-align: right;\n",
       "    }\n",
       "</style>\n",
       "<table border=\"1\" class=\"dataframe\">\n",
       "  <thead>\n",
       "    <tr style=\"text-align: right;\">\n",
       "      <th></th>\n",
       "      <th>LinReg</th>\n",
       "      <th>RidgeReg</th>\n",
       "      <th>Lasso</th>\n",
       "      <th>SVR</th>\n",
       "    </tr>\n",
       "  </thead>\n",
       "  <tbody>\n",
       "    <tr>\n",
       "      <th>R^2</th>\n",
       "      <td>0.729222</td>\n",
       "      <td>0.723473</td>\n",
       "      <td>0.707067</td>\n",
       "      <td>0.551277</td>\n",
       "    </tr>\n",
       "    <tr>\n",
       "      <th>Adjusted R^2</th>\n",
       "      <td>0.716793</td>\n",
       "      <td>0.710780</td>\n",
       "      <td>0.693621</td>\n",
       "      <td>0.530680</td>\n",
       "    </tr>\n",
       "    <tr>\n",
       "      <th>MAE</th>\n",
       "      <td>3.208441</td>\n",
       "      <td>3.189647</td>\n",
       "      <td>3.290642</td>\n",
       "      <td>3.531617</td>\n",
       "    </tr>\n",
       "    <tr>\n",
       "      <th>MSE</th>\n",
       "      <td>22.849920</td>\n",
       "      <td>23.335026</td>\n",
       "      <td>24.719514</td>\n",
       "      <td>37.866035</td>\n",
       "    </tr>\n",
       "    <tr>\n",
       "      <th>RMSE</th>\n",
       "      <td>4.780159</td>\n",
       "      <td>4.830634</td>\n",
       "      <td>4.971872</td>\n",
       "      <td>6.153538</td>\n",
       "    </tr>\n",
       "  </tbody>\n",
       "</table>\n",
       "</div>"
      ],
      "text/plain": [
       "                 LinReg   RidgeReg      Lasso        SVR\n",
       "R^2            0.729222   0.723473   0.707067   0.551277\n",
       "Adjusted R^2   0.716793   0.710780   0.693621   0.530680\n",
       "MAE            3.208441   3.189647   3.290642   3.531617\n",
       "MSE           22.849920  23.335026  24.719514  37.866035\n",
       "RMSE           4.780159   4.830634   4.971872   6.153538"
      ]
     },
     "execution_count": 289,
     "metadata": {},
     "output_type": "execute_result"
    }
   ],
   "source": [
    "mod_eval = pd.DataFrame([linreg_calc, ridge_calc, lasso_calc, svr_calc]).T\n",
    "mod_eval = mod_eval.rename(columns={0: 'LinReg', 1: 'RidgeReg', 2: 'Lasso', 3: 'SVR'})\n",
    "mod_eval.set_axis(['R^2', 'Adjusted R^2', 'MAE', 'MSE', 'RMSE'], axis = 0)"
   ]
  },
  {
   "cell_type": "markdown",
   "id": "1b8364e8",
   "metadata": {},
   "source": [
    "The above table shows the error values from each of the different regression models respectively."
   ]
  },
  {
   "cell_type": "code",
   "execution_count": null,
   "id": "1b2a14b2",
   "metadata": {},
   "outputs": [],
   "source": []
  },
  {
   "cell_type": "code",
   "execution_count": null,
   "id": "d71f7b65",
   "metadata": {},
   "outputs": [],
   "source": []
  }
 ],
 "metadata": {
  "kernelspec": {
   "display_name": "Python 3",
   "language": "python",
   "name": "python3"
  },
  "language_info": {
   "codemirror_mode": {
    "name": "ipython",
    "version": 3
   },
   "file_extension": ".py",
   "mimetype": "text/x-python",
   "name": "python",
   "nbconvert_exporter": "python",
   "pygments_lexer": "ipython3",
   "version": "3.8.8"
  }
 },
 "nbformat": 4,
 "nbformat_minor": 5
}

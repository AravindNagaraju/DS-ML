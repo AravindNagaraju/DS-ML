{
  "cells": [
    {
      "cell_type": "markdown",
      "metadata": {
        "id": "view-in-github",
        "colab_type": "text"
      },
      "source": [
        "<a href=\"https://colab.research.google.com/github/AravindNagaraju/Guvi/blob/main/Numpy_tasks.ipynb\" target=\"_parent\"><img src=\"https://colab.research.google.com/assets/colab-badge.svg\" alt=\"Open In Colab\"/></a>"
      ]
    },
    {
      "cell_type": "markdown",
      "metadata": {
        "id": "721Ll5XfLTTs"
      },
      "source": [
        "# Numpy\n",
        "\n"
      ]
    },
    {
      "cell_type": "markdown",
      "metadata": {
        "id": "hQYHxHu3LTTw"
      },
      "source": [
        "#### 1. Import the numpy package under the name `np` (★☆☆) \n",
        "(**hint**: import … as …)"
      ]
    },
    {
      "cell_type": "code",
      "execution_count": 1,
      "metadata": {
        "collapsed": true,
        "id": "AUJMRP54LTTx"
      },
      "outputs": [],
      "source": [
        "import numpy as np"
      ]
    },
    {
      "cell_type": "markdown",
      "metadata": {
        "id": "0Q9dztGuLTTx"
      },
      "source": [
        "#### 2. Print the numpy version and the configuration (★☆☆) \n",
        "(**hint**: np.\\_\\_version\\_\\_, np.show\\_config)"
      ]
    },
    {
      "cell_type": "code",
      "execution_count": null,
      "metadata": {
        "id": "qIqaTcc2LTTy",
        "colab": {
          "base_uri": "https://localhost:8080/"
        },
        "outputId": "0870e37d-bbb9-453d-ed8a-eaf4496466cf"
      },
      "outputs": [
        {
          "output_type": "stream",
          "name": "stdout",
          "text": [
            "1.21.6\n",
            "blas_mkl_info:\n",
            "  NOT AVAILABLE\n",
            "blis_info:\n",
            "  NOT AVAILABLE\n",
            "openblas_info:\n",
            "    libraries = ['openblas', 'openblas']\n",
            "    library_dirs = ['/usr/local/lib']\n",
            "    language = c\n",
            "    define_macros = [('HAVE_CBLAS', None)]\n",
            "    runtime_library_dirs = ['/usr/local/lib']\n",
            "blas_opt_info:\n",
            "    libraries = ['openblas', 'openblas']\n",
            "    library_dirs = ['/usr/local/lib']\n",
            "    language = c\n",
            "    define_macros = [('HAVE_CBLAS', None)]\n",
            "    runtime_library_dirs = ['/usr/local/lib']\n",
            "lapack_mkl_info:\n",
            "  NOT AVAILABLE\n",
            "openblas_lapack_info:\n",
            "    libraries = ['openblas', 'openblas']\n",
            "    library_dirs = ['/usr/local/lib']\n",
            "    language = c\n",
            "    define_macros = [('HAVE_CBLAS', None)]\n",
            "    runtime_library_dirs = ['/usr/local/lib']\n",
            "lapack_opt_info:\n",
            "    libraries = ['openblas', 'openblas']\n",
            "    library_dirs = ['/usr/local/lib']\n",
            "    language = c\n",
            "    define_macros = [('HAVE_CBLAS', None)]\n",
            "    runtime_library_dirs = ['/usr/local/lib']\n",
            "Supported SIMD extensions in this NumPy install:\n",
            "    baseline = SSE,SSE2,SSE3\n",
            "    found = SSSE3,SSE41,POPCNT,SSE42,AVX,F16C,FMA3,AVX2\n",
            "    not found = AVX512F,AVX512CD,AVX512_KNL,AVX512_KNM,AVX512_SKX,AVX512_CLX,AVX512_CNL,AVX512_ICL\n",
            "None\n"
          ]
        }
      ],
      "source": [
        "print(np.__version__)\n",
        "print(np.show_config())"
      ]
    },
    {
      "cell_type": "markdown",
      "metadata": {
        "id": "6n19jtY5LTTy"
      },
      "source": [
        "#### 3. Create a null vector of size 10 (★☆☆) \n",
        "(**hint**: np.zeros)"
      ]
    },
    {
      "cell_type": "code",
      "execution_count": null,
      "metadata": {
        "id": "4aj_NJOjLTTz",
        "colab": {
          "base_uri": "https://localhost:8080/"
        },
        "outputId": "6f1ea7d1-7e53-452d-9f78-bf244a6b4af1"
      },
      "outputs": [
        {
          "output_type": "execute_result",
          "data": {
            "text/plain": [
              "array([0., 0., 0., 0., 0., 0., 0., 0., 0., 0.])"
            ]
          },
          "metadata": {},
          "execution_count": 8
        }
      ],
      "source": [
        "np.zeros(10)"
      ]
    },
    {
      "cell_type": "markdown",
      "metadata": {
        "id": "MfXtID5fLTTz"
      },
      "source": [
        "#### 4.  How to find the memory size of any array (★☆☆) \n",
        "(**hint**: size, itemsize)"
      ]
    },
    {
      "cell_type": "code",
      "execution_count": null,
      "metadata": {
        "id": "C83-_x3hLTT0",
        "colab": {
          "base_uri": "https://localhost:8080/"
        },
        "outputId": "cfd6c286-0b46-4735-f61b-de2e6ca840af"
      },
      "outputs": [
        {
          "output_type": "stream",
          "name": "stdout",
          "text": [
            "5\n",
            "8\n"
          ]
        }
      ],
      "source": [
        "x = np.array([10, 20, 30, 40, 50])\n",
        "print(x.size)\n",
        "print(x.itemsize)"
      ]
    },
    {
      "cell_type": "markdown",
      "metadata": {
        "id": "awz1U76iLTT0"
      },
      "source": [
        "#### 5.  How to get the documentation of the numpy add function from the command line? (★☆☆) \n",
        "(**hint**: np.info)"
      ]
    },
    {
      "cell_type": "code",
      "execution_count": null,
      "metadata": {
        "collapsed": true,
        "id": "7JMRqmW2LTT1",
        "colab": {
          "base_uri": "https://localhost:8080/"
        },
        "outputId": "66c3a1b3-b9e7-4e7c-8131-328932728750"
      },
      "outputs": [
        {
          "output_type": "stream",
          "name": "stdout",
          "text": [
            "add(x1, x2, /, out=None, *, where=True, casting='same_kind', order='K', dtype=None, subok=True[, signature, extobj])\n",
            "\n",
            "Add arguments element-wise.\n",
            "\n",
            "Parameters\n",
            "----------\n",
            "x1, x2 : array_like\n",
            "    The arrays to be added.\n",
            "    If ``x1.shape != x2.shape``, they must be broadcastable to a common\n",
            "    shape (which becomes the shape of the output).\n",
            "out : ndarray, None, or tuple of ndarray and None, optional\n",
            "    A location into which the result is stored. If provided, it must have\n",
            "    a shape that the inputs broadcast to. If not provided or None,\n",
            "    a freshly-allocated array is returned. A tuple (possible only as a\n",
            "    keyword argument) must have length equal to the number of outputs.\n",
            "where : array_like, optional\n",
            "    This condition is broadcast over the input. At locations where the\n",
            "    condition is True, the `out` array will be set to the ufunc result.\n",
            "    Elsewhere, the `out` array will retain its original value.\n",
            "    Note that if an uninitialized `out` array is created via the default\n",
            "    ``out=None``, locations within it where the condition is False will\n",
            "    remain uninitialized.\n",
            "**kwargs\n",
            "    For other keyword-only arguments, see the\n",
            "    :ref:`ufunc docs <ufuncs.kwargs>`.\n",
            "\n",
            "Returns\n",
            "-------\n",
            "add : ndarray or scalar\n",
            "    The sum of `x1` and `x2`, element-wise.\n",
            "    This is a scalar if both `x1` and `x2` are scalars.\n",
            "\n",
            "Notes\n",
            "-----\n",
            "Equivalent to `x1` + `x2` in terms of array broadcasting.\n",
            "\n",
            "Examples\n",
            "--------\n",
            ">>> np.add(1.0, 4.0)\n",
            "5.0\n",
            ">>> x1 = np.arange(9.0).reshape((3, 3))\n",
            ">>> x2 = np.arange(3.0)\n",
            ">>> np.add(x1, x2)\n",
            "array([[  0.,   2.,   4.],\n",
            "       [  3.,   5.,   7.],\n",
            "       [  6.,   8.,  10.]])\n",
            "\n",
            "The ``+`` operator can be used as a shorthand for ``np.add`` on ndarrays.\n",
            "\n",
            ">>> x1 = np.arange(9.0).reshape((3, 3))\n",
            ">>> x2 = np.arange(3.0)\n",
            ">>> x1 + x2\n",
            "array([[ 0.,  2.,  4.],\n",
            "       [ 3.,  5.,  7.],\n",
            "       [ 6.,  8., 10.]])\n"
          ]
        }
      ],
      "source": [
        "np.info(np.add)"
      ]
    },
    {
      "cell_type": "markdown",
      "metadata": {
        "id": "7x3P7XZvLTT1"
      },
      "source": [
        "#### 6.  Create a null vector of size 10 but the fifth value which is 1 (★☆☆) \n",
        "(**hint**: array\\[4\\])"
      ]
    },
    {
      "cell_type": "code",
      "execution_count": null,
      "metadata": {
        "id": "YBP0N1d_LTT1",
        "colab": {
          "base_uri": "https://localhost:8080/"
        },
        "outputId": "5bce5eb0-3fd3-4f46-dfb5-832a72f726a0"
      },
      "outputs": [
        {
          "output_type": "stream",
          "name": "stdout",
          "text": [
            "[0. 0. 0. 0. 1. 0. 0. 0. 0. 0.]\n"
          ]
        }
      ],
      "source": [
        "x = np.zeros(10)\n",
        "x[4] = 1\n",
        "print(x)"
      ]
    },
    {
      "cell_type": "markdown",
      "metadata": {
        "id": "XZeo_Jg-LTT1"
      },
      "source": [
        "#### 7.  Create a vector with values ranging from 10 to 49 (★☆☆) \n",
        "(**hint**: np.arange)"
      ]
    },
    {
      "cell_type": "code",
      "execution_count": null,
      "metadata": {
        "id": "X_DBIQxcLTT2",
        "colab": {
          "base_uri": "https://localhost:8080/"
        },
        "outputId": "31349341-7fef-4997-cd75-5b8187df4663"
      },
      "outputs": [
        {
          "output_type": "execute_result",
          "data": {
            "text/plain": [
              "array([10, 11, 12, 13, 14, 15, 16, 17, 18, 19, 20, 21, 22, 23, 24, 25, 26,\n",
              "       27, 28, 29, 30, 31, 32, 33, 34, 35, 36, 37, 38, 39, 40, 41, 42, 43,\n",
              "       44, 45, 46, 47, 48, 49])"
            ]
          },
          "metadata": {},
          "execution_count": 14
        }
      ],
      "source": [
        "np.arange(10, 50)"
      ]
    },
    {
      "cell_type": "markdown",
      "metadata": {
        "id": "dq1gVoSlLTT2"
      },
      "source": [
        "#### 8.  Reverse a vector (first element becomes last) (★☆☆) \n",
        "(**hint**: array\\[::-1\\])"
      ]
    },
    {
      "cell_type": "code",
      "execution_count": null,
      "metadata": {
        "id": "pLztfqg9LTT2",
        "colab": {
          "base_uri": "https://localhost:8080/"
        },
        "outputId": "6a8fd6d6-f214-4406-cc2b-acf89a8c3c50"
      },
      "outputs": [
        {
          "output_type": "stream",
          "name": "stdout",
          "text": [
            "[49 48 47 46 45 44 43 42 41 40 39 38 37 36 35 34 33 32 31 30 29 28 27 26\n",
            " 25 24 23 22 21 20 19 18 17 16 15 14 13 12 11 10]\n"
          ]
        }
      ],
      "source": [
        "x = np.arange(10, 50)\n",
        "print(x[::-1])"
      ]
    },
    {
      "cell_type": "markdown",
      "metadata": {
        "id": "VVNV9XT8LTT3"
      },
      "source": [
        "#### 9.  Create a 3x3 matrix with values ranging from 0 to 8 (★☆☆) \n",
        "(**hint**: reshape)"
      ]
    },
    {
      "cell_type": "code",
      "execution_count": null,
      "metadata": {
        "id": "YPXWb2R6LTT3",
        "colab": {
          "base_uri": "https://localhost:8080/"
        },
        "outputId": "00b6b4ce-12ec-42b7-e48a-fe0169d6daad"
      },
      "outputs": [
        {
          "output_type": "stream",
          "name": "stdout",
          "text": [
            "[[0 1 2]\n",
            " [3 4 5]\n",
            " [6 7 8]]\n"
          ]
        }
      ],
      "source": [
        "x = np.arange(0, 9).reshape(3, 3)\n",
        "print(x)"
      ]
    },
    {
      "cell_type": "markdown",
      "metadata": {
        "id": "t1Fs7ADyLTT3"
      },
      "source": [
        "#### 10. Find indices of non-zero elements from \\[1,2,0,0,4,0\\] (★☆☆) \n",
        "(**hint**: np.nonzero)"
      ]
    },
    {
      "cell_type": "code",
      "execution_count": null,
      "metadata": {
        "id": "2l9hy2eZLTT3",
        "colab": {
          "base_uri": "https://localhost:8080/"
        },
        "outputId": "83a29a0f-aa5d-47fa-a6ca-60f8d9b9a287"
      },
      "outputs": [
        {
          "output_type": "stream",
          "name": "stdout",
          "text": [
            "(array([0, 1, 4]),)\n"
          ]
        }
      ],
      "source": [
        "x = np.array([1, 2, 0, 0, 4, 0])\n",
        "print(np.nonzero(x))"
      ]
    },
    {
      "cell_type": "markdown",
      "metadata": {
        "id": "LVxo5u7ZLTT4"
      },
      "source": [
        "#### 11. Create a 3x3 identity matrix (★☆☆) \n",
        "(**hint**: np.eye)"
      ]
    },
    {
      "cell_type": "code",
      "execution_count": null,
      "metadata": {
        "id": "F_6Lt-5ZLTT4",
        "colab": {
          "base_uri": "https://localhost:8080/"
        },
        "outputId": "dbd99970-8fdd-4cc5-c90d-aa344f514278"
      },
      "outputs": [
        {
          "output_type": "stream",
          "name": "stdout",
          "text": [
            "[[1. 0. 0.]\n",
            " [0. 1. 0.]\n",
            " [0. 0. 1.]]\n"
          ]
        }
      ],
      "source": [
        "print(np.eye(3))"
      ]
    },
    {
      "cell_type": "markdown",
      "metadata": {
        "id": "tfj0A2XILTT4"
      },
      "source": [
        "#### 12. Create a 3x3x3 array with random values (★☆☆) \n",
        "(**hint**: np.random.random)"
      ]
    },
    {
      "cell_type": "code",
      "execution_count": null,
      "metadata": {
        "collapsed": true,
        "id": "9Zi3dd4ZLTT5",
        "colab": {
          "base_uri": "https://localhost:8080/"
        },
        "outputId": "a1551d8a-847b-40a8-ac5b-95407eb56de5"
      },
      "outputs": [
        {
          "output_type": "execute_result",
          "data": {
            "text/plain": [
              "array([[[0.3894969 , 0.13793314, 0.34035011],\n",
              "        [0.66825364, 0.55515339, 0.1314419 ],\n",
              "        [0.96964829, 0.03272063, 0.64526468]],\n",
              "\n",
              "       [[0.07671342, 0.62619047, 0.59120291],\n",
              "        [0.7474419 , 0.75998827, 0.6274952 ],\n",
              "        [0.86661688, 0.54235825, 0.56219989]],\n",
              "\n",
              "       [[0.69605753, 0.87613785, 0.86051966],\n",
              "        [0.68908994, 0.79691619, 0.68233176],\n",
              "        [0.29327814, 0.82805255, 0.3524994 ]]])"
            ]
          },
          "metadata": {},
          "execution_count": 22
        }
      ],
      "source": [
        "np.random.random([3, 3, 3])"
      ]
    },
    {
      "cell_type": "markdown",
      "metadata": {
        "id": "vL8OWj-mLTT5"
      },
      "source": [
        "#### 13. Create a 10x10 array with random values and find the minimum and maximum values (★☆☆) \n",
        "(**hint**: min, max)"
      ]
    },
    {
      "cell_type": "code",
      "execution_count": null,
      "metadata": {
        "id": "9I1MeJdxLTT5",
        "colab": {
          "base_uri": "https://localhost:8080/"
        },
        "outputId": "203b4f43-46c0-4360-91e7-43eacec59805"
      },
      "outputs": [
        {
          "output_type": "stream",
          "name": "stdout",
          "text": [
            "[[0.77193045 0.585415   0.58706963 0.79072244 0.50951926 0.48119752\n",
            "  0.03133231 0.03789188 0.34384888 0.17916715]\n",
            " [0.31523898 0.48736364 0.73297216 0.54840808 0.59464769 0.40527008\n",
            "  0.50595651 0.77916284 0.48506884 0.0510032 ]\n",
            " [0.61800357 0.45996926 0.12173982 0.8008025  0.53313213 0.40780074\n",
            "  0.05753664 0.42304303 0.56947649 0.94878843]\n",
            " [0.13811298 0.95070755 0.95351148 0.89745724 0.10670876 0.09899691\n",
            "  0.64575387 0.41241728 0.31221062 0.56379695]\n",
            " [0.49367336 0.28460524 0.20161234 0.61879428 0.66744141 0.02196445\n",
            "  0.10250862 0.66014693 0.90557935 0.24558784]\n",
            " [0.25833928 0.0155443  0.75584279 0.32859241 0.7009971  0.04568063\n",
            "  0.78433459 0.28988562 0.04240762 0.85328487]\n",
            " [0.32196739 0.73303078 0.60621227 0.17005813 0.0634422  0.42051729\n",
            "  0.23030161 0.56056757 0.41670232 0.96098582]\n",
            " [0.86345579 0.5069143  0.34465174 0.19215628 0.15039154 0.39870297\n",
            "  0.77659186 0.81615502 0.64260431 0.6289066 ]\n",
            " [0.29779018 0.70915571 0.78946196 0.19513268 0.5209276  0.75217316\n",
            "  0.14948791 0.01739241 0.31925408 0.04456902]\n",
            " [0.12983499 0.29810002 0.55657765 0.08908085 0.38420006 0.88195571\n",
            "  0.91803486 0.84577447 0.77974208 0.89778217]]\n",
            "min value is :  0.015544298211589314\n",
            "max value is :  0.9609858202974542\n"
          ]
        }
      ],
      "source": [
        "x = np.random.random([10, 10])\n",
        "print(x)\n",
        "print(\"min value is : \", np.min(x))\n",
        "print(\"max value is : \", np.max(x))"
      ]
    },
    {
      "cell_type": "markdown",
      "metadata": {
        "id": "m2sobfEULTT5"
      },
      "source": [
        "#### 14. Create a random vector of size 30 and find the mean value (★☆☆) \n",
        "(**hint**: mean)"
      ]
    },
    {
      "cell_type": "code",
      "execution_count": null,
      "metadata": {
        "id": "KbDMBdZDLTT5",
        "colab": {
          "base_uri": "https://localhost:8080/"
        },
        "outputId": "454b295c-03eb-42d6-c954-5250d103cbbc"
      },
      "outputs": [
        {
          "output_type": "stream",
          "name": "stdout",
          "text": [
            "0.6605737404914335\n"
          ]
        }
      ],
      "source": [
        "x = np.random.random(10)\n",
        "print(np.mean(x))"
      ]
    },
    {
      "cell_type": "markdown",
      "metadata": {
        "id": "P0Zu8yfQLTT5"
      },
      "source": [
        "#### 15. Create a 2d array with 1 on the border and 0 inside (★☆☆) \n",
        "(**hint**: array\\[1:-1, 1:-1\\])"
      ]
    },
    {
      "cell_type": "code",
      "execution_count": null,
      "metadata": {
        "id": "FdGsfOBbLTT6",
        "colab": {
          "base_uri": "https://localhost:8080/"
        },
        "outputId": "9687e783-d880-433c-f875-0706076a5dfa"
      },
      "outputs": [
        {
          "output_type": "stream",
          "name": "stdout",
          "text": [
            "[[1. 1. 1. 1. 1. 1. 1. 1. 1. 1.]\n",
            " [1. 0. 0. 0. 0. 0. 0. 0. 0. 1.]\n",
            " [1. 0. 0. 0. 0. 0. 0. 0. 0. 1.]\n",
            " [1. 0. 0. 0. 0. 0. 0. 0. 0. 1.]\n",
            " [1. 0. 0. 0. 0. 0. 0. 0. 0. 1.]\n",
            " [1. 0. 0. 0. 0. 0. 0. 0. 0. 1.]\n",
            " [1. 0. 0. 0. 0. 0. 0. 0. 0. 1.]\n",
            " [1. 0. 0. 0. 0. 0. 0. 0. 0. 1.]\n",
            " [1. 0. 0. 0. 0. 0. 0. 0. 0. 1.]\n",
            " [1. 1. 1. 1. 1. 1. 1. 1. 1. 1.]]\n"
          ]
        }
      ],
      "source": [
        "x = np.ones((10, 10))\n",
        "x[1:-1, 1:-1] = 0\n",
        "print(x)"
      ]
    },
    {
      "cell_type": "markdown",
      "metadata": {
        "id": "Rmwv6Y3lLTT6"
      },
      "source": [
        "#### 16. How to add a border (filled with 0's) around an existing array? (★☆☆) \n",
        "(**hint**: np.pad)"
      ]
    },
    {
      "cell_type": "code",
      "execution_count": null,
      "metadata": {
        "id": "7VTz-Z7wLTT6",
        "colab": {
          "base_uri": "https://localhost:8080/"
        },
        "outputId": "3a919ac6-b0ee-42f7-9a90-d18dd3be359d"
      },
      "outputs": [
        {
          "output_type": "execute_result",
          "data": {
            "text/plain": [
              "array([0, 1, 2, 3, 4, 5, 0])"
            ]
          },
          "metadata": {},
          "execution_count": 7
        }
      ],
      "source": [
        "arr = np.array([1, 2, 3, 4, 5])\n",
        "np.pad(arr, (1, ), 'constant', constant_values = (0))"
      ]
    },
    {
      "cell_type": "markdown",
      "metadata": {
        "id": "CDtVNWlBLTT6"
      },
      "source": [
        "#### 17. What is the result of the following expression? (★☆☆) \n",
        "(**hint**: NaN = not a number, inf = infinity)"
      ]
    },
    {
      "cell_type": "markdown",
      "metadata": {
        "id": "_IVnL2J0LTT6"
      },
      "source": [
        "```python\n",
        "0 * np.nan\n",
        "np.nan == np.nan\n",
        "np.inf > np.nan\n",
        "np.nan - np.nan\n",
        "0.3 == 3 * 0.1\n",
        "```"
      ]
    },
    {
      "cell_type": "code",
      "execution_count": null,
      "metadata": {
        "id": "qH6XGb9jLTT6",
        "colab": {
          "base_uri": "https://localhost:8080/"
        },
        "outputId": "85ddf702-b0ba-4d0a-99ce-2390e2daf6a5"
      },
      "outputs": [
        {
          "output_type": "stream",
          "name": "stdout",
          "text": [
            "nan\n",
            "False\n",
            "False\n",
            "nan\n",
            "False\n"
          ]
        }
      ],
      "source": [
        "import numpy as np\n",
        "print(0 * np.nan)\n",
        "print(np.nan == np.nan)\n",
        "print(np.inf > np.nan)\n",
        "print(np.nan - np.nan)\n",
        "print(0.3 == 3 * 0.1)"
      ]
    },
    {
      "cell_type": "markdown",
      "metadata": {
        "id": "uWVy2yZYLTT7"
      },
      "source": [
        "#### 18. Create a 5x5 matrix with values 1,2,3,4 just below the diagonal (★☆☆) \n",
        "(**hint**: np.diag)"
      ]
    },
    {
      "cell_type": "code",
      "execution_count": null,
      "metadata": {
        "id": "c-hwYiTVLTT7",
        "colab": {
          "base_uri": "https://localhost:8080/"
        },
        "outputId": "a439f1dc-ab70-4cb4-e708-20e3a2a822fc"
      },
      "outputs": [
        {
          "output_type": "execute_result",
          "data": {
            "text/plain": [
              "array([[0, 0, 0, 0, 0],\n",
              "       [1, 0, 0, 0, 0],\n",
              "       [0, 2, 0, 0, 0],\n",
              "       [0, 0, 3, 0, 0],\n",
              "       [0, 0, 0, 4, 0]])"
            ]
          },
          "metadata": {},
          "execution_count": 16
        }
      ],
      "source": [
        "np.diag(np.arange(4) + 1, k = -1)"
      ]
    },
    {
      "cell_type": "markdown",
      "metadata": {
        "id": "WCwB9zZOLTT7"
      },
      "source": [
        "#### 19. Create a 8x8 matrix and fill it with a checkerboard pattern (★☆☆) \n",
        "(**hint**: array\\[::2\\])"
      ]
    },
    {
      "cell_type": "code",
      "execution_count": null,
      "metadata": {
        "id": "R5lIdwD7LTT7",
        "colab": {
          "base_uri": "https://localhost:8080/"
        },
        "outputId": "38007c12-5adf-49aa-bb80-ecdfaf4c992b"
      },
      "outputs": [
        {
          "output_type": "stream",
          "name": "stdout",
          "text": [
            "[[1 0 1 0 1 0 1 0]\n",
            " [0 1 0 1 0 1 0 1]\n",
            " [1 0 1 0 1 0 1 0]\n",
            " [0 1 0 1 0 1 0 1]\n",
            " [1 0 1 0 1 0 1 0]\n",
            " [0 1 0 1 0 1 0 1]\n",
            " [1 0 1 0 1 0 1 0]\n",
            " [0 1 0 1 0 1 0 1]]\n"
          ]
        }
      ],
      "source": [
        "a = np.ones((8, 8), dtype = int)    \n",
        "a[1::2, ::2] = 0                    \n",
        "a[::2, 1::2] = 0                    \n",
        "print(a)"
      ]
    },
    {
      "cell_type": "markdown",
      "metadata": {
        "id": "m_3JH0NTLTT8"
      },
      "source": [
        "#### 20. Consider a (6,7,8) shape array, what is the index (x,y,z) of the 100th element? \n",
        "(**hint**: np.unravel_index)"
      ]
    },
    {
      "cell_type": "code",
      "execution_count": null,
      "metadata": {
        "id": "yY5PztJtLTT8",
        "colab": {
          "base_uri": "https://localhost:8080/"
        },
        "outputId": "8f5e96e4-9f5d-425f-fb04-bd2da5ff7d26"
      },
      "outputs": [
        {
          "output_type": "execute_result",
          "data": {
            "text/plain": [
              "(1, 5, 4)"
            ]
          },
          "metadata": {},
          "execution_count": 21
        }
      ],
      "source": [
        "np.unravel_index(100, (6,7,8))"
      ]
    },
    {
      "cell_type": "markdown",
      "metadata": {
        "id": "KxL7r1IYLTT8"
      },
      "source": [
        "#### 21. Create a checkerboard 8x8 matrix using the tile function (★☆☆) \n",
        "(**hint**: np.tile)"
      ]
    },
    {
      "cell_type": "code",
      "execution_count": null,
      "metadata": {
        "id": "tR86DF-LLTT8",
        "colab": {
          "base_uri": "https://localhost:8080/"
        },
        "outputId": "abbccbbb-402d-4e13-a4e8-21912e073ba3"
      },
      "outputs": [
        {
          "output_type": "stream",
          "name": "stdout",
          "text": [
            "[[1 0 1 0 1 0 1 0]\n",
            " [0 1 0 1 0 1 0 1]\n",
            " [1 0 1 0 1 0 1 0]\n",
            " [0 1 0 1 0 1 0 1]\n",
            " [1 0 1 0 1 0 1 0]\n",
            " [0 1 0 1 0 1 0 1]\n",
            " [1 0 1 0 1 0 1 0]\n",
            " [0 1 0 1 0 1 0 1]]\n"
          ]
        }
      ],
      "source": [
        "arr = np.array([[1, 0], [0, 1]])    \n",
        "chess = np.tile(arr,(4,4))          \n",
        "print(chess)"
      ]
    },
    {
      "cell_type": "markdown",
      "metadata": {
        "id": "h5I2wlMWLTT9"
      },
      "source": [
        "#### 22. Normalize a 5x5 random matrix (★☆☆) \n",
        "(**hint**: (x - min) / (max - min))"
      ]
    },
    {
      "cell_type": "code",
      "execution_count": null,
      "metadata": {
        "id": "4H0gngbpLTT9",
        "colab": {
          "base_uri": "https://localhost:8080/"
        },
        "outputId": "d2b10173-296d-43a6-9a4e-4ae89fa85a79"
      },
      "outputs": [
        {
          "output_type": "stream",
          "name": "stdout",
          "text": [
            "[[0.39713522 0.07709034 0.83575493 0.35631726 0.23973324]\n",
            " [0.92158283 0.1850449  0.         0.47046694 1.        ]\n",
            " [0.36619336 0.38846358 0.85100978 0.19731061 0.69313734]\n",
            " [0.20765116 0.00646893 0.12796875 0.61785463 0.16680565]\n",
            " [0.86444736 0.59537245 0.57710552 0.57047212 0.77787989]]\n"
          ]
        }
      ],
      "source": [
        "a = np.random.random((5, 5))\n",
        "min = a.min()\n",
        "max = a.max()\n",
        "norm = (a - min)/(max - min)\n",
        "print(norm)"
      ]
    },
    {
      "cell_type": "markdown",
      "metadata": {
        "id": "p-q12n5qLTT9"
      },
      "source": [
        "#### 23. Create a custom dtype that describes a color as four unsigned bytes (RGBA) (★☆☆) \n",
        "(**hint**: np.dtype)"
      ]
    },
    {
      "cell_type": "code",
      "execution_count": null,
      "metadata": {
        "collapsed": true,
        "id": "H7Eexwe5LTT9",
        "colab": {
          "base_uri": "https://localhost:8080/"
        },
        "outputId": "9e496297-37f5-4584-e0bc-8a07262ae568"
      },
      "outputs": [
        {
          "output_type": "stream",
          "name": "stderr",
          "text": [
            "/usr/local/lib/python3.7/dist-packages/ipykernel_launcher.py:4: FutureWarning: Passing (type, 1) or '1type' as a synonym of type is deprecated; in a future version of numpy, it will be understood as (type, (1,)) / '(1,)type'.\n",
            "  after removing the cwd from sys.path.\n"
          ]
        },
        {
          "output_type": "execute_result",
          "data": {
            "text/plain": [
              "dtype([('r', 'u1'), ('g', 'u1'), ('b', 'u1'), ('a', 'u1')])"
            ]
          },
          "metadata": {},
          "execution_count": 27
        }
      ],
      "source": [
        "color = np.dtype([(\"r\", np.ubyte, 1),\n",
        "                  (\"g\", np.ubyte, 1),\n",
        "                  (\"b\", np.ubyte, 1),\n",
        "                  (\"a\", np.ubyte, 1)])\n",
        "color"
      ]
    },
    {
      "cell_type": "markdown",
      "metadata": {
        "id": "7hkxDrfuLTT9"
      },
      "source": [
        "#### 24. Multiply a 5x3 matrix by a 3x2 matrix (real matrix product) (★☆☆) \n",
        "(**hint**: np.dot | @)"
      ]
    },
    {
      "cell_type": "code",
      "execution_count": null,
      "metadata": {
        "id": "k62l3_tGLTT-",
        "colab": {
          "base_uri": "https://localhost:8080/",
          "height": 104
        },
        "outputId": "dea1bcef-b964-4b41-bc9e-2caaacd166a7"
      },
      "outputs": [
        {
          "output_type": "display_data",
          "data": {
            "text/plain": [
              "array([[6782, 6415],\n",
              "       [3970, 3549],\n",
              "       [5126, 4756],\n",
              "       [6623, 7761],\n",
              "       [7910, 8271]])"
            ]
          },
          "metadata": {}
        }
      ],
      "source": [
        "prod = np.dot(np.random.randint(low = 100, size =(5, 3)), np.random.randint(low = 100, size =(3, 2)))\n",
        "display(prod)"
      ]
    },
    {
      "cell_type": "markdown",
      "metadata": {
        "id": "AAOBHDfzLTT-"
      },
      "source": [
        "#### 25. Given a 1D array, negate all elements which are between 3 and 8, in place. (★☆☆) \n",
        "(**hint**: >, <=)"
      ]
    },
    {
      "cell_type": "code",
      "execution_count": null,
      "metadata": {
        "id": "cMtWt4PZLTT-",
        "colab": {
          "base_uri": "https://localhost:8080/"
        },
        "outputId": "dcf28055-f468-4c9c-d418-ef84b2618b0f"
      },
      "outputs": [
        {
          "output_type": "stream",
          "name": "stdout",
          "text": [
            "[ 0  1  2  3 -4 -5 -6 -7  8  9]\n"
          ]
        }
      ],
      "source": [
        "a = np.arange(10)\n",
        "for i in range(len(a)):\n",
        "    if a[i] > 3 and a[i] < 8:\n",
        "        a[i] = a[i]*-1\n",
        "print(a)"
      ]
    },
    {
      "cell_type": "markdown",
      "metadata": {
        "id": "3Ei7232ZLTT-"
      },
      "source": [
        "#### 26. What is the output of the following script? (★☆☆) \n",
        "(**hint**: np.sum)"
      ]
    },
    {
      "cell_type": "markdown",
      "metadata": {
        "id": "Ge1wY530LTT-"
      },
      "source": [
        "```python\n",
        "# Author: Jake VanderPlas\n",
        "\n",
        "print(sum(range(5),-1))\n",
        "from numpy import *\n",
        "print(sum(range(5),-1))\n",
        "```"
      ]
    },
    {
      "cell_type": "code",
      "execution_count": null,
      "metadata": {
        "id": "_g-yGYegLTUB",
        "colab": {
          "base_uri": "https://localhost:8080/"
        },
        "outputId": "8b212c69-565e-442a-88a8-18aee173d9aa"
      },
      "outputs": [
        {
          "output_type": "stream",
          "name": "stdout",
          "text": [
            "9\n",
            "10\n"
          ]
        }
      ],
      "source": [
        "print(sum(range(5),-1))\n",
        "from numpy import *\n",
        "print(sum(range(5),-1))"
      ]
    },
    {
      "cell_type": "markdown",
      "metadata": {
        "id": "mhAHt1u2LTUC"
      },
      "source": [
        "#### 27. Consider an integer vector Z, which of these expressions are legal? (★☆☆)"
      ]
    },
    {
      "cell_type": "markdown",
      "metadata": {
        "id": "Xsn_NKUWLTUC"
      },
      "source": [
        "```python\n",
        "Z**Z\n",
        "2 << Z >> 2\n",
        "Z <- Z\n",
        "1j*Z\n",
        "Z/1/1\n",
        "Z<Z>Z\n",
        "```"
      ]
    },
    {
      "cell_type": "markdown",
      "source": [
        "Z**Z: negative powers invalid. Also given vector Z, it can be multiplied with its transpose.\n",
        "\n"
      ],
      "metadata": {
        "id": "94sgFG_ds97y"
      }
    },
    {
      "cell_type": "markdown",
      "metadata": {
        "id": "NFrWzSN1LTUC"
      },
      "source": [
        "#### 28. What are the result of the following expressions?"
      ]
    },
    {
      "cell_type": "markdown",
      "metadata": {
        "id": "czLUVU69LTUC"
      },
      "source": [
        "```python\n",
        "np.array(0) / np.array(0)\n",
        "np.array(0) // np.array(0)\n",
        "np.array([np.nan]).astype(int).astype(float)\n",
        "```"
      ]
    },
    {
      "cell_type": "code",
      "execution_count": null,
      "metadata": {
        "id": "ZPCjLQvfLTUD",
        "colab": {
          "base_uri": "https://localhost:8080/"
        },
        "outputId": "0d535b5f-d369-4bf2-e25b-cad2f2ef6891"
      },
      "outputs": [
        {
          "output_type": "stream",
          "name": "stdout",
          "text": [
            "nan\n",
            "0\n",
            "[-9.22337204e+18]\n"
          ]
        },
        {
          "output_type": "stream",
          "name": "stderr",
          "text": [
            "/usr/local/lib/python3.7/dist-packages/ipykernel_launcher.py:1: RuntimeWarning: invalid value encountered in true_divide\n",
            "  \"\"\"Entry point for launching an IPython kernel.\n",
            "/usr/local/lib/python3.7/dist-packages/ipykernel_launcher.py:2: RuntimeWarning: divide by zero encountered in floor_divide\n",
            "  \n"
          ]
        }
      ],
      "source": [
        "print(np.array(0) / np.array(0))\n",
        "print(np.array(0) // np.array(0))\n",
        "print(np.array([np.nan]).astype(int).astype(float))"
      ]
    },
    {
      "cell_type": "markdown",
      "metadata": {
        "id": "r3Y2M-gSLTUD"
      },
      "source": [
        "#### 29. How to round away from zero a float array ? (★☆☆) \n",
        "(**hint**: np.uniform, np.copysign, np.ceil, np.abs)"
      ]
    },
    {
      "cell_type": "code",
      "execution_count": null,
      "metadata": {
        "id": "_DvOUqizLTUD",
        "colab": {
          "base_uri": "https://localhost:8080/"
        },
        "outputId": "7908e08f-c4c0-41ec-9e8a-e968710851dd"
      },
      "outputs": [
        {
          "output_type": "stream",
          "name": "stdout",
          "text": [
            "[ -9.  -7.  -3.   8.  -4.  -5. -10.  -1.   4.  -4.]\n"
          ]
        }
      ],
      "source": [
        "a = np.random.uniform(-10,+10,10)\n",
        "print(np.copysign(np.ceil(np.abs(a)), a))"
      ]
    },
    {
      "cell_type": "markdown",
      "metadata": {
        "id": "g5oxR4_WLTUD"
      },
      "source": [
        "#### 30. How to find common values between two arrays? (★☆☆) \n",
        "(**hint**: np.intersect1d)"
      ]
    },
    {
      "cell_type": "code",
      "execution_count": null,
      "metadata": {
        "id": "J7devjLmLTUD",
        "colab": {
          "base_uri": "https://localhost:8080/"
        },
        "outputId": "342b933a-f672-46e9-f809-1a027ce29e12"
      },
      "outputs": [
        {
          "output_type": "stream",
          "name": "stdout",
          "text": [
            "[0 1]\n"
          ]
        }
      ],
      "source": [
        "a = np.random.randint(0, 5, 5)\n",
        "b = np.random.randint(0, 5, 5)\n",
        "print(np.intersect1d(a, b))"
      ]
    },
    {
      "cell_type": "markdown",
      "metadata": {
        "id": "ScQo1MbNLTUD"
      },
      "source": [
        "#### 31. How to ignore all numpy warnings (not recommended)? (★☆☆) \n",
        "(**hint**: np.seterr, np.errstate)"
      ]
    },
    {
      "cell_type": "code",
      "execution_count": null,
      "metadata": {
        "id": "lJtAOXNMLTUE"
      },
      "outputs": [],
      "source": [
        ""
      ]
    },
    {
      "cell_type": "markdown",
      "metadata": {
        "id": "yr4H-CVnLTUE"
      },
      "source": [
        "#### 32. Is the following expressions true? (★☆☆) \n",
        "(**hint**: imaginary number)"
      ]
    },
    {
      "cell_type": "markdown",
      "metadata": {
        "id": "7xfKw8mpLTUE"
      },
      "source": [
        "```python\n",
        "np.sqrt(-1) == np.emath.sqrt(-1)\n",
        "```"
      ]
    },
    {
      "cell_type": "code",
      "execution_count": null,
      "metadata": {
        "id": "Ntk2KA1RLTUE",
        "colab": {
          "base_uri": "https://localhost:8080/"
        },
        "outputId": "27234ac2-7ecb-4f25-d829-7a6df658d758"
      },
      "outputs": [
        {
          "output_type": "stream",
          "name": "stdout",
          "text": [
            "False\n"
          ]
        },
        {
          "output_type": "stream",
          "name": "stderr",
          "text": [
            "/usr/local/lib/python3.7/dist-packages/ipykernel_launcher.py:1: RuntimeWarning: invalid value encountered in sqrt\n",
            "  \"\"\"Entry point for launching an IPython kernel.\n"
          ]
        }
      ],
      "source": [
        "if np.sqrt(-1) == np.emath.sqrt(-1):\n",
        "    print(\"True\")\n",
        "else:\n",
        "    print(\"False\")"
      ]
    },
    {
      "cell_type": "markdown",
      "metadata": {
        "id": "AkxF7EmcLTUE"
      },
      "source": [
        "#### 33. How to get the dates of yesterday, today and tomorrow? (★☆☆) \n",
        "(**hint**: np.datetime64, np.timedelta64)"
      ]
    },
    {
      "cell_type": "code",
      "execution_count": null,
      "metadata": {
        "collapsed": true,
        "id": "mih8TnXGLTUE",
        "colab": {
          "base_uri": "https://localhost:8080/"
        },
        "outputId": "c321dbad-4c5f-4451-d2f2-bf6dac530d88"
      },
      "outputs": [
        {
          "output_type": "stream",
          "name": "stdout",
          "text": [
            "Yesterday:  2022-08-07\n",
            "Today:  2022-08-08\n",
            "Tomorrow 2022-08-09\n"
          ]
        }
      ],
      "source": [
        "print(\"Yesterday: \", np.datetime64('today', 'D') - np.timedelta64(1, 'D'))\n",
        "print(\"Today: \", np.datetime64('today', 'D'))\n",
        "print(\"Tomorrow\", np.datetime64('today', 'D') + np.timedelta64(1, 'D'))"
      ]
    },
    {
      "cell_type": "markdown",
      "metadata": {
        "id": "dJ3knR_DLTUE"
      },
      "source": [
        "#### 34. How to get all the dates corresponding to the month of July 2016? (★★☆) \n",
        "(**hint**: np.arange(dtype=datetime64\\['D'\\]))"
      ]
    },
    {
      "cell_type": "code",
      "execution_count": null,
      "metadata": {
        "id": "515FPuXaLTUF",
        "colab": {
          "base_uri": "https://localhost:8080/"
        },
        "outputId": "6848af4c-6215-430b-c7a2-d31d30c4c25f"
      },
      "outputs": [
        {
          "output_type": "stream",
          "name": "stdout",
          "text": [
            "['2016-07-01' '2016-07-02' '2016-07-03' '2016-07-04' '2016-07-05'\n",
            " '2016-07-06' '2016-07-07' '2016-07-08' '2016-07-09' '2016-07-10'\n",
            " '2016-07-11' '2016-07-12' '2016-07-13' '2016-07-14' '2016-07-15'\n",
            " '2016-07-16' '2016-07-17' '2016-07-18' '2016-07-19' '2016-07-20'\n",
            " '2016-07-21' '2016-07-22' '2016-07-23' '2016-07-24' '2016-07-25'\n",
            " '2016-07-26' '2016-07-27' '2016-07-28' '2016-07-29' '2016-07-30'\n",
            " '2016-07-31']\n"
          ]
        }
      ],
      "source": [
        "dates = np.arange('2016-07', '2016-08', dtype='datetime64[D]')\n",
        "print(dates)"
      ]
    },
    {
      "cell_type": "markdown",
      "metadata": {
        "id": "bTkkw9-dLTUF"
      },
      "source": [
        "#### 35. How to compute ((A+B)\\*(-A/2)) in place (without copy)? (★★☆) \n",
        "(**hint**: np.add(out=), np.negative(out=), np.multiply(out=), np.divide(out=))"
      ]
    },
    {
      "cell_type": "code",
      "execution_count": null,
      "metadata": {
        "id": "WDRdYTujLTUF"
      },
      "outputs": [],
      "source": [
        ""
      ]
    },
    {
      "cell_type": "markdown",
      "metadata": {
        "id": "Eavs__ZHLTUF"
      },
      "source": [
        "#### 36. Extract the integer part of a random array using 5 different methods (★★☆) \n",
        "(**hint**: %, np.floor, np.ceil, astype, np.trunc)"
      ]
    },
    {
      "cell_type": "code",
      "execution_count": null,
      "metadata": {
        "id": "7Ne1cq_RLTUF",
        "colab": {
          "base_uri": "https://localhost:8080/"
        },
        "outputId": "ac0ae31a-23a8-4170-91ae-1699e26bbdb5"
      },
      "outputs": [
        {
          "output_type": "stream",
          "name": "stdout",
          "text": [
            "[0. 6. 1. 2. 4. 0. 3. 3. 1. 2.]\n",
            "[0. 6. 1. 2. 4. 0. 3. 3. 1. 2.]\n",
            "[0. 6. 1. 2. 4. 0. 3. 3. 1. 2.]\n",
            "[0 6 1 2 4 0 3 3 1 2]\n",
            "[0. 6. 1. 2. 4. 0. 3. 3. 1. 2.]\n"
          ]
        }
      ],
      "source": [
        "a = np.random.uniform(0,10,10)\n",
        "\n",
        "print(a - a%1)\n",
        "print(np.floor(a))\n",
        "print(np.ceil(a)-1)\n",
        "print(a.astype(int))\n",
        "print(np.trunc(a))"
      ]
    },
    {
      "cell_type": "markdown",
      "metadata": {
        "id": "HIsz4tDULTUF"
      },
      "source": [
        "#### 37. Create a 5x5 matrix with row values ranging from 0 to 4 (★★☆) \n",
        "(**hint**: np.arange)"
      ]
    },
    {
      "cell_type": "code",
      "execution_count": null,
      "metadata": {
        "id": "GQQI6GOBLTUG",
        "colab": {
          "base_uri": "https://localhost:8080/"
        },
        "outputId": "98141e6b-6e57-421c-ac85-6fe703d88351"
      },
      "outputs": [
        {
          "output_type": "stream",
          "name": "stdout",
          "text": [
            "[[0. 1. 2. 3. 4.]\n",
            " [0. 1. 2. 3. 4.]\n",
            " [0. 1. 2. 3. 4.]\n",
            " [0. 1. 2. 3. 4.]\n",
            " [0. 1. 2. 3. 4.]]\n"
          ]
        }
      ],
      "source": [
        "a = np.zeros((5, 5))\n",
        "a = a + np.arange(5)\n",
        "print(a)"
      ]
    },
    {
      "cell_type": "markdown",
      "metadata": {
        "id": "I4JYPmN-LTUG"
      },
      "source": [
        "#### 38. Consider a generator function that generates 10 integers and use it to build an array (★☆☆) \n",
        "(**hint**: np.fromiter)"
      ]
    },
    {
      "cell_type": "code",
      "execution_count": null,
      "metadata": {
        "id": "F3bVxANHLTUG",
        "colab": {
          "base_uri": "https://localhost:8080/"
        },
        "outputId": "0930c088-5fb7-4578-cbf3-91bc608480b4"
      },
      "outputs": [
        {
          "output_type": "execute_result",
          "data": {
            "text/plain": [
              "array([0., 1., 2., 3., 4., 5., 6., 7., 8., 9.])"
            ]
          },
          "metadata": {},
          "execution_count": 40
        }
      ],
      "source": [
        "def generate():\n",
        "    for x in range(10):\n",
        "        yield x\n",
        "np.fromiter(generate(),dtype=float, count = -1)"
      ]
    },
    {
      "cell_type": "markdown",
      "metadata": {
        "id": "qCXmnRnoLTUG"
      },
      "source": [
        "#### 39. Create a vector of size 10 with values ranging from 0 to 1, both excluded (★★☆) \n",
        "(**hint**: np.linspace)"
      ]
    },
    {
      "cell_type": "code",
      "execution_count": null,
      "metadata": {
        "id": "2E_ztPsaLTUG",
        "colab": {
          "base_uri": "https://localhost:8080/"
        },
        "outputId": "75811963-dbcb-47f1-9db5-5954a1b097de"
      },
      "outputs": [
        {
          "output_type": "execute_result",
          "data": {
            "text/plain": [
              "array([0.09090909, 0.18181818, 0.27272727, 0.36363636, 0.45454545,\n",
              "       0.54545455, 0.63636364, 0.72727273, 0.81818182, 0.90909091])"
            ]
          },
          "metadata": {},
          "execution_count": 45
        }
      ],
      "source": [
        "np.linspace(0,1,11,endpoint=False)[1:]"
      ]
    },
    {
      "cell_type": "markdown",
      "metadata": {
        "id": "77a-ApNrLTUH"
      },
      "source": [
        "#### 40. Create a random vector of size 10 and sort it (★★☆) \n",
        "(**hint**: sort)"
      ]
    },
    {
      "cell_type": "code",
      "execution_count": null,
      "metadata": {
        "id": "ZRG-ABvaLTUH",
        "colab": {
          "base_uri": "https://localhost:8080/"
        },
        "outputId": "3047c7ee-13ca-4f3e-c214-d3384ca9b9ba"
      },
      "outputs": [
        {
          "output_type": "stream",
          "name": "stdout",
          "text": [
            "[0.00265251 0.04094654 0.10994247 0.1450381  0.38781235 0.38864362\n",
            " 0.5051957  0.59849382 0.65216259 0.67651278]\n"
          ]
        }
      ],
      "source": [
        "vec = np.random.random(10)\n",
        "vec.sort()\n",
        "print(vec)"
      ]
    },
    {
      "cell_type": "markdown",
      "metadata": {
        "id": "ubNJXgLZLTUH"
      },
      "source": [
        "#### 41. How to sum a small array faster than np.sum? (★★☆) \n",
        "(**hint**: np.add.reduce)"
      ]
    },
    {
      "cell_type": "code",
      "execution_count": 3,
      "metadata": {
        "id": "0W3qcDHpLTUH",
        "colab": {
          "base_uri": "https://localhost:8080/"
        },
        "outputId": "267075bb-d54d-4fe0-9b89-428bbe9a971c"
      },
      "outputs": [
        {
          "output_type": "execute_result",
          "data": {
            "text/plain": [
              "44"
            ]
          },
          "metadata": {},
          "execution_count": 3
        }
      ],
      "source": [
        "a = np.random.randint(low = 10, size = 10)\n",
        "np.add.reduce(a)"
      ]
    },
    {
      "cell_type": "markdown",
      "metadata": {
        "id": "PO_ihDrDLTUH"
      },
      "source": [
        "#### 42. Consider two random array A and B, check if they are equal (★★☆) \n",
        "(**hint**: np.allclose, np.array\\_equal)"
      ]
    },
    {
      "cell_type": "code",
      "execution_count": 9,
      "metadata": {
        "id": "WCN6rFBULTUH",
        "colab": {
          "base_uri": "https://localhost:8080/"
        },
        "outputId": "4ae7e172-1584-4816-ecaf-ebcaf1942972"
      },
      "outputs": [
        {
          "output_type": "stream",
          "name": "stdout",
          "text": [
            "Arrays not equal\n"
          ]
        }
      ],
      "source": [
        "a = np.random.randint(0,5,5)\n",
        "b = np.random.randint(0,5,5)\n",
        "\n",
        "if not np.allclose(a, b) and not np.array_equal(a, b):\n",
        "    print(\"Arrays not equal\")\n",
        "\n",
        "else:\n",
        "    print(\"Arrays are equal\")"
      ]
    },
    {
      "cell_type": "markdown",
      "metadata": {
        "id": "1LZwOF7kLTUI"
      },
      "source": [
        "#### 43. Make an array immutable (read-only) (★★☆) \n",
        "(**hint**: flags.writeable)"
      ]
    },
    {
      "cell_type": "code",
      "execution_count": 11,
      "metadata": {
        "id": "xa3O6OPILTUI"
      },
      "outputs": [],
      "source": [
        "a = np.random.randint(0,5,5)\n",
        "\n",
        "a.flags.writeable = False"
      ]
    },
    {
      "cell_type": "markdown",
      "metadata": {
        "id": "bmp03ViXLTUI"
      },
      "source": [
        "#### 44. Consider a random 10x2 matrix representing cartesian coordinates, convert them to polar coordinates (★★☆) \n",
        "(**hint**: np.sqrt, np.arctan2)"
      ]
    },
    {
      "cell_type": "code",
      "execution_count": 12,
      "metadata": {
        "id": "VYLF4f_DLTUI",
        "colab": {
          "base_uri": "https://localhost:8080/"
        },
        "outputId": "3a5d995d-f15a-44bd-b732-fea923eaaf9b"
      },
      "outputs": [
        {
          "output_type": "stream",
          "name": "stdout",
          "text": [
            "[0.34311184 0.51207754 0.68900757 1.31635241 0.49323361 0.83532591\n",
            " 0.03478475 0.5879039  0.8116356  0.13535472]\n",
            "[0.55584351 0.84486533 1.46350858 0.78912992 0.50080517 1.49890107\n",
            " 0.1695349  0.59349526 0.7508633  0.04459877]\n"
          ]
        }
      ],
      "source": [
        "f = np.random.random((10, 2))\n",
        "x, y = f[:, 0], f[:, 1]\n",
        "r = np.sqrt(x**2 + y**2)\n",
        "theta = np.arctan2(y, x)\n",
        "print(r)\n",
        "print(theta)"
      ]
    },
    {
      "cell_type": "markdown",
      "metadata": {
        "id": "i7fnqkkWLTUI"
      },
      "source": [
        "#### 45. Create random vector of size 10 and replace the maximum value by 0 (★★☆) \n",
        "(**hint**: argmax)"
      ]
    },
    {
      "cell_type": "code",
      "execution_count": 13,
      "metadata": {
        "id": "IYNGWXe7LTUJ",
        "colab": {
          "base_uri": "https://localhost:8080/"
        },
        "outputId": "6abfe0db-bdb9-4512-c57a-560d09036e7f"
      },
      "outputs": [
        {
          "output_type": "execute_result",
          "data": {
            "text/plain": [
              "array([0.83604186, 0.250391  , 0.52372834, 0.52867409, 0.        ,\n",
              "       0.51410808, 0.11057152, 0.88627958, 0.92489036, 0.01096171])"
            ]
          },
          "metadata": {},
          "execution_count": 13
        }
      ],
      "source": [
        "v = np.random.random(10)\n",
        "v[v.argmax()] = 0\n",
        "v"
      ]
    },
    {
      "cell_type": "markdown",
      "metadata": {
        "id": "IQ2fmnsgLTUJ"
      },
      "source": [
        "#### 46. Create a structured array with `x` and `y` coordinates covering the \\[0,1\\]x\\[0,1\\] area (★★☆) \n",
        "(**hint**: np.meshgrid)"
      ]
    },
    {
      "cell_type": "code",
      "execution_count": 21,
      "metadata": {
        "id": "HUs2X4kFLTUJ",
        "colab": {
          "base_uri": "https://localhost:8080/"
        },
        "outputId": "92216093-7646-42e6-98cb-dad8663767c6"
      },
      "outputs": [
        {
          "output_type": "stream",
          "name": "stdout",
          "text": [
            "[[(0. , 0. ) (0.1, 0. ) (0.2, 0. ) (0.3, 0. ) (0.4, 0. ) (0.5, 0. )\n",
            "  (0.6, 0. ) (0.7, 0. ) (0.8, 0. ) (0.9, 0. ) (1. , 0. )]\n",
            " [(0. , 0.1) (0.1, 0.1) (0.2, 0.1) (0.3, 0.1) (0.4, 0.1) (0.5, 0.1)\n",
            "  (0.6, 0.1) (0.7, 0.1) (0.8, 0.1) (0.9, 0.1) (1. , 0.1)]\n",
            " [(0. , 0.2) (0.1, 0.2) (0.2, 0.2) (0.3, 0.2) (0.4, 0.2) (0.5, 0.2)\n",
            "  (0.6, 0.2) (0.7, 0.2) (0.8, 0.2) (0.9, 0.2) (1. , 0.2)]\n",
            " [(0. , 0.3) (0.1, 0.3) (0.2, 0.3) (0.3, 0.3) (0.4, 0.3) (0.5, 0.3)\n",
            "  (0.6, 0.3) (0.7, 0.3) (0.8, 0.3) (0.9, 0.3) (1. , 0.3)]\n",
            " [(0. , 0.4) (0.1, 0.4) (0.2, 0.4) (0.3, 0.4) (0.4, 0.4) (0.5, 0.4)\n",
            "  (0.6, 0.4) (0.7, 0.4) (0.8, 0.4) (0.9, 0.4) (1. , 0.4)]\n",
            " [(0. , 0.5) (0.1, 0.5) (0.2, 0.5) (0.3, 0.5) (0.4, 0.5) (0.5, 0.5)\n",
            "  (0.6, 0.5) (0.7, 0.5) (0.8, 0.5) (0.9, 0.5) (1. , 0.5)]\n",
            " [(0. , 0.6) (0.1, 0.6) (0.2, 0.6) (0.3, 0.6) (0.4, 0.6) (0.5, 0.6)\n",
            "  (0.6, 0.6) (0.7, 0.6) (0.8, 0.6) (0.9, 0.6) (1. , 0.6)]\n",
            " [(0. , 0.7) (0.1, 0.7) (0.2, 0.7) (0.3, 0.7) (0.4, 0.7) (0.5, 0.7)\n",
            "  (0.6, 0.7) (0.7, 0.7) (0.8, 0.7) (0.9, 0.7) (1. , 0.7)]\n",
            " [(0. , 0.8) (0.1, 0.8) (0.2, 0.8) (0.3, 0.8) (0.4, 0.8) (0.5, 0.8)\n",
            "  (0.6, 0.8) (0.7, 0.8) (0.8, 0.8) (0.9, 0.8) (1. , 0.8)]\n",
            " [(0. , 0.9) (0.1, 0.9) (0.2, 0.9) (0.3, 0.9) (0.4, 0.9) (0.5, 0.9)\n",
            "  (0.6, 0.9) (0.7, 0.9) (0.8, 0.9) (0.9, 0.9) (1. , 0.9)]\n",
            " [(0. , 1. ) (0.1, 1. ) (0.2, 1. ) (0.3, 1. ) (0.4, 1. ) (0.5, 1. )\n",
            "  (0.6, 1. ) (0.7, 1. ) (0.8, 1. ) (0.9, 1. ) (1. , 1. )]]\n"
          ]
        }
      ],
      "source": [
        "Z = np.zeros((11, 11), [('x',float),('y',float)])\n",
        "Z['x'], Z['y'] = np.meshgrid(np.linspace(0,1,11), np.linspace(0,1,11))\n",
        "print(Z)"
      ]
    },
    {
      "cell_type": "markdown",
      "metadata": {
        "id": "GirFj5Q7LTUJ"
      },
      "source": [
        "####  47. Given two arrays, X and Y, construct the Cauchy matrix C (Cij =1/(xi - yj)) \n",
        "(**hint**: np.subtract.outer)"
      ]
    },
    {
      "cell_type": "code",
      "execution_count": 29,
      "metadata": {
        "id": "SZJb5G50LTUK",
        "colab": {
          "base_uri": "https://localhost:8080/"
        },
        "outputId": "6b72bed4-940a-4cab-ebd6-21ce3d813df0"
      },
      "outputs": [
        {
          "output_type": "execute_result",
          "data": {
            "text/plain": [
              "array([[-2.        , -0.66666667, -0.4       , -0.28571429, -0.22222222,\n",
              "        -0.18181818, -0.15384615, -0.13333333, -0.11764706, -0.10526316],\n",
              "       [ 2.        , -2.        , -0.66666667, -0.4       , -0.28571429,\n",
              "        -0.22222222, -0.18181818, -0.15384615, -0.13333333, -0.11764706],\n",
              "       [ 0.66666667,  2.        , -2.        , -0.66666667, -0.4       ,\n",
              "        -0.28571429, -0.22222222, -0.18181818, -0.15384615, -0.13333333],\n",
              "       [ 0.4       ,  0.66666667,  2.        , -2.        , -0.66666667,\n",
              "        -0.4       , -0.28571429, -0.22222222, -0.18181818, -0.15384615],\n",
              "       [ 0.28571429,  0.4       ,  0.66666667,  2.        , -2.        ,\n",
              "        -0.66666667, -0.4       , -0.28571429, -0.22222222, -0.18181818],\n",
              "       [ 0.22222222,  0.28571429,  0.4       ,  0.66666667,  2.        ,\n",
              "        -2.        , -0.66666667, -0.4       , -0.28571429, -0.22222222],\n",
              "       [ 0.18181818,  0.22222222,  0.28571429,  0.4       ,  0.66666667,\n",
              "         2.        , -2.        , -0.66666667, -0.4       , -0.28571429],\n",
              "       [ 0.15384615,  0.18181818,  0.22222222,  0.28571429,  0.4       ,\n",
              "         0.66666667,  2.        , -2.        , -0.66666667, -0.4       ],\n",
              "       [ 0.13333333,  0.15384615,  0.18181818,  0.22222222,  0.28571429,\n",
              "         0.4       ,  0.66666667,  2.        , -2.        , -0.66666667],\n",
              "       [ 0.11764706,  0.13333333,  0.15384615,  0.18181818,  0.22222222,\n",
              "         0.28571429,  0.4       ,  0.66666667,  2.        , -2.        ]])"
            ]
          },
          "metadata": {},
          "execution_count": 29
        }
      ],
      "source": [
        "x = np.arange(10)\n",
        "y = x + 0.5\n",
        "c = 1/np.subtract.outer(x, y)\n",
        "c"
      ]
    },
    {
      "cell_type": "markdown",
      "metadata": {
        "id": "-vB1foguLTUK"
      },
      "source": [
        "#### 48. Print the minimum and maximum representable value for each numpy scalar type (★★☆) \n",
        "(**hint**: np.iinfo, np.finfo, eps)"
      ]
    },
    {
      "cell_type": "code",
      "execution_count": 30,
      "metadata": {
        "id": "egu4GfqTLTUK",
        "colab": {
          "base_uri": "https://localhost:8080/"
        },
        "outputId": "9bed4843-5977-43df-8114-029e7f1ffebb"
      },
      "outputs": [
        {
          "output_type": "stream",
          "name": "stdout",
          "text": [
            "-128\n",
            "127\n",
            "-2147483648\n",
            "2147483647\n",
            "-9223372036854775808\n",
            "9223372036854775807\n",
            "-3.4028235e+38\n",
            "3.4028235e+38\n",
            "1.1920929e-07\n",
            "-1.7976931348623157e+308\n",
            "1.7976931348623157e+308\n",
            "2.220446049250313e-16\n"
          ]
        }
      ],
      "source": [
        "for dtype in [np.int8, np.int32, np.int64]:\n",
        "   print(np.iinfo(dtype).min)\n",
        "   print(np.iinfo(dtype).max)\n",
        "for dtype in [np.float32, np.float64]:\n",
        "   print(np.finfo(dtype).min)\n",
        "   print(np.finfo(dtype).max)\n",
        "   print(np.finfo(dtype).eps)"
      ]
    },
    {
      "cell_type": "markdown",
      "metadata": {
        "id": "OFUvwDXULTUK"
      },
      "source": [
        "#### 49. How to print all the values of an array? (★★☆) \n",
        "(**hint**: np.set\\_printoptions)"
      ]
    },
    {
      "cell_type": "code",
      "execution_count": 82,
      "metadata": {
        "id": "GWwb226CLTUL"
      },
      "outputs": [],
      "source": [
        ""
      ]
    },
    {
      "cell_type": "markdown",
      "metadata": {
        "id": "-K2Gu25ULTUL"
      },
      "source": [
        "#### 50. How to find the closest value (to a given scalar) in a vector? (★★☆) \n",
        "(**hint**: argmin)"
      ]
    },
    {
      "cell_type": "code",
      "execution_count": 32,
      "metadata": {
        "id": "N853g0DpLTUL",
        "colab": {
          "base_uri": "https://localhost:8080/"
        },
        "outputId": "5c78973d-400d-4a71-b00b-e8cd27240671"
      },
      "outputs": [
        {
          "output_type": "stream",
          "name": "stdout",
          "text": [
            "80\n"
          ]
        }
      ],
      "source": [
        "a = np.arange(100)\n",
        "v = np.random.uniform(0,100)\n",
        "index = (np.abs(a-v)).argmin()\n",
        "print(a[index])"
      ]
    },
    {
      "cell_type": "markdown",
      "metadata": {
        "id": "sRBi6EMZLTUL"
      },
      "source": [
        "#### 51. Create a structured array representing a position (x,y) and a color (r,g,b) (★★☆) \n",
        "(**hint**: dtype)"
      ]
    },
    {
      "cell_type": "code",
      "execution_count": 3,
      "metadata": {
        "id": "2QXQNQaxLTUL",
        "colab": {
          "base_uri": "https://localhost:8080/"
        },
        "outputId": "491f9c4a-8c20-4651-ae35-20f7f4d77935"
      },
      "outputs": [
        {
          "output_type": "stream",
          "name": "stdout",
          "text": [
            "[((0., 0.), (0., 0., 0.)) ((0., 0.), (0., 0., 0.))\n",
            " ((0., 0.), (0., 0., 0.)) ((0., 0.), (0., 0., 0.))\n",
            " ((0., 0.), (0., 0., 0.)) ((0., 0.), (0., 0., 0.))\n",
            " ((0., 0.), (0., 0., 0.)) ((0., 0.), (0., 0., 0.))\n",
            " ((0., 0.), (0., 0., 0.)) ((0., 0.), (0., 0., 0.))]\n"
          ]
        }
      ],
      "source": [
        "position = ('position', [ ('x', float),('y', float)])\n",
        "color = ('color', [('r', float), ('g', float), ('b', float)])\n",
        "array = np.zeros(10,[position, color])\n",
        "print(array)"
      ]
    },
    {
      "cell_type": "markdown",
      "metadata": {
        "id": "RRrkwv_YLTUL"
      },
      "source": [
        "#### 52. Consider a random vector with shape (100,2) representing coordinates, find point by point distances (★★☆) \n",
        "(**hint**: np.atleast\\_2d, T, np.sqrt)"
      ]
    },
    {
      "cell_type": "code",
      "execution_count": 5,
      "metadata": {
        "id": "GwYPtCDsLTUM",
        "colab": {
          "base_uri": "https://localhost:8080/"
        },
        "outputId": "387649f2-33e5-4c26-d597-4942b1222d75"
      },
      "outputs": [
        {
          "output_type": "stream",
          "name": "stdout",
          "text": [
            "[[0.         0.89080456 0.38516251 0.58680251 0.42331438 0.91697149\n",
            "  0.49532766 0.60763359 0.16209838 0.83850015]\n",
            " [0.89080456 0.         1.034411   0.72263216 0.57984368 0.14846221\n",
            "  0.41973648 0.63111421 0.772931   0.1907556 ]\n",
            " [0.38516251 1.034411   0.         0.94936632 0.45507911 1.00374804\n",
            "  0.62002526 0.50366728 0.52042561 1.05035484]\n",
            " [0.58680251 0.72263216 0.94936632 0.         0.70141141 0.83658532\n",
            "  0.594915   0.90834805 0.43156758 0.55954556]\n",
            " [0.42331438 0.57984368 0.45507911 0.70141141 0.         0.5534253\n",
            "  0.17661997 0.21550378 0.40403466 0.61400692]\n",
            " [0.91697149 0.14846221 1.00374804 0.83658532 0.5534253  0.\n",
            "  0.42300062 0.55342023 0.81960534 0.33579006]\n",
            " [0.49532766 0.41973648 0.62002526 0.594915   0.17661997 0.42300062\n",
            "  0.         0.33060291 0.41509943 0.43770265]\n",
            " [0.60763359 0.63111421 0.50366728 0.90834805 0.21550378 0.55342023\n",
            "  0.33060291 0.         0.61430161 0.72196462]\n",
            " [0.16209838 0.772931   0.52042561 0.43156758 0.40403466 0.81960534\n",
            "  0.41509943 0.61430161 0.         0.69867109]\n",
            " [0.83850015 0.1907556  1.05035484 0.55954556 0.61400692 0.33579006\n",
            "  0.43770265 0.72196462 0.69867109 0.        ]]\n"
          ]
        }
      ],
      "source": [
        "p = np.random.random((10,2))\n",
        "x, y = np.atleast_2d(p[:,0], p[:,1])\n",
        "dis = np.sqrt( (x-x.T)**2 + (y-y.T)**2)\n",
        "print(dis)"
      ]
    },
    {
      "cell_type": "markdown",
      "metadata": {
        "id": "Vc01onklLTUM"
      },
      "source": [
        "#### 53. How to convert a float (32 bits) array into an integer (32 bits) in place? \n",
        "(**hint**: astype(copy=False))"
      ]
    },
    {
      "cell_type": "code",
      "execution_count": 8,
      "metadata": {
        "id": "Dy5VRAPFLTUM",
        "colab": {
          "base_uri": "https://localhost:8080/"
        },
        "outputId": "9e9114ef-fe49-4320-d5a1-cfeeb9c8ff38"
      },
      "outputs": [
        {
          "output_type": "stream",
          "name": "stdout",
          "text": [
            "[0 1 2 3 4 5 6 7 8 9]\n"
          ]
        }
      ],
      "source": [
        "arr = np.arange(10, dtype=np.float32)\n",
        "print(arr.astype(np.int32))"
      ]
    },
    {
      "cell_type": "markdown",
      "metadata": {
        "id": "KLB4LImwLTUM"
      },
      "source": [
        "#### 54. How to read the following file? (★★☆) \n",
        "(**hint**: np.genfromtxt)"
      ]
    },
    {
      "cell_type": "markdown",
      "metadata": {
        "id": "Zz2pxcmPLTUM"
      },
      "source": [
        "```\n",
        "1, 2, 3, 4, 5\n",
        "6,  ,  , 7, 8\n",
        " ,  , 9,10,11\n",
        "```"
      ]
    },
    {
      "cell_type": "code",
      "execution_count": 17,
      "metadata": {
        "id": "0dGvYh1-LTUN",
        "colab": {
          "base_uri": "https://localhost:8080/"
        },
        "outputId": "68509291-ce37-4fef-9c1c-81fa143d838e"
      },
      "outputs": [
        {
          "output_type": "stream",
          "name": "stdout",
          "text": [
            "[[ 1.  2.  3.  4.  5.]\n",
            " [ 6. nan nan  7.  8.]\n",
            " [nan nan  9. 10. 11.]]\n"
          ]
        }
      ],
      "source": [
        "from io import StringIO\n",
        "\n",
        "str1 = StringIO(\"\"\"1, 2, 3, 4, 5\\n\n",
        "                6,  ,  , 7, 8\\n\n",
        "                 ,  , 9,10,11\\n\"\"\")\n",
        "str2 = np.genfromtxt(str1, delimiter=\",\")\n",
        "print(str2)"
      ]
    },
    {
      "cell_type": "markdown",
      "metadata": {
        "id": "royKKcPuLTUN"
      },
      "source": [
        "#### 55. What is the equivalent of enumerate for numpy arrays? (★★☆) \n",
        "(**hint**: np.ndenumerate, np.ndindex)"
      ]
    },
    {
      "cell_type": "code",
      "execution_count": 19,
      "metadata": {
        "id": "SRvHs9iYLTUN",
        "colab": {
          "base_uri": "https://localhost:8080/"
        },
        "outputId": "a9699653-c7d0-4237-fe98-8ead331e479b"
      },
      "outputs": [
        {
          "output_type": "stream",
          "name": "stdout",
          "text": [
            "(0, 0) 0\n",
            "(0, 1) 1\n",
            "(0, 2) 2\n",
            "(1, 0) 3\n",
            "(1, 1) 4\n",
            "(1, 2) 5\n",
            "(2, 0) 6\n",
            "(2, 1) 7\n",
            "(2, 2) 8\n",
            "\n",
            "\n",
            "(0, 0) 0\n",
            "(0, 1) 1\n",
            "(0, 2) 2\n",
            "(1, 0) 3\n",
            "(1, 1) 4\n",
            "(1, 2) 5\n",
            "(2, 0) 6\n",
            "(2, 1) 7\n",
            "(2, 2) 8\n"
          ]
        }
      ],
      "source": [
        "arr = np.arange(9).reshape(3,3)\n",
        "for index, value in np.ndenumerate(arr):\n",
        "    print(index, value)\n",
        "print(\"\\n\")\n",
        "for index in np.ndindex(arr.shape):\n",
        "    print(index, arr[index])"
      ]
    },
    {
      "cell_type": "markdown",
      "metadata": {
        "id": "7z0aZxeALTUN"
      },
      "source": [
        "#### 56. Generate a generic 2D Gaussian-like array (★★☆) \n",
        "(**hint**: np.meshgrid, np.exp)"
      ]
    },
    {
      "cell_type": "code",
      "execution_count": 21,
      "metadata": {
        "id": "R00vgn3hLTUN",
        "colab": {
          "base_uri": "https://localhost:8080/"
        },
        "outputId": "da9cf631-73d5-424f-957c-eae2607ba1a0"
      },
      "outputs": [
        {
          "output_type": "stream",
          "name": "stdout",
          "text": [
            "[[0.36787944 0.44822088 0.51979489 0.57375342 0.60279818 0.60279818\n",
            "  0.57375342 0.51979489 0.44822088 0.36787944]\n",
            " [0.44822088 0.54610814 0.63331324 0.69905581 0.73444367 0.73444367\n",
            "  0.69905581 0.63331324 0.54610814 0.44822088]\n",
            " [0.51979489 0.63331324 0.73444367 0.81068432 0.85172308 0.85172308\n",
            "  0.81068432 0.73444367 0.63331324 0.51979489]\n",
            " [0.57375342 0.69905581 0.81068432 0.89483932 0.9401382  0.9401382\n",
            "  0.89483932 0.81068432 0.69905581 0.57375342]\n",
            " [0.60279818 0.73444367 0.85172308 0.9401382  0.98773022 0.98773022\n",
            "  0.9401382  0.85172308 0.73444367 0.60279818]\n",
            " [0.60279818 0.73444367 0.85172308 0.9401382  0.98773022 0.98773022\n",
            "  0.9401382  0.85172308 0.73444367 0.60279818]\n",
            " [0.57375342 0.69905581 0.81068432 0.89483932 0.9401382  0.9401382\n",
            "  0.89483932 0.81068432 0.69905581 0.57375342]\n",
            " [0.51979489 0.63331324 0.73444367 0.81068432 0.85172308 0.85172308\n",
            "  0.81068432 0.73444367 0.63331324 0.51979489]\n",
            " [0.44822088 0.54610814 0.63331324 0.69905581 0.73444367 0.73444367\n",
            "  0.69905581 0.63331324 0.54610814 0.44822088]\n",
            " [0.36787944 0.44822088 0.51979489 0.57375342 0.60279818 0.60279818\n",
            "  0.57375342 0.51979489 0.44822088 0.36787944]]\n"
          ]
        }
      ],
      "source": [
        "sigma, mu = 1.0, 0.0\n",
        "\n",
        "x, y = np.meshgrid(np.linspace(-1,1,10), np.linspace(-1,1,10))\n",
        "dis = np.sqrt(x*x + y*y)\n",
        "\n",
        "Gauss = np.exp(-( (dis - mu)**2 / ( 2.0 * sigma**2 ) ) )\n",
        "print(Gauss)"
      ]
    },
    {
      "cell_type": "markdown",
      "metadata": {
        "id": "Ro6Sn5buLTUN"
      },
      "source": [
        "#### 57. How to randomly place p elements in a 2D array? (★★☆) \n",
        "(**hint**: np.put, np.random.choice)"
      ]
    },
    {
      "cell_type": "code",
      "execution_count": 25,
      "metadata": {
        "id": "-mMWzpMBLTUN",
        "colab": {
          "base_uri": "https://localhost:8080/"
        },
        "outputId": "337eed79-042b-47f4-c4a2-b085544e073b"
      },
      "outputs": [
        {
          "output_type": "stream",
          "name": "stdout",
          "text": [
            "[[1. 1. 1. 1. 3. 4. 1. 1. 1. 1.]\n",
            " [1. 1. 1. 1. 1. 1. 1. 1. 1. 1.]\n",
            " [1. 1. 1. 1. 1. 1. 1. 1. 1. 1.]\n",
            " [1. 1. 1. 1. 1. 1. 1. 1. 1. 1.]\n",
            " [1. 1. 1. 1. 1. 1. 1. 1. 1. 1.]\n",
            " [1. 1. 1. 1. 1. 1. 1. 1. 1. 1.]\n",
            " [1. 4. 1. 1. 1. 1. 1. 1. 1. 1.]\n",
            " [1. 1. 1. 1. 1. 1. 1. 1. 1. 1.]\n",
            " [1. 1. 1. 1. 1. 1. 1. 1. 1. 1.]\n",
            " [1. 1. 1. 1. 1. 1. 1. 1. 1. 1.]]\n"
          ]
        }
      ],
      "source": [
        "n = 10\n",
        "p = 3\n",
        "arr = np.ones((n,n))\n",
        "np.put(arr, np.random.choice(range(n*n), p), np.random.randint(low = 2, high = 5, size = 3))\n",
        "print(arr)"
      ]
    },
    {
      "cell_type": "markdown",
      "metadata": {
        "id": "o5y13Ch-LTUO"
      },
      "source": [
        "#### 58. Subtract the mean of each row of a matrix (★★☆) \n",
        "(**hint**: mean(axis=,keepdims=))"
      ]
    },
    {
      "cell_type": "code",
      "execution_count": 32,
      "metadata": {
        "id": "IUaOKiLbLTUO",
        "colab": {
          "base_uri": "https://localhost:8080/"
        },
        "outputId": "fdde6796-cb99-45c2-e023-5396a3271654"
      },
      "outputs": [
        {
          "output_type": "stream",
          "name": "stdout",
          "text": [
            "[[-0.22851466 -0.37413989  0.19761199 -0.16708415  0.18834448  0.41049941\n",
            "   0.27199397 -0.38762819 -0.37345088  0.46236793]\n",
            " [-0.0988172   0.0176469   0.02797667  0.19704017 -0.38407686  0.59198108\n",
            "  -0.23777899 -0.39725767 -0.1624956   0.44578149]\n",
            " [-0.30925299  0.33686294 -0.25197263  0.10355196  0.50591544 -0.35572979\n",
            "   0.18260516 -0.18010722 -0.30452598  0.27265309]\n",
            " [-0.31959509  0.29951446 -0.24950994 -0.03966548 -0.31113337  0.10203329\n",
            "   0.48574045  0.31789372 -0.23954275 -0.04573529]\n",
            " [ 0.08356086  0.34804363 -0.40133892 -0.38729092  0.36962116 -0.13838681\n",
            "  -0.02367235  0.25508274  0.28339073 -0.38901012]]\n"
          ]
        }
      ],
      "source": [
        "x = np.random.random((5, 10))\n",
        "y = x - x.mean(axis = 1, keepdims = True)\n",
        "print(y)"
      ]
    },
    {
      "cell_type": "markdown",
      "metadata": {
        "id": "pm9bn4IoLTUO"
      },
      "source": [
        "#### 59. How to sort an array by the nth column? (★★☆) \n",
        "(**hint**: argsort)"
      ]
    },
    {
      "cell_type": "code",
      "execution_count": 42,
      "metadata": {
        "id": "szSd21iqLTUO",
        "colab": {
          "base_uri": "https://localhost:8080/"
        },
        "outputId": "87f3051e-3c1b-41cf-a5c7-c4b2200c2a79"
      },
      "outputs": [
        {
          "output_type": "stream",
          "name": "stdout",
          "text": [
            "[[2 4 7]\n",
            " [1 8 8]\n",
            " [5 1 6]]\n",
            "\n",
            "\n",
            "[[5 1 6]\n",
            " [2 4 7]\n",
            " [1 8 8]]\n"
          ]
        }
      ],
      "source": [
        "arr = np.random.randint(0,10,(3,3))\n",
        "print(arr)\n",
        "print(\"\\n\")\n",
        "print(arr[arr[:,2].argsort()])"
      ]
    },
    {
      "cell_type": "markdown",
      "metadata": {
        "id": "T6_5R6DGLTUO"
      },
      "source": [
        "#### 60. How to tell if a given 2D array has null columns? (★★☆) \n",
        "(**hint**: any, ~)"
      ]
    },
    {
      "cell_type": "code",
      "execution_count": 48,
      "metadata": {
        "id": "B9sFzAFBLTUO",
        "colab": {
          "base_uri": "https://localhost:8080/"
        },
        "outputId": "64f0ce8e-df26-4616-98a7-6dc1b7f96601"
      },
      "outputs": [
        {
          "output_type": "stream",
          "name": "stdout",
          "text": [
            "False\n"
          ]
        }
      ],
      "source": [
        "arr = np.random.randint(0,3,(3,10))\n",
        "print((~arr.any()).any())"
      ]
    },
    {
      "cell_type": "markdown",
      "metadata": {
        "id": "lSpWXydnLTUP"
      },
      "source": [
        "#### 61. Find the nearest value from a given value in an array (★★☆) \n",
        "(**hint**: np.abs, argmin, flat)"
      ]
    },
    {
      "cell_type": "code",
      "execution_count": 59,
      "metadata": {
        "id": "B4lC5cKYLTUP",
        "colab": {
          "base_uri": "https://localhost:8080/"
        },
        "outputId": "8ca640ba-986a-47fe-dc12-f358911747c7"
      },
      "outputs": [
        {
          "output_type": "stream",
          "name": "stdout",
          "text": [
            "[35 80 67 35 18] \n",
            " 87 \n",
            " 80\n"
          ]
        }
      ],
      "source": [
        "arr = np.random.randint(low = 0, high = 100, size = 5)\n",
        "val = np.random.randint(100)\n",
        "n = arr.flat[np.abs(arr - val).argmin()]\n",
        "print(arr, \"\\n\", val, \"\\n\", n)"
      ]
    },
    {
      "cell_type": "markdown",
      "metadata": {
        "id": "bMkpImfxLTUP"
      },
      "source": [
        "#### 62. Considering two arrays with shape (1,3) and (3,1), how to compute their sum using an iterator? (★★☆) \n",
        "(**hint**: np.nditer)"
      ]
    },
    {
      "cell_type": "code",
      "execution_count": 72,
      "metadata": {
        "id": "ElPzbaCALTUP",
        "colab": {
          "base_uri": "https://localhost:8080/"
        },
        "outputId": "8d33148e-bdc4-48df-c468-a907eabc9fe4"
      },
      "outputs": [
        {
          "output_type": "stream",
          "name": "stdout",
          "text": [
            "[[0]\n",
            " [1]\n",
            " [2]] \n",
            "\n",
            "[[0 1 2]] \n",
            "\n",
            "[[0 1 2]\n",
            " [1 2 3]\n",
            " [2 3 4]]\n"
          ]
        }
      ],
      "source": [
        "a = np.arange(3).reshape(3,1)\n",
        "print(a, \"\\n\")\n",
        "b = np.arange(3).reshape(1,3)\n",
        "print(b, \"\\n\")\n",
        "itr = np.nditer([a, b, None])\n",
        "for x,y,z in itr:\n",
        "    z[...] = x + y\n",
        "print(itr.operands[2])"
      ]
    },
    {
      "cell_type": "markdown",
      "metadata": {
        "id": "HsHzzyJWLTUP"
      },
      "source": [
        "#### 63. Create an array class that has a name attribute (★★☆) \n",
        "(**hint**: class method)"
      ]
    },
    {
      "cell_type": "code",
      "execution_count": 72,
      "metadata": {
        "id": "IL9T_GbQLTUP"
      },
      "outputs": [],
      "source": [
        ""
      ]
    },
    {
      "cell_type": "markdown",
      "metadata": {
        "id": "hiUdQee0LTUP"
      },
      "source": [
        "#### 64. Consider a given vector, how to add 1 to each element indexed by a second vector (be careful with repeated indices)? (★★★) \n",
        "(**hint**: np.bincount | np.add.at)"
      ]
    },
    {
      "cell_type": "code",
      "execution_count": 74,
      "metadata": {
        "id": "xe8Ox0n4LTUQ",
        "colab": {
          "base_uri": "https://localhost:8080/"
        },
        "outputId": "8116c745-a6db-4155-e3dc-99e1f89ebe69"
      },
      "outputs": [
        {
          "output_type": "stream",
          "name": "stdout",
          "text": [
            "[1. 1. 1. 1. 1. 1. 1. 1. 1. 1.] \n",
            "\n",
            "[9 3 0 8 9 0 3 3 8 4 2 6 3 0 2 7 3 8 8 7] \n",
            "\n",
            "[4. 1. 3. 6. 2. 1. 2. 3. 5. 3.]\n"
          ]
        }
      ],
      "source": [
        "v = np.ones(10)\n",
        "print(v, '\\n')\n",
        "i = np.random.randint(0,len(v),20)\n",
        "print(i, '\\n')\n",
        "\n",
        "np.add.at(v, i, 1)\n",
        "print(v)"
      ]
    },
    {
      "cell_type": "markdown",
      "metadata": {
        "id": "vwEXGUEVLTUQ"
      },
      "source": [
        "#### 65. How to accumulate elements of a vector (X) to an array (F) based on an index list (I)? (★★★) \n",
        "(**hint**: np.bincount)"
      ]
    },
    {
      "cell_type": "code",
      "execution_count": 76,
      "metadata": {
        "id": "j5RpETClLTUQ",
        "colab": {
          "base_uri": "https://localhost:8080/"
        },
        "outputId": "dd3b07da-c5db-4b70-d450-f1507495ff7e"
      },
      "outputs": [
        {
          "output_type": "stream",
          "name": "stdout",
          "text": [
            "[ 0. 16. 10. 17.]\n"
          ]
        }
      ],
      "source": [
        "x = [10, 11, 4, 6, 2, 1, 9]\n",
        "i = [1, 3, 1, 3, 1, 2, 2]\n",
        "f = np.bincount(i, x)\n",
        "print(f)"
      ]
    },
    {
      "cell_type": "markdown",
      "metadata": {
        "id": "Bf7bIXQMLTUQ"
      },
      "source": [
        "#### 66. Considering a (w,h,3) image of (dtype=ubyte), compute the number of unique colors (★★★) \n",
        "(**hint**: np.unique)"
      ]
    },
    {
      "cell_type": "code",
      "execution_count": 77,
      "metadata": {
        "id": "h33Pc2WmLTUQ",
        "colab": {
          "base_uri": "https://localhost:8080/"
        },
        "outputId": "9aaeb654-2ddc-4e17-a6a3-26b64f175ace"
      },
      "outputs": [
        {
          "output_type": "stream",
          "name": "stdout",
          "text": [
            "8\n"
          ]
        }
      ],
      "source": [
        "w,h = 16,16\n",
        "i = np.random.randint(0,2,(h,w,3)).astype(np.ubyte)\n",
        "f = i[...,0]*(256*256) + i[...,1]*256 +i[...,2]\n",
        "n = len(np.unique(f))\n",
        "print(n)"
      ]
    },
    {
      "cell_type": "markdown",
      "metadata": {
        "id": "NaE47R_-LTUQ"
      },
      "source": [
        "#### 67. Considering a four dimensions array, how to get sum over the last two axis at once? (★★★) \n",
        "(**hint**: sum(axis=(-2,-1)))"
      ]
    },
    {
      "cell_type": "code",
      "execution_count": 81,
      "metadata": {
        "id": "DYZKyurrLTUQ",
        "colab": {
          "base_uri": "https://localhost:8080/"
        },
        "outputId": "fca1c761-b066-4f50-8eac-e851c0687955"
      },
      "outputs": [
        {
          "output_type": "stream",
          "name": "stdout",
          "text": [
            "[[[[9 4 0 3]\n",
            "   [7 6 4 5]\n",
            "   [4 9 2 7]]\n",
            "\n",
            "  [[9 7 9 0]\n",
            "   [7 2 1 2]\n",
            "   [0 1 9 7]]\n",
            "\n",
            "  [[6 0 2 4]\n",
            "   [2 6 3 7]\n",
            "   [3 3 8 8]]\n",
            "\n",
            "  [[3 1 2 2]\n",
            "   [9 4 9 3]\n",
            "   [7 4 0 6]]]\n",
            "\n",
            "\n",
            " [[[2 4 4 5]\n",
            "   [8 4 1 9]\n",
            "   [0 6 8 8]]\n",
            "\n",
            "  [[6 3 5 7]\n",
            "   [3 4 6 6]\n",
            "   [6 2 5 9]]\n",
            "\n",
            "  [[9 1 6 7]\n",
            "   [2 8 1 8]\n",
            "   [0 2 6 8]]\n",
            "\n",
            "  [[9 4 3 9]\n",
            "   [8 1 2 3]\n",
            "   [2 6 6 7]]]\n",
            "\n",
            "\n",
            " [[[6 6 5 3]\n",
            "   [7 4 0 8]\n",
            "   [8 8 6 0]]\n",
            "\n",
            "  [[4 5 4 9]\n",
            "   [9 0 7 2]\n",
            "   [8 5 7 3]]\n",
            "\n",
            "  [[8 8 4 1]\n",
            "   [8 5 8 8]\n",
            "   [8 1 0 4]]\n",
            "\n",
            "  [[5 8 4 8]\n",
            "   [3 7 2 9]\n",
            "   [0 7 7 9]]]] \n",
            "\n",
            "[[60 54 52 50]\n",
            " [59 62 58 60]\n",
            " [61 63 63 69]]\n"
          ]
        }
      ],
      "source": [
        "arr = np.random.randint(0,10,(3,4,3,4))\n",
        "print(arr, '\\n')\n",
        "sum = arr.sum(axis=(-2,-1))\n",
        "print(sum)"
      ]
    },
    {
      "cell_type": "markdown",
      "metadata": {
        "id": "UJB2yYfALTUR"
      },
      "source": [
        "#### 68. Considering a one-dimensional vector D, how to compute means of subsets of D using a vector S of same size describing subset  indices? (★★★) \n",
        "(**hint**: np.bincount)"
      ]
    },
    {
      "cell_type": "code",
      "execution_count": 85,
      "metadata": {
        "id": "x0KKLiClLTUR",
        "colab": {
          "base_uri": "https://localhost:8080/"
        },
        "outputId": "026a4f84-86f7-4216-d78a-ae90357b7b3f"
      },
      "outputs": [
        {
          "output_type": "stream",
          "name": "stdout",
          "text": [
            "[0.55611108 0.37202887 0.64547463 0.39948129 0.4964079  0.49930761\n",
            " 0.45648306 0.50587258 0.55945521 0.42909223]\n"
          ]
        }
      ],
      "source": [
        "D = np.random.uniform(0,1,100)\n",
        "S = np.random.randint(0,10,100)\n",
        "D_sums = np.bincount(S, weights=D)\n",
        "D_counts = np.bincount(S)\n",
        "D_means = D_sums / D_counts\n",
        "print(D_means)"
      ]
    },
    {
      "cell_type": "markdown",
      "metadata": {
        "id": "AdxzDPJYLTUR"
      },
      "source": [
        "#### 69. How to get the diagonal of a dot product? (★★★) \n",
        "(**hint**: np.diag)"
      ]
    },
    {
      "cell_type": "code",
      "execution_count": 86,
      "metadata": {
        "id": "W8Z55_ttLTUR",
        "colab": {
          "base_uri": "https://localhost:8080/"
        },
        "outputId": "a00e5724-fcc0-48e2-ee0f-41cd69991a1d"
      },
      "outputs": [
        {
          "output_type": "execute_result",
          "data": {
            "text/plain": [
              "array([0.83790063, 0.4872569 , 1.65625895, 0.47547292, 1.57486793])"
            ]
          },
          "metadata": {},
          "execution_count": 86
        }
      ],
      "source": [
        "a = np.random.uniform(0,1,(5,5))\n",
        "b = np.random.uniform(0,1,(5,5))\n",
        "\n",
        "np.diag(np.dot(a, b))"
      ]
    },
    {
      "cell_type": "markdown",
      "metadata": {
        "id": "5E-X8TSaLTUR"
      },
      "source": [
        "#### 70. Consider the vector \\[1, 2, 3, 4, 5\\], how to build a new vector with 3 consecutive zeros interleaved between each value? (★★★) \n",
        "(**hint**: array\\[::4\\])"
      ]
    },
    {
      "cell_type": "code",
      "execution_count": 87,
      "metadata": {
        "id": "539mJzH7LTUR",
        "colab": {
          "base_uri": "https://localhost:8080/"
        },
        "outputId": "ebb17851-9e2c-4442-d129-710cc62215c6"
      },
      "outputs": [
        {
          "output_type": "stream",
          "name": "stdout",
          "text": [
            "[0. 0. 0. 0. 0. 0. 0. 0. 0. 0. 0. 0. 0. 0. 0. 0. 0.] \n",
            "\n",
            "[1. 0. 0. 0. 2. 0. 0. 0. 3. 0. 0. 0. 4. 0. 0. 0. 5.]\n"
          ]
        }
      ],
      "source": [
        "v = np.array([1,2,3,4,5])\n",
        "n = 3\n",
        "v0 = np.zeros(len(v) + (len(v)-1)*(n))\n",
        "print(v0,'\\n')\n",
        "v0[::n+1] = v\n",
        "print(v0)"
      ]
    },
    {
      "cell_type": "markdown",
      "metadata": {
        "id": "R5zb3PfFLTUR"
      },
      "source": [
        "#### 71. Consider an array of dimension (5,5,3), how to mulitply it by an array with dimensions (5,5)? (★★★) \n",
        "(**hint**: array\\[:, :, None\\])"
      ]
    },
    {
      "cell_type": "code",
      "execution_count": 88,
      "metadata": {
        "collapsed": true,
        "id": "aJ8_vlB1LTUR",
        "colab": {
          "base_uri": "https://localhost:8080/"
        },
        "outputId": "5ae2b070-6147-417b-b22d-0ebb91fd6216"
      },
      "outputs": [
        {
          "output_type": "stream",
          "name": "stdout",
          "text": [
            "[[[2. 2. 2.]\n",
            "  [2. 2. 2.]\n",
            "  [2. 2. 2.]\n",
            "  [2. 2. 2.]\n",
            "  [2. 2. 2.]]\n",
            "\n",
            " [[2. 2. 2.]\n",
            "  [2. 2. 2.]\n",
            "  [2. 2. 2.]\n",
            "  [2. 2. 2.]\n",
            "  [2. 2. 2.]]\n",
            "\n",
            " [[2. 2. 2.]\n",
            "  [2. 2. 2.]\n",
            "  [2. 2. 2.]\n",
            "  [2. 2. 2.]\n",
            "  [2. 2. 2.]]\n",
            "\n",
            " [[2. 2. 2.]\n",
            "  [2. 2. 2.]\n",
            "  [2. 2. 2.]\n",
            "  [2. 2. 2.]\n",
            "  [2. 2. 2.]]\n",
            "\n",
            " [[2. 2. 2.]\n",
            "  [2. 2. 2.]\n",
            "  [2. 2. 2.]\n",
            "  [2. 2. 2.]\n",
            "  [2. 2. 2.]]]\n"
          ]
        }
      ],
      "source": [
        "A = np.ones((5,5,3))\n",
        "B = 2*np.ones((5,5))\n",
        "print(A * B[:,:,None])"
      ]
    },
    {
      "cell_type": "markdown",
      "metadata": {
        "id": "TKtIvufgLTUS"
      },
      "source": [
        "#### 72. How to swap two rows of an array? (★★★) \n",
        "(**hint**: array\\[\\[\\]\\] = array\\[\\[\\]\\])"
      ]
    },
    {
      "cell_type": "code",
      "execution_count": 91,
      "metadata": {
        "id": "5S0HdQ_tLTUS",
        "colab": {
          "base_uri": "https://localhost:8080/"
        },
        "outputId": "5529afc8-bc3a-494a-d6c9-9c835bd9fed4"
      },
      "outputs": [
        {
          "output_type": "stream",
          "name": "stdout",
          "text": [
            "[[0 1 2]\n",
            " [3 4 5]\n",
            " [6 7 8]] \n",
            "\n",
            "[[3 4 5]\n",
            " [0 1 2]\n",
            " [6 7 8]]\n"
          ]
        }
      ],
      "source": [
        "arr = np.arange(9).reshape(3, 3)\n",
        "print(arr,'\\n')\n",
        "arr[[0,1]] = arr[[1,0]]\n",
        "print(arr)"
      ]
    },
    {
      "cell_type": "markdown",
      "metadata": {
        "id": "f2ULLgSrLTUS"
      },
      "source": [
        "#### 73. Consider a set of 10 triplets describing 10 triangles (with shared vertices), find the set of unique line segments composing all the  triangles (★★★) \n",
        "(**hint**: repeat, np.roll, np.sort, view, np.unique)"
      ]
    },
    {
      "cell_type": "code",
      "execution_count": 92,
      "metadata": {
        "id": "P_x34U5oLTUS",
        "colab": {
          "base_uri": "https://localhost:8080/"
        },
        "outputId": "060210e2-2174-4d8b-b362-58b58376a084"
      },
      "outputs": [
        {
          "output_type": "stream",
          "name": "stdout",
          "text": [
            "[1 1 2 3 4 4 6]\n"
          ]
        }
      ],
      "source": [
        ""
      ]
    },
    {
      "cell_type": "markdown",
      "metadata": {
        "id": "VUmASdQMLTUS"
      },
      "source": [
        "#### 74. Given an array C that is a bincount, how to produce an array A such that np.bincount(A) == C? (★★★) \n",
        "(**hint**: np.repeat)"
      ]
    },
    {
      "cell_type": "code",
      "execution_count": 94,
      "metadata": {
        "id": "r4c4_2EALTUS",
        "colab": {
          "base_uri": "https://localhost:8080/"
        },
        "outputId": "1df51cde-61d0-4993-e805-16cea20ebef7"
      },
      "outputs": [
        {
          "output_type": "stream",
          "name": "stdout",
          "text": [
            "[1 1 2 3 4 4 6]\n"
          ]
        }
      ],
      "source": [
        "C = np.bincount([1,1,2,3,4,4,6])\n",
        "A = np.repeat(np.arange(len(C)), C)\n",
        "print(A)"
      ]
    },
    {
      "cell_type": "markdown",
      "metadata": {
        "id": "9v5fTzRuLTUT"
      },
      "source": [
        "#### 75. How to compute averages using a sliding window over an array? (★★★) \n",
        "(**hint**: np.cumsum)"
      ]
    },
    {
      "cell_type": "code",
      "execution_count": 3,
      "metadata": {
        "id": "XjsPVXFjLTUT",
        "colab": {
          "base_uri": "https://localhost:8080/"
        },
        "outputId": "1c0637af-1657-47b7-f702-5eb7a765246b"
      },
      "outputs": [
        {
          "output_type": "stream",
          "name": "stdout",
          "text": [
            "[ 0  1  2  3  4  5  6  7  8  9 10 11 12 13 14 15 16 17 18 19]\n",
            "[ 1.  2.  3.  4.  5.  6.  7.  8.  9. 10. 11. 12. 13. 14. 15. 16. 17. 18.]\n"
          ]
        }
      ],
      "source": [
        "def average(a, n = 3):\n",
        "    ret = np.cumsum(a, dtype = float)\n",
        "    ret[n:] = ret[n:]- ret[:-n]\n",
        "    return ret[n-1:] / n\n",
        "data = np.arange(20)\n",
        "print(data)\n",
        "print(average(data, n = 3))"
      ]
    },
    {
      "cell_type": "markdown",
      "metadata": {
        "id": "ISYTsy2hLTUT"
      },
      "source": [
        "#### 76. Consider a one-dimensional array Z, build a two-dimensional array whose first row is (Z\\[0\\],Z\\[1\\],Z\\[2\\]) and each subsequent row is  shifted by 1 (last row should be (Z\\[-3\\],Z\\[-2\\],Z\\[-1\\]) (★★★) \n",
        "(**hint**: from numpy.lib import stride_tricks)"
      ]
    },
    {
      "cell_type": "code",
      "execution_count": 5,
      "metadata": {
        "id": "co8vDTWCLTUT",
        "colab": {
          "base_uri": "https://localhost:8080/"
        },
        "outputId": "e5fa9bc5-b80f-4fe8-c246-848731982cd1"
      },
      "outputs": [
        {
          "output_type": "stream",
          "name": "stdout",
          "text": [
            "[[0 1 2]\n",
            " [1 2 3]\n",
            " [2 3 4]]\n"
          ]
        }
      ],
      "source": [
        "from numpy.lib import stride_tricks\n",
        "def rolling(a, window):\n",
        "    shape = (a.size - window +1, window)\n",
        "    strides = (a.itemsize, a.itemsize)\n",
        "    return stride_tricks.as_strided(a, shape = shape, strides = strides)\n",
        "\n",
        "data = rolling(np.arange(5),3)\n",
        "print(data)"
      ]
    },
    {
      "cell_type": "markdown",
      "metadata": {
        "id": "gbNfiJuULTUT"
      },
      "source": [
        "#### 77. How to negate a boolean, or to change the sign of a float inplace? (★★★) \n",
        "(**hint**: np.logical_not, np.negative)"
      ]
    },
    {
      "cell_type": "code",
      "execution_count": 8,
      "metadata": {
        "id": "ox3UBr_BLTUT",
        "colab": {
          "base_uri": "https://localhost:8080/"
        },
        "outputId": "b6094e14-0fd4-4578-c6fd-135422fd13b0"
      },
      "outputs": [
        {
          "output_type": "stream",
          "name": "stdout",
          "text": [
            "[1 0 1 1 0 0 1 0 0 1]\n",
            "[0 1 0 0 1 1 0 1 1 0]\n",
            "[-0.55229435  0.18047464 -0.32889568 -0.51471005  0.39061874 -0.88625225\n",
            " -0.29821218  0.14376511 -0.08639673 -0.14740205]\n",
            "[ 0.55229435 -0.18047464  0.32889568  0.51471005 -0.39061874  0.88625225\n",
            "  0.29821218 -0.14376511  0.08639673  0.14740205]\n"
          ]
        }
      ],
      "source": [
        "arr1 = np.random.randint(0,2,10)\n",
        "print(arr1)\n",
        "print(np.logical_not(arr1, out = arr1))\n",
        "\n",
        "arr2 = np.random.uniform(-1.0,1.0,10)\n",
        "print(arr2)\n",
        "print(np.negative(arr2, out = arr2))"
      ]
    },
    {
      "cell_type": "markdown",
      "metadata": {
        "id": "PGvXgpXtLTUT"
      },
      "source": [
        "#### 78. Consider 2 sets of points P0,P1 describing lines (2d) and a point p, how to compute distance from p to each line i  (P0\\[i\\],P1\\[i\\])? (★★★)"
      ]
    },
    {
      "cell_type": "code",
      "execution_count": 9,
      "metadata": {
        "id": "tnYzYXFCLTUU",
        "colab": {
          "base_uri": "https://localhost:8080/"
        },
        "outputId": "bda05ee5-a86b-47fb-e084-61fed53154f9"
      },
      "outputs": [
        {
          "output_type": "stream",
          "name": "stdout",
          "text": [
            "[[8.20112611 6.22405106]]\n",
            "[105.99728103]\n",
            "[0.13656222]\n",
            "[[0.13656222]]\n",
            "[[-5.07990249  6.69353778]]\n",
            "[8.40290767]\n"
          ]
        }
      ],
      "source": [
        "def distance(P0, P1, p):\n",
        "    T = P1 - P0\n",
        "    print(T)\n",
        "    L = (T**2).sum(axis=1)\n",
        "    print(L)\n",
        "    U = -((P0[:,0]-p[...,0])*T[:,0] + (P0[:,1]-p[...,1])*T[:,1]) / L\n",
        "    print(U)\n",
        "    U = U.reshape(len(U),1)\n",
        "    print(U)\n",
        "    D = P0 + U*T - p\n",
        "    print(D)\n",
        "    return np.sqrt((D**2).sum(axis=1))\n",
        "\n",
        "P0 = np.random.uniform(-10,10,(1,2))\n",
        "P1 = np.random.uniform(-10,10,(1,2))\n",
        "p  = np.random.uniform(-10,10,( 1,2))\n",
        "print(distance(P0, P1, p))"
      ]
    },
    {
      "cell_type": "markdown",
      "metadata": {
        "id": "zxK0XoYSLTUU"
      },
      "source": [
        "#### 79. Consider 2 sets of points P0,P1 describing lines (2d) and a set of points P, how to compute distance from each point j (P\\[j\\]) to each line i (P0\\[i\\],P1\\[i\\])? (★★★)"
      ]
    },
    {
      "cell_type": "code",
      "execution_count": 10,
      "metadata": {
        "id": "rJPz9rttLTUU",
        "colab": {
          "base_uri": "https://localhost:8080/"
        },
        "outputId": "13470a3b-9fe6-4f2c-8a07-9e9dab001e4d"
      },
      "outputs": [
        {
          "output_type": "stream",
          "name": "stdout",
          "text": [
            "[[-10.16269517 -10.27815592]\n",
            " [  0.59502926  -9.09721897]\n",
            " [ -1.22982154  -5.62510737]\n",
            " [ 15.40406567   9.75857941]\n",
            " [-16.12411007   1.7790079 ]\n",
            " [ -2.22289997  11.53990808]\n",
            " [-10.89182771  -2.38415837]\n",
            " [ -4.49318695  10.78978671]\n",
            " [  3.03528251   0.26189157]\n",
            " [  3.58466407 -17.20314386]]\n",
            "[208.92086223  83.1134529   33.15429395 332.51511124 263.15179454\n",
            " 138.11076284 124.31612192 136.60822626   9.28152712 308.79797512]\n",
            "[ 0.21952244 -0.74424978  0.40727275  0.86586042  0.48693967  1.14198284\n",
            "  0.25310007  0.98492681 -0.99676111  0.17197955]\n",
            "[[ 0.21952244]\n",
            " [-0.74424978]\n",
            " [ 0.40727275]\n",
            " [ 0.86586042]\n",
            " [ 0.48693967]\n",
            " [ 1.14198284]\n",
            " [ 0.25310007]\n",
            " [ 0.98492681]\n",
            " [-0.99676111]\n",
            " [ 0.17197955]]\n",
            "[[  1.59752308  -1.57957714]\n",
            " [  1.4932702    0.09767155]\n",
            " [  5.17291793  -1.13095902]\n",
            " [  5.16391506  -8.15131828]\n",
            " [ -0.79377167  -7.19438168]\n",
            " [-10.88033301  -2.09584789]\n",
            " [  0.44673575  -2.04087483]\n",
            " [ -5.07522066  -2.11347229]\n",
            " [  1.44739806 -16.77511811]\n",
            " [ -6.6362884   -1.38282077]]\n",
            "[[-10.16269517 -10.27815592]\n",
            " [  0.59502926  -9.09721897]\n",
            " [ -1.22982154  -5.62510737]\n",
            " [ 15.40406567   9.75857941]\n",
            " [-16.12411007   1.7790079 ]\n",
            " [ -2.22289997  11.53990808]\n",
            " [-10.89182771  -2.38415837]\n",
            " [ -4.49318695  10.78978671]\n",
            " [  3.03528251   0.26189157]\n",
            " [  3.58466407 -17.20314386]]\n",
            "[208.92086223  83.1134529   33.15429395 332.51511124 263.15179454\n",
            " 138.11076284 124.31612192 136.60822626   9.28152712 308.79797512]\n",
            "[ 0.00256656 -0.8283668   0.11041511  1.05507125  0.28200383  1.16947628\n",
            " -0.06862113  0.94985434  0.160955    0.15667858]\n",
            "[[ 0.00256656]\n",
            " [-0.8283668 ]\n",
            " [ 0.11041511]\n",
            " [ 1.05507125]\n",
            " [ 0.28200383]\n",
            " [ 1.16947628]\n",
            " [-0.06862113]\n",
            " [ 0.94985434]\n",
            " [ 0.160955  ]\n",
            " [ 0.15667858]]\n",
            "[[  0.34802683  -0.34411723]\n",
            " [ -2.01113459  -0.13154393]\n",
            " [  2.08364715  -0.45554938]\n",
            " [  4.62417841  -7.29933579]\n",
            " [ -0.94371627  -8.55341058]\n",
            " [-14.39580088  -2.77302255]\n",
            " [  0.49651495  -2.26828695]\n",
            " [ -8.3719862   -3.48634317]\n",
            " [  1.50704082 -17.46636844]\n",
            " [-10.14548996  -2.11404227]]\n",
            "[[-10.16269517 -10.27815592]\n",
            " [  0.59502926  -9.09721897]\n",
            " [ -1.22982154  -5.62510737]\n",
            " [ 15.40406567   9.75857941]\n",
            " [-16.12411007   1.7790079 ]\n",
            " [ -2.22289997  11.53990808]\n",
            " [-10.89182771  -2.38415837]\n",
            " [ -4.49318695  10.78978671]\n",
            " [  3.03528251   0.26189157]\n",
            " [  3.58466407 -17.20314386]]\n",
            "[208.92086223  83.1134529   33.15429395 332.51511124 263.15179454\n",
            " 138.11076284 124.31612192 136.60822626   9.28152712 308.79797512]\n",
            "[ 0.66864832 -0.16044512  1.48572699  0.53562123  0.66990124  0.73459392\n",
            "  0.67535892  0.66347393 -2.33134435  0.44044507]\n",
            "[[ 0.66864832]\n",
            " [-0.16044512]\n",
            " [ 1.48572699]\n",
            " [ 0.53562123]\n",
            " [ 0.66990124]\n",
            " [ 0.73459392]\n",
            " [ 0.67535892]\n",
            " [ 0.66347393]\n",
            " [-2.33134435]\n",
            " [ 0.44044507]]\n",
            "[[  0.63366218  -0.62654387]\n",
            " [  5.44111953   0.35589177]\n",
            " [  7.44708015  -1.62816085]\n",
            " [  3.67735744  -5.80476452]\n",
            " [ -0.14339568  -1.29967253]\n",
            " [ -6.37427971  -1.22785954]\n",
            " [ -0.55196641   2.52161226]\n",
            " [ -0.03040429  -0.01266125]\n",
            " [  0.99702937 -11.55541514]\n",
            " [ -2.07346124  -0.43205254]]\n",
            "[[-10.16269517 -10.27815592]\n",
            " [  0.59502926  -9.09721897]\n",
            " [ -1.22982154  -5.62510737]\n",
            " [ 15.40406567   9.75857941]\n",
            " [-16.12411007   1.7790079 ]\n",
            " [ -2.22289997  11.53990808]\n",
            " [-10.89182771  -2.38415837]\n",
            " [ -4.49318695  10.78978671]\n",
            " [  3.03528251   0.26189157]\n",
            " [  3.58466407 -17.20314386]]\n",
            "[208.92086223  83.1134529   33.15429395 332.51511124 263.15179454\n",
            " 138.11076284 124.31612192 136.60822626   9.28152712 308.79797512]\n",
            "[ 0.48385943 -0.47465288  0.95819988  0.66039423  0.63821034  0.965523\n",
            "  0.54565622  0.86691861 -1.97409638  0.28721151]\n",
            "[[ 0.48385943]\n",
            " [-0.47465288]\n",
            " [ 0.95819988]\n",
            " [ 0.66039423]\n",
            " [ 0.63821034]\n",
            " [ 0.965523  ]\n",
            " [ 0.54565622]\n",
            " [ 0.86691861]\n",
            " [-1.97409638]\n",
            " [ 0.28721151]]\n",
            "[[  1.67162105  -1.65284272]\n",
            " [  4.41416245   0.28872074]\n",
            " [  7.25585009  -1.58635208]\n",
            " [  4.75937467  -7.51274513]\n",
            " [ -0.47240245  -4.28163873]\n",
            " [ -7.72760623  -1.48854701]\n",
            " [  0.02073887  -0.09474379]\n",
            " [ -1.78451356  -0.74312433]\n",
            " [  1.24138361 -14.38744276]\n",
            " [ -3.46274633  -0.72154151]]\n",
            "[[-10.16269517 -10.27815592]\n",
            " [  0.59502926  -9.09721897]\n",
            " [ -1.22982154  -5.62510737]\n",
            " [ 15.40406567   9.75857941]\n",
            " [-16.12411007   1.7790079 ]\n",
            " [ -2.22289997  11.53990808]\n",
            " [-10.89182771  -2.38415837]\n",
            " [ -4.49318695  10.78978671]\n",
            " [  3.03528251   0.26189157]\n",
            " [  3.58466407 -17.20314386]]\n",
            "[208.92086223  83.1134529   33.15429395 332.51511124 263.15179454\n",
            " 138.11076284 124.31612192 136.60822626   9.28152712 308.79797512]\n",
            "[ 0.36886918  0.13462703  1.54130999  0.85875894  0.14449     0.42071528\n",
            " -0.01389354  0.2193882   0.33458936  0.6570351 ]\n",
            "[[ 0.36886918]\n",
            " [ 0.13462703]\n",
            " [ 1.54130999]\n",
            " [ 0.85875894]\n",
            " [ 0.14449   ]\n",
            " [ 0.42071528]\n",
            " [-0.01389354]\n",
            " [ 0.2193882 ]\n",
            " [ 0.33458936]\n",
            " [ 0.6570351 ]]\n",
            "[[-4.65742493e+00  4.60510525e+00]\n",
            " [-2.72095503e+00 -1.77971736e-01]\n",
            " [-9.58928138e-01  2.09651195e-01]\n",
            " [ 3.17340748e-01 -5.00927186e-01]\n",
            " [-9.25807118e-03 -8.39109028e-02]\n",
            " [-1.40142100e+01 -2.69951778e+00]\n",
            " [-1.38239850e+00  6.31537167e+00]\n",
            " [-6.37269521e+00 -2.65377915e+00]\n",
            " [ 7.51240221e-01 -8.70675719e+00]\n",
            " [-9.63470985e+00 -2.00760969e+00]]\n",
            "[[-10.16269517 -10.27815592]\n",
            " [  0.59502926  -9.09721897]\n",
            " [ -1.22982154  -5.62510737]\n",
            " [ 15.40406567   9.75857941]\n",
            " [-16.12411007   1.7790079 ]\n",
            " [ -2.22289997  11.53990808]\n",
            " [-10.89182771  -2.38415837]\n",
            " [ -4.49318695  10.78978671]\n",
            " [  3.03528251   0.26189157]\n",
            " [  3.58466407 -17.20314386]]\n",
            "[208.92086223  83.1134529   33.15429395 332.51511124 263.15179454\n",
            " 138.11076284 124.31612192 136.60822626   9.28152712 308.79797512]\n",
            "[ 0.8439118  -0.07616298  1.74402984  0.38522052  0.8258369   0.69841369\n",
            "  0.92553913  0.67609906 -3.22424867  0.46224433]\n",
            "[[ 0.8439118 ]\n",
            " [-0.07616298]\n",
            " [ 1.74402984]\n",
            " [ 0.38522052]\n",
            " [ 0.8258369 ]\n",
            " [ 0.69841369]\n",
            " [ 0.92553913]\n",
            " [ 0.67609906]\n",
            " [-3.22424867]\n",
            " [ 0.46224433]]\n",
            "[[ 1.50151787e+00 -1.48465041e+00]\n",
            " [ 8.14027497e+00  5.32437639e-01]\n",
            " [ 9.77841883e+00 -2.13786322e+00]\n",
            " [ 4.00958004e+00 -6.32918293e+00]\n",
            " [-8.71434786e-03 -7.89828445e-02]\n",
            " [-3.64484959e+00 -7.02097105e-01]\n",
            " [-6.27881047e-01  2.86842194e+00]\n",
            " [ 2.56187373e+00  1.06684014e+00]\n",
            " [ 9.35817605e-01 -1.08459803e+01]\n",
            " [ 6.53686904e-01  1.36210450e-01]]\n",
            "[[-10.16269517 -10.27815592]\n",
            " [  0.59502926  -9.09721897]\n",
            " [ -1.22982154  -5.62510737]\n",
            " [ 15.40406567   9.75857941]\n",
            " [-16.12411007   1.7790079 ]\n",
            " [ -2.22289997  11.53990808]\n",
            " [-10.89182771  -2.38415837]\n",
            " [ -4.49318695  10.78978671]\n",
            " [  3.03528251   0.26189157]\n",
            " [  3.58466407 -17.20314386]]\n",
            "[208.92086223  83.1134529   33.15429395 332.51511124 263.15179454\n",
            " 138.11076284 124.31612192 136.60822626   9.28152712 308.79797512]\n",
            "[ 1.55590464  0.86399581  3.47029107 -0.1361037   1.10724814  0.04004286\n",
            "  1.58621678  0.15240163 -5.30193568  0.89631329]\n",
            "[[ 1.55590464]\n",
            " [ 0.86399581]\n",
            " [ 3.47029107]\n",
            " [-0.1361037 ]\n",
            " [ 1.10724814]\n",
            " [ 0.04004286]\n",
            " [ 1.58621678]\n",
            " [ 0.15240163]\n",
            " [-5.30193568]\n",
            " [ 0.89631329]]\n",
            "[[-0.15354368  0.15181883]\n",
            " [14.28040161  0.93404994]\n",
            " [13.23613024 -2.89382532]\n",
            " [ 1.55977218 -2.46212405]\n",
            " [ 1.03448456  9.37609265]\n",
            " [ 3.39934756  0.65480674]\n",
            " [-2.24316351 10.24770447]\n",
            " [10.49564886  4.37069923]\n",
            " [ 0.21015523 -2.43566637]\n",
            " [ 7.79038295  1.62330247]]\n",
            "[[-10.16269517 -10.27815592]\n",
            " [  0.59502926  -9.09721897]\n",
            " [ -1.22982154  -5.62510737]\n",
            " [ 15.40406567   9.75857941]\n",
            " [-16.12411007   1.7790079 ]\n",
            " [ -2.22289997  11.53990808]\n",
            " [-10.89182771  -2.38415837]\n",
            " [ -4.49318695  10.78978671]\n",
            " [  3.03528251   0.26189157]\n",
            " [  3.58466407 -17.20314386]]\n",
            "[208.92086223  83.1134529   33.15429395 332.51511124 263.15179454\n",
            " 138.11076284 124.31612192 136.60822626   9.28152712 308.79797512]\n",
            "[ 0.47309284  0.55449062  2.11362063  0.82478209  0.0194549   0.08288455\n",
            " -0.08510738 -0.12875496  0.76213166  0.88371048]\n",
            "[[ 0.47309284]\n",
            " [ 0.55449062]\n",
            " [ 2.11362063]\n",
            " [ 0.82478209]\n",
            " [ 0.0194549 ]\n",
            " [ 0.08288455]\n",
            " [-0.08510738]\n",
            " [-0.12875496]\n",
            " [ 0.76213166]\n",
            " [ 0.88371048]]\n",
            "[[ -7.34577031   7.26325082]\n",
            " [ -4.10027596  -0.26819011]\n",
            " [ -3.29192015   0.71971503]\n",
            " [ -1.83519283   2.89687973]\n",
            " [  0.37766956   3.4230233 ]\n",
            " [-14.89239816  -2.86868069]\n",
            " [ -2.23590167  10.21452938]\n",
            " [ -6.43757495  -2.68079699]\n",
            " [  0.41979984  -4.86541484]\n",
            " [-10.45130683  -2.17776613]]\n",
            "[[-10.16269517 -10.27815592]\n",
            " [  0.59502926  -9.09721897]\n",
            " [ -1.22982154  -5.62510737]\n",
            " [ 15.40406567   9.75857941]\n",
            " [-16.12411007   1.7790079 ]\n",
            " [ -2.22289997  11.53990808]\n",
            " [-10.89182771  -2.38415837]\n",
            " [ -4.49318695  10.78978671]\n",
            " [  3.03528251   0.26189157]\n",
            " [  3.58466407 -17.20314386]]\n",
            "[208.92086223  83.1134529   33.15429395 332.51511124 263.15179454\n",
            " 138.11076284 124.31612192 136.60822626   9.28152712 308.79797512]\n",
            "[ 0.11881116 -0.48203183  0.61063048  0.99888231  0.21437424  0.89701313\n",
            " -0.0754886   0.67886359  0.32165322  0.33900827]\n",
            "[[ 0.11881116]\n",
            " [-0.48203183]\n",
            " [ 0.61063048]\n",
            " [ 0.99888231]\n",
            " [ 0.21437424]\n",
            " [ 0.89701313]\n",
            " [-0.0754886 ]\n",
            " [ 0.67886359]\n",
            " [ 0.32165322]\n",
            " [ 0.33900827]]\n",
            "[[ -1.59344941   1.57554923]\n",
            " [ -2.56517293  -0.16778237]\n",
            " [  0.70835373  -0.15486792]\n",
            " [  2.99852257  -4.73321338]\n",
            " [ -0.6133671   -5.55927756]\n",
            " [-14.55026033  -2.80277564]\n",
            " [ -0.18880346   0.86253279]\n",
            " [ -7.91449187  -3.29582897]\n",
            " [  1.23468754 -14.30983633]\n",
            " [-10.25201705  -2.1362396 ]]\n",
            "[[-10.16269517 -10.27815592]\n",
            " [  0.59502926  -9.09721897]\n",
            " [ -1.22982154  -5.62510737]\n",
            " [ 15.40406567   9.75857941]\n",
            " [-16.12411007   1.7790079 ]\n",
            " [ -2.22289997  11.53990808]\n",
            " [-10.89182771  -2.38415837]\n",
            " [ -4.49318695  10.78978671]\n",
            " [  3.03528251   0.26189157]\n",
            " [  3.58466407 -17.20314386]]\n",
            "[208.92086223  83.1134529   33.15429395 332.51511124 263.15179454\n",
            " 138.11076284 124.31612192 136.60822626   9.28152712 308.79797512]\n",
            "[ 0.82436102  0.7795872   2.69493355  0.53177102  0.2989002  -0.03768734\n",
            "  0.38288784 -0.15748605 -0.88182264  0.95987089]\n",
            "[[ 0.82436102]\n",
            " [ 0.7795872 ]\n",
            " [ 2.69493355]\n",
            " [ 0.53177102]\n",
            " [ 0.2989002 ]\n",
            " [-0.03768734]\n",
            " [ 0.38288784]\n",
            " [-0.15748605]\n",
            " [-0.88182264]\n",
            " [ 0.95987089]]\n",
            "[[-6.09324431  6.02479521]\n",
            " [ 0.85602048  0.05599043]\n",
            " [ 0.81552609 -0.1782991 ]\n",
            " [-1.52639732  2.40944133]\n",
            " [ 0.69422012  6.29209217]\n",
            " [-9.80202151 -1.88813578]\n",
            " [-2.51086758 11.47068812]\n",
            " [-1.48612341 -0.61886583]\n",
            " [ 0.25229149 -2.92401914]\n",
            " [-5.35593994 -1.11603121]]\n",
            "[[ 2.24658495  1.49646103  5.29510606  9.64935274  7.23803849 11.0803531\n",
            "   2.08919671  5.49769314 16.83744484  6.77882859]\n",
            " [ 0.48942756  2.015432    2.13286443  8.64079446  8.60531423 14.66044805\n",
            "   2.32199328  9.06888866 17.53126346 10.36340394]\n",
            " [ 0.89111446  5.45274616  7.62298567  6.8715536   1.30755918  6.49146215\n",
            "   2.58131659  0.03293521 11.59834844  2.11799691]\n",
            " [ 2.35078837  4.42359467  7.42723861  8.89342379  4.3076205   7.86966773\n",
            "   0.09698704  1.93306038 14.44089825  3.53712232]\n",
            " [ 6.54970239  2.72676919  0.98157873  0.59298667  0.08442009 14.27184216\n",
            "   6.464901    6.90317232  8.73910652  9.84165283]\n",
            " [ 2.11157353  8.15766917 10.00939229  7.49234867  0.07946213  3.71185518\n",
            "   2.93633769  2.77512971 10.88627779  0.66772738]\n",
            " [ 0.21592735 14.3109161  13.54877739  2.91460873  9.43298848  3.46183993\n",
            "  10.49033982 11.36932965  2.44471591  7.95771182]\n",
            " [10.3303027   4.10903747  3.36967773  3.42926302  3.44379483 15.16617459\n",
            "  10.45637923  6.97345278  4.88349193 10.67578942]\n",
            " [ 2.24085617  2.57065421  0.72508557  5.60307474  5.59301226 14.81774703\n",
            "   0.88295502  8.57331151 14.36300349 10.47221911]\n",
            " [ 8.56888461  0.85784964  0.83478942  2.85224408  6.33027373  9.98221831\n",
            "  11.7422801   1.60983158  2.93488312  5.47097965]]\n"
          ]
        }
      ],
      "source": [
        "P0 = np.random.uniform(-10, 10, (10,2))\n",
        "P1 = np.random.uniform(-10,10,(10,2))\n",
        "p = np.random.uniform(-10, 10, (10,2))\n",
        "print(np.array([distance(P0,P1,p_i) for p_i in p]))"
      ]
    },
    {
      "cell_type": "markdown",
      "metadata": {
        "id": "2UHq61gOLTUU"
      },
      "source": [
        "#### 80. Consider an arbitrary array, write a function that extract a subpart with a fixed shape and centered on a given element (pad with a `fill` value when necessary) (★★★) \n",
        "(**hint**: minimum, maximum)"
      ]
    },
    {
      "cell_type": "code",
      "execution_count": 9,
      "metadata": {
        "id": "f_Gj3CN3LTUU",
        "colab": {
          "base_uri": "https://localhost:8080/"
        },
        "outputId": "b5ec5e67-2cac-4a76-dc60-06bba07167b3"
      },
      "outputs": [
        {
          "output_type": "stream",
          "name": "stdout",
          "text": [
            "[[5 4 5 5 6 9 6 6 5 2]\n",
            " [4 0 0 3 6 2 7 8 6 7]\n",
            " [2 2 9 5 9 3 1 2 4 2]\n",
            " [6 2 2 5 4 4 6 4 6 4]\n",
            " [5 3 6 1 6 6 3 2 2 0]\n",
            " [5 5 0 3 9 5 1 7 3 2]\n",
            " [8 4 0 4 9 2 3 8 6 1]\n",
            " [3 4 8 5 9 9 3 3 1 0]\n",
            " [6 2 3 1 4 5 2 9 0 5]\n",
            " [8 5 8 0 3 4 0 9 0 8]]\n",
            "[[5 4 5 5]\n",
            " [4 0 0 3]\n",
            " [2 2 9 5]\n",
            " [6 2 2 5]]\n"
          ]
        },
        {
          "output_type": "stream",
          "name": "stderr",
          "text": [
            "/usr/local/lib/python3.7/dist-packages/ipykernel_launcher.py:23: FutureWarning: Using a non-tuple sequence for multidimensional indexing is deprecated; use `arr[tuple(seq)]` instead of `arr[seq]`. In the future this will be interpreted as an array index, `arr[np.array(seq)]`, which will result either in an error or a different result.\n"
          ]
        }
      ],
      "source": [
        "Z = np.random.randint(0,10,(10,10))\n",
        "shape = (4,4)\n",
        "fill  = 0\n",
        "position = (2, 2)\n",
        "\n",
        "R = np.ones(shape, dtype=Z.dtype)*fill\n",
        "P  = np.array(list(position)).astype(int)\n",
        "Rs = np.array(list(R.shape)).astype(int)\n",
        "Zs = np.array(list(Z.shape)).astype(int)\n",
        "\n",
        "R_start = np.zeros((len(shape),)).astype(int)\n",
        "R_stop  = np.array(list(shape)).astype(int)\n",
        "Z_start = (P-Rs//2)\n",
        "Z_stop  = (P+Rs//2)+Rs%2\n",
        "\n",
        "R_start = (R_start - np.minimum(Z_start,0)).tolist()\n",
        "Z_start = (np.maximum(Z_start,0)).tolist()\n",
        "R_stop = np.maximum(R_start, (R_stop - np.maximum(Z_stop-Zs,0))).tolist()\n",
        "Z_stop = (np.minimum(Z_stop,Zs)).tolist()\n",
        "\n",
        "r = [slice(start,stop) for start,stop in zip(R_start,R_stop)]\n",
        "z = [slice(start,stop) for start,stop in zip(Z_start,Z_stop)]\n",
        "R[r] = Z[z]\n",
        "print(Z)\n",
        "print(R)"
      ]
    },
    {
      "cell_type": "markdown",
      "metadata": {
        "id": "uOk3WRcrLTUU"
      },
      "source": [
        "#### 81. Consider an array Z = \\[1,2,3,4,5,6,7,8,9,10,11,12,13,14\\], how to generate an array R = \\[\\[1,2,3,4\\], \\[2,3,4,5\\], \\[3,4,5,6\\], ..., \\[11,12,13,14\\]\\]? (★★★) \n",
        "(**hint**: stride\\_tricks.as\\_strided)"
      ]
    },
    {
      "cell_type": "code",
      "execution_count": 13,
      "metadata": {
        "id": "9w8TbUpKLTUV",
        "colab": {
          "base_uri": "https://localhost:8080/"
        },
        "outputId": "7721ef87-caa4-417e-8d74-b2c607051f6a"
      },
      "outputs": [
        {
          "output_type": "stream",
          "name": "stdout",
          "text": [
            "[[ 1  2  3  4]\n",
            " [ 2  3  4  5]\n",
            " [ 3  4  5  6]\n",
            " [ 4  5  6  7]\n",
            " [ 5  6  7  8]\n",
            " [ 6  7  8  9]\n",
            " [ 7  8  9 10]\n",
            " [ 8  9 10 11]\n",
            " [ 9 10 11 12]\n",
            " [10 11 12 13]\n",
            " [11 12 13 14]]\n"
          ]
        }
      ],
      "source": [
        "from numpy.lib import stride_tricks\n",
        "Z = np.arange(1,15,dtype=np.uint32)\n",
        "R = stride_tricks.as_strided(Z,(11,4),(4,4))\n",
        "print(R)"
      ]
    },
    {
      "cell_type": "markdown",
      "metadata": {
        "id": "iQLamNKQLTUV"
      },
      "source": [
        "#### 82. Compute a matrix rank (★★★) \n",
        "(**hint**: np.linalg.svd) (suggestion: np.linalg.svd)"
      ]
    },
    {
      "cell_type": "code",
      "execution_count": 17,
      "metadata": {
        "id": "chPoJLSqLTUV",
        "colab": {
          "base_uri": "https://localhost:8080/"
        },
        "outputId": "09275c4d-2024-4ce7-e36d-0d9e43f36a16"
      },
      "outputs": [
        {
          "output_type": "execute_result",
          "data": {
            "text/plain": [
              "10"
            ]
          },
          "metadata": {},
          "execution_count": 17
        }
      ],
      "source": [
        "Z = np.random.uniform(0,1,(10,10))\n",
        "#U, S, V = np.linalg.svd(Z)\n",
        "#rank = np.sum(S > 1e-10)\n",
        "#print(rank)\n",
        "\n",
        "np.linalg.matrix_rank(Z)"
      ]
    },
    {
      "cell_type": "markdown",
      "metadata": {
        "id": "iFw6JWuBLTUV"
      },
      "source": [
        "#### 83. How to find the most frequent value in an array? \n",
        "(**hint**: np.bincount, argmax)"
      ]
    },
    {
      "cell_type": "code",
      "execution_count": 30,
      "metadata": {
        "id": "f7V8FyYLLTUV",
        "colab": {
          "base_uri": "https://localhost:8080/"
        },
        "outputId": "b7548cc0-6a34-4902-b6a7-1232432919c2"
      },
      "outputs": [
        {
          "output_type": "stream",
          "name": "stdout",
          "text": [
            "4\n"
          ]
        }
      ],
      "source": [
        "Z = np.random.randint(0,10,50)\n",
        "print(np.bincount(Z).argmax())"
      ]
    },
    {
      "cell_type": "markdown",
      "metadata": {
        "id": "kQTnJ-Z7LTUV"
      },
      "source": [
        "#### 84. Extract all the contiguous 3x3 blocks from a random 10x10 matrix (★★★) \n",
        "(**hint**: stride\\_tricks.as\\_strided)"
      ]
    },
    {
      "cell_type": "code",
      "execution_count": 32,
      "metadata": {
        "id": "ZJ9kQX9MLTUW",
        "colab": {
          "base_uri": "https://localhost:8080/"
        },
        "outputId": "4396f433-bad7-4e77-f96a-618ee83da2fb"
      },
      "outputs": [
        {
          "output_type": "stream",
          "name": "stdout",
          "text": [
            "[[4 4 1 0 1 4 4 4 2 0]\n",
            " [3 3 3 0 4 3 3 4 3 1]\n",
            " [0 1 3 3 4 1 2 2 1 3]\n",
            " [2 3 2 3 0 1 1 4 2 3]\n",
            " [4 1 0 1 4 1 3 4 2 2]\n",
            " [0 3 4 1 0 2 2 1 0 2]\n",
            " [2 2 0 1 4 3 4 0 4 3]\n",
            " [3 3 3 0 0 2 2 3 0 4]\n",
            " [1 3 4 4 2 4 2 3 4 3]\n",
            " [3 2 3 4 1 3 0 2 1 0]]\n",
            "[[[[4 4 1]\n",
            "   [3 3 3]\n",
            "   [0 1 3]]\n",
            "\n",
            "  [[4 1 0]\n",
            "   [3 3 0]\n",
            "   [1 3 3]]\n",
            "\n",
            "  [[1 0 1]\n",
            "   [3 0 4]\n",
            "   [3 3 4]]\n",
            "\n",
            "  [[0 1 4]\n",
            "   [0 4 3]\n",
            "   [3 4 1]]\n",
            "\n",
            "  [[1 4 4]\n",
            "   [4 3 3]\n",
            "   [4 1 2]]\n",
            "\n",
            "  [[4 4 4]\n",
            "   [3 3 4]\n",
            "   [1 2 2]]\n",
            "\n",
            "  [[4 4 2]\n",
            "   [3 4 3]\n",
            "   [2 2 1]]\n",
            "\n",
            "  [[4 2 0]\n",
            "   [4 3 1]\n",
            "   [2 1 3]]]\n",
            "\n",
            "\n",
            " [[[3 3 3]\n",
            "   [0 1 3]\n",
            "   [2 3 2]]\n",
            "\n",
            "  [[3 3 0]\n",
            "   [1 3 3]\n",
            "   [3 2 3]]\n",
            "\n",
            "  [[3 0 4]\n",
            "   [3 3 4]\n",
            "   [2 3 0]]\n",
            "\n",
            "  [[0 4 3]\n",
            "   [3 4 1]\n",
            "   [3 0 1]]\n",
            "\n",
            "  [[4 3 3]\n",
            "   [4 1 2]\n",
            "   [0 1 1]]\n",
            "\n",
            "  [[3 3 4]\n",
            "   [1 2 2]\n",
            "   [1 1 4]]\n",
            "\n",
            "  [[3 4 3]\n",
            "   [2 2 1]\n",
            "   [1 4 2]]\n",
            "\n",
            "  [[4 3 1]\n",
            "   [2 1 3]\n",
            "   [4 2 3]]]\n",
            "\n",
            "\n",
            " [[[0 1 3]\n",
            "   [2 3 2]\n",
            "   [4 1 0]]\n",
            "\n",
            "  [[1 3 3]\n",
            "   [3 2 3]\n",
            "   [1 0 1]]\n",
            "\n",
            "  [[3 3 4]\n",
            "   [2 3 0]\n",
            "   [0 1 4]]\n",
            "\n",
            "  [[3 4 1]\n",
            "   [3 0 1]\n",
            "   [1 4 1]]\n",
            "\n",
            "  [[4 1 2]\n",
            "   [0 1 1]\n",
            "   [4 1 3]]\n",
            "\n",
            "  [[1 2 2]\n",
            "   [1 1 4]\n",
            "   [1 3 4]]\n",
            "\n",
            "  [[2 2 1]\n",
            "   [1 4 2]\n",
            "   [3 4 2]]\n",
            "\n",
            "  [[2 1 3]\n",
            "   [4 2 3]\n",
            "   [4 2 2]]]\n",
            "\n",
            "\n",
            " [[[2 3 2]\n",
            "   [4 1 0]\n",
            "   [0 3 4]]\n",
            "\n",
            "  [[3 2 3]\n",
            "   [1 0 1]\n",
            "   [3 4 1]]\n",
            "\n",
            "  [[2 3 0]\n",
            "   [0 1 4]\n",
            "   [4 1 0]]\n",
            "\n",
            "  [[3 0 1]\n",
            "   [1 4 1]\n",
            "   [1 0 2]]\n",
            "\n",
            "  [[0 1 1]\n",
            "   [4 1 3]\n",
            "   [0 2 2]]\n",
            "\n",
            "  [[1 1 4]\n",
            "   [1 3 4]\n",
            "   [2 2 1]]\n",
            "\n",
            "  [[1 4 2]\n",
            "   [3 4 2]\n",
            "   [2 1 0]]\n",
            "\n",
            "  [[4 2 3]\n",
            "   [4 2 2]\n",
            "   [1 0 2]]]\n",
            "\n",
            "\n",
            " [[[4 1 0]\n",
            "   [0 3 4]\n",
            "   [2 2 0]]\n",
            "\n",
            "  [[1 0 1]\n",
            "   [3 4 1]\n",
            "   [2 0 1]]\n",
            "\n",
            "  [[0 1 4]\n",
            "   [4 1 0]\n",
            "   [0 1 4]]\n",
            "\n",
            "  [[1 4 1]\n",
            "   [1 0 2]\n",
            "   [1 4 3]]\n",
            "\n",
            "  [[4 1 3]\n",
            "   [0 2 2]\n",
            "   [4 3 4]]\n",
            "\n",
            "  [[1 3 4]\n",
            "   [2 2 1]\n",
            "   [3 4 0]]\n",
            "\n",
            "  [[3 4 2]\n",
            "   [2 1 0]\n",
            "   [4 0 4]]\n",
            "\n",
            "  [[4 2 2]\n",
            "   [1 0 2]\n",
            "   [0 4 3]]]\n",
            "\n",
            "\n",
            " [[[0 3 4]\n",
            "   [2 2 0]\n",
            "   [3 3 3]]\n",
            "\n",
            "  [[3 4 1]\n",
            "   [2 0 1]\n",
            "   [3 3 0]]\n",
            "\n",
            "  [[4 1 0]\n",
            "   [0 1 4]\n",
            "   [3 0 0]]\n",
            "\n",
            "  [[1 0 2]\n",
            "   [1 4 3]\n",
            "   [0 0 2]]\n",
            "\n",
            "  [[0 2 2]\n",
            "   [4 3 4]\n",
            "   [0 2 2]]\n",
            "\n",
            "  [[2 2 1]\n",
            "   [3 4 0]\n",
            "   [2 2 3]]\n",
            "\n",
            "  [[2 1 0]\n",
            "   [4 0 4]\n",
            "   [2 3 0]]\n",
            "\n",
            "  [[1 0 2]\n",
            "   [0 4 3]\n",
            "   [3 0 4]]]\n",
            "\n",
            "\n",
            " [[[2 2 0]\n",
            "   [3 3 3]\n",
            "   [1 3 4]]\n",
            "\n",
            "  [[2 0 1]\n",
            "   [3 3 0]\n",
            "   [3 4 4]]\n",
            "\n",
            "  [[0 1 4]\n",
            "   [3 0 0]\n",
            "   [4 4 2]]\n",
            "\n",
            "  [[1 4 3]\n",
            "   [0 0 2]\n",
            "   [4 2 4]]\n",
            "\n",
            "  [[4 3 4]\n",
            "   [0 2 2]\n",
            "   [2 4 2]]\n",
            "\n",
            "  [[3 4 0]\n",
            "   [2 2 3]\n",
            "   [4 2 3]]\n",
            "\n",
            "  [[4 0 4]\n",
            "   [2 3 0]\n",
            "   [2 3 4]]\n",
            "\n",
            "  [[0 4 3]\n",
            "   [3 0 4]\n",
            "   [3 4 3]]]\n",
            "\n",
            "\n",
            " [[[3 3 3]\n",
            "   [1 3 4]\n",
            "   [3 2 3]]\n",
            "\n",
            "  [[3 3 0]\n",
            "   [3 4 4]\n",
            "   [2 3 4]]\n",
            "\n",
            "  [[3 0 0]\n",
            "   [4 4 2]\n",
            "   [3 4 1]]\n",
            "\n",
            "  [[0 0 2]\n",
            "   [4 2 4]\n",
            "   [4 1 3]]\n",
            "\n",
            "  [[0 2 2]\n",
            "   [2 4 2]\n",
            "   [1 3 0]]\n",
            "\n",
            "  [[2 2 3]\n",
            "   [4 2 3]\n",
            "   [3 0 2]]\n",
            "\n",
            "  [[2 3 0]\n",
            "   [2 3 4]\n",
            "   [0 2 1]]\n",
            "\n",
            "  [[3 0 4]\n",
            "   [3 4 3]\n",
            "   [2 1 0]]]]\n"
          ]
        }
      ],
      "source": [
        "from numpy.lib import stride_tricks\n",
        "mat = np.random.randint(0,5,(10,10))\n",
        "print(mat)\n",
        "n = 3\n",
        "i = 1 + (mat.shape[0]-3)\n",
        "j = 1 + (mat.shape[1]-3)\n",
        "C = stride_tricks.as_strided(mat, shape=(i, j, n, n), strides=mat.strides + mat.strides)\n",
        "print(C)"
      ]
    },
    {
      "cell_type": "markdown",
      "metadata": {
        "id": "DKEzMJwILTUW"
      },
      "source": [
        "#### 85. Create a 2D array subclass such that Z\\[i,j\\] == Z\\[j,i\\] (★★★) \n",
        "(**hint**: class method)"
      ]
    },
    {
      "cell_type": "code",
      "execution_count": 36,
      "metadata": {
        "id": "-2lSCwJOLTUW",
        "colab": {
          "base_uri": "https://localhost:8080/"
        },
        "outputId": "a57f1a6f-09be-416f-d82c-649072c9de06"
      },
      "outputs": [
        {
          "output_type": "stream",
          "name": "stdout",
          "text": [
            "[[37 36 56 29 54]\n",
            " [36 33  4 52 67]\n",
            " [56  4 11 63 25]\n",
            " [29 52 63 44 76]\n",
            " [54 67 25 76 44]]\n"
          ]
        }
      ],
      "source": [
        "class Symetric(np.ndarray):\n",
        "    def __setitem__(self, index, value):\n",
        "        i,j = index\n",
        "        super(Symetric, self).__setitem__((i,j), value)\n",
        "        super(Symetric, self).__setitem__((j,i), value)\n",
        "\n",
        "def symetric(Z):\n",
        "    return np.asarray(Z + Z.T - np.diag(Z.diagonal())).view(Symetric)\n",
        "\n",
        "S = symetric(np.random.randint(0,50,(5,5)))\n",
        "print(S)"
      ]
    },
    {
      "cell_type": "markdown",
      "metadata": {
        "id": "ilCFi-qILTUW"
      },
      "source": [
        "#### 86. Consider a set of p matrices wich shape (n,n) and a set of p vectors with shape (n,1). How to compute the sum of of the p matrix products at once? (result has shape (n,1)) (★★★) \n",
        "(**hint**: np.tensordot)"
      ]
    },
    {
      "cell_type": "code",
      "execution_count": 40,
      "metadata": {
        "id": "N3nf63HMLTUW",
        "colab": {
          "base_uri": "https://localhost:8080/"
        },
        "outputId": "861d0a35-9017-4b8e-aa3d-6b23cf921550"
      },
      "outputs": [
        {
          "output_type": "stream",
          "name": "stdout",
          "text": [
            "[[506]\n",
            " [392]\n",
            " [611]\n",
            " [542]\n",
            " [532]\n",
            " [532]]\n"
          ]
        }
      ],
      "source": [
        "p, n = 5, 6\n",
        "M = np.random.randint(10, size=(p, n, n))\n",
        "V = np.random.randint(10, size=(p, n, 1))\n",
        "S = np.tensordot(M, V, axes=[[0, 2], [0, 1]])\n",
        "print(S)"
      ]
    },
    {
      "cell_type": "markdown",
      "metadata": {
        "id": "r-EDmqusLTUW"
      },
      "source": [
        "#### 87. Consider a 16x16 array, how to get the block-sum (block size is 4x4)? (★★★) \n",
        "(**hint**: np.add.reduceat)"
      ]
    },
    {
      "cell_type": "code",
      "execution_count": 46,
      "metadata": {
        "id": "bWnYKtefLTUW",
        "colab": {
          "base_uri": "https://localhost:8080/"
        },
        "outputId": "95a2942e-46da-4bbf-86b5-e4b0c87cc05a"
      },
      "outputs": [
        {
          "output_type": "stream",
          "name": "stdout",
          "text": [
            "[[103 112 119 125]\n",
            " [117  99 151 132]\n",
            " [165  92 110 131]\n",
            " [ 96 109 126 131]]\n"
          ]
        }
      ],
      "source": [
        "Z = np.random.randint(0,16,(16,16))\n",
        "k = 4\n",
        "S = np.add.reduceat(np.add.reduceat(Z, np.arange(0, Z.shape[0], k), axis=0),\n",
        "                                       np.arange(0, Z.shape[1], k), axis=1)\n",
        "print(S)"
      ]
    },
    {
      "cell_type": "markdown",
      "metadata": {
        "id": "8dbKmh8hLTUW"
      },
      "source": [
        "#### 88. How to implement the Game of Life using numpy arrays? (★★★)"
      ]
    },
    {
      "cell_type": "code",
      "execution_count": 47,
      "metadata": {
        "id": "OYIySxzELTUW",
        "colab": {
          "base_uri": "https://localhost:8080/"
        },
        "outputId": "20a0ebed-bf8d-44ef-9207-6803242a0950"
      },
      "outputs": [
        {
          "output_type": "stream",
          "name": "stdout",
          "text": [
            "[[0 0 0 ... 0 0 0]\n",
            " [0 0 0 ... 0 0 0]\n",
            " [0 0 0 ... 0 0 0]\n",
            " ...\n",
            " [0 0 0 ... 0 0 0]\n",
            " [0 0 0 ... 0 0 0]\n",
            " [0 0 0 ... 0 0 0]]\n"
          ]
        }
      ],
      "source": [
        "def iterate(Z):\n",
        "    \n",
        "    N = (Z[0:-2,0:-2] + Z[0:-2,1:-1] + Z[0:-2,2:] +\n",
        "         Z[1:-1,0:-2]                + Z[1:-1,2:] +\n",
        "         Z[2:  ,0:-2] + Z[2:  ,1:-1] + Z[2:  ,2:])\n",
        "\n",
        "    \n",
        "    birth = (N==3) & (Z[1:-1,1:-1]==0)\n",
        "    survive = ((N==2) | (N==3)) & (Z[1:-1,1:-1]==1)\n",
        "    Z[...] = 0\n",
        "    Z[1:-1,1:-1][birth | survive] = 1\n",
        "    return Z\n",
        "\n",
        "Z = np.random.randint(0,2,(50,50))\n",
        "for i in range(100): Z = iterate(Z)\n",
        "print(Z)"
      ]
    },
    {
      "cell_type": "markdown",
      "metadata": {
        "id": "xPwuqqQtLTUX"
      },
      "source": [
        "#### 89. How to get the n largest values of an array (★★★) \n",
        "(**hint**: np.argsort | np.argpartition)"
      ]
    },
    {
      "cell_type": "code",
      "execution_count": 54,
      "metadata": {
        "id": "un18IYNoLTUX",
        "colab": {
          "base_uri": "https://localhost:8080/"
        },
        "outputId": "b4946c91-7f97-49d2-c8b1-6d5b9161eeec"
      },
      "outputs": [
        {
          "output_type": "stream",
          "name": "stdout",
          "text": [
            "[9995 9996 9997 9998 9999]\n"
          ]
        }
      ],
      "source": [
        "Z = np.arange(10000)\n",
        "np.random.shuffle(Z)\n",
        "n = 5\n",
        "print (Z[np.argsort(Z)[-n:]])"
      ]
    },
    {
      "cell_type": "markdown",
      "metadata": {
        "id": "yyDyDcb8LTUX"
      },
      "source": [
        "#### 90. Given an arbitrary number of vectors, build the cartesian product (every combinations of every item) (★★★) \n",
        "(**hint**: np.indices)"
      ]
    },
    {
      "cell_type": "code",
      "execution_count": 56,
      "metadata": {
        "scrolled": true,
        "id": "CvwTu_wJLTUX",
        "colab": {
          "base_uri": "https://localhost:8080/"
        },
        "outputId": "06f900d0-f7f2-42a4-d95f-a26fef1e9b95"
      },
      "outputs": [
        {
          "output_type": "stream",
          "name": "stdout",
          "text": [
            "[[2 0]\n",
            " [2 3]\n",
            " [4 0]\n",
            " [4 3]\n",
            " [6 0]\n",
            " [6 3]]\n"
          ]
        }
      ],
      "source": [
        "def cartesian(arrays):\n",
        "    arrays = [np.asarray(a) for a in arrays]\n",
        "    shape = (len(x) for x in arrays)\n",
        "\n",
        "    ix = np.indices(shape, dtype=int)\n",
        "    ix = ix.reshape(len(arrays), -1).T\n",
        "\n",
        "    for n, arr in enumerate(arrays):\n",
        "        ix[:, n] = arrays[n][ix[:, n]]\n",
        "\n",
        "    return ix\n",
        "\n",
        "print(cartesian(([2, 4, 6], [0, 3])))"
      ]
    },
    {
      "cell_type": "markdown",
      "metadata": {
        "id": "YDT9oLRALTUX"
      },
      "source": [
        "#### 91. How to create a record array from a regular array? (★★★) \n",
        "(**hint**: np.core.records.fromarrays)"
      ]
    },
    {
      "cell_type": "code",
      "execution_count": 57,
      "metadata": {
        "id": "nKh-1DgPLTUX",
        "colab": {
          "base_uri": "https://localhost:8080/"
        },
        "outputId": "f6af449c-5204-4151-bb6c-52ca7877ec01"
      },
      "outputs": [
        {
          "output_type": "stream",
          "name": "stdout",
          "text": [
            "[(b'Hello', 2.5, 3) (b'World', 3.6, 2)]\n"
          ]
        }
      ],
      "source": [
        "Z = np.array([(\"Hello\", 2.5, 3),\n",
        "              (\"World\", 3.6, 2)])\n",
        "R = np.core.records.fromarrays(Z.T, \n",
        "                               names='col1, col2, col3',\n",
        "                               formats = 'S8, f8, i8')\n",
        "print(R)"
      ]
    },
    {
      "cell_type": "markdown",
      "metadata": {
        "id": "LFOloTUZLTUX"
      },
      "source": [
        "#### 92. Consider a large vector Z, compute Z to the power of 3 using 3 different methods (★★★) \n",
        "(**hint**: np.power, \\*, np.einsum)"
      ]
    },
    {
      "cell_type": "code",
      "source": [
        "x = np.random.randint(5e7)\n",
        "\n",
        "print(np.power(x,3))\n",
        "print(x*x*x)\n",
        "print(np.einsum('i,i,i->i',x,x,x))"
      ],
      "metadata": {
        "colab": {
          "base_uri": "https://localhost:8080/",
          "height": 391
        },
        "id": "lODx8qTyKdGE",
        "outputId": "ea15b5a6-4664-4d06-f511-5a0c6594d87b"
      },
      "execution_count": 65,
      "outputs": [
        {
          "output_type": "stream",
          "name": "stdout",
          "text": [
            "-8031764849795758503\n",
            "563817301435200341593\n"
          ]
        },
        {
          "output_type": "error",
          "ename": "ValueError",
          "evalue": "ignored",
          "traceback": [
            "\u001b[0;31m---------------------------------------------------------------------------\u001b[0m",
            "\u001b[0;31mValueError\u001b[0m                                Traceback (most recent call last)",
            "\u001b[0;32m<ipython-input-65-b52549798131>\u001b[0m in \u001b[0;36m<module>\u001b[0;34m()\u001b[0m\n\u001b[1;32m      3\u001b[0m \u001b[0mprint\u001b[0m\u001b[0;34m(\u001b[0m\u001b[0mnp\u001b[0m\u001b[0;34m.\u001b[0m\u001b[0mpower\u001b[0m\u001b[0;34m(\u001b[0m\u001b[0mx\u001b[0m\u001b[0;34m,\u001b[0m\u001b[0;36m3\u001b[0m\u001b[0;34m)\u001b[0m\u001b[0;34m)\u001b[0m\u001b[0;34m\u001b[0m\u001b[0;34m\u001b[0m\u001b[0m\n\u001b[1;32m      4\u001b[0m \u001b[0mprint\u001b[0m\u001b[0;34m(\u001b[0m\u001b[0mx\u001b[0m\u001b[0;34m*\u001b[0m\u001b[0mx\u001b[0m\u001b[0;34m*\u001b[0m\u001b[0mx\u001b[0m\u001b[0;34m)\u001b[0m\u001b[0;34m\u001b[0m\u001b[0;34m\u001b[0m\u001b[0m\n\u001b[0;32m----> 5\u001b[0;31m \u001b[0mprint\u001b[0m\u001b[0;34m(\u001b[0m\u001b[0mnp\u001b[0m\u001b[0;34m.\u001b[0m\u001b[0meinsum\u001b[0m\u001b[0;34m(\u001b[0m\u001b[0;34m'i,i,i->i'\u001b[0m\u001b[0;34m,\u001b[0m\u001b[0mx\u001b[0m\u001b[0;34m,\u001b[0m\u001b[0mx\u001b[0m\u001b[0;34m,\u001b[0m\u001b[0mx\u001b[0m\u001b[0;34m)\u001b[0m\u001b[0;34m)\u001b[0m\u001b[0;34m\u001b[0m\u001b[0;34m\u001b[0m\u001b[0m\n\u001b[0m",
            "\u001b[0;32m<__array_function__ internals>\u001b[0m in \u001b[0;36meinsum\u001b[0;34m(*args, **kwargs)\u001b[0m\n",
            "\u001b[0;32m/usr/local/lib/python3.7/dist-packages/numpy/core/einsumfunc.py\u001b[0m in \u001b[0;36meinsum\u001b[0;34m(out, optimize, *operands, **kwargs)\u001b[0m\n\u001b[1;32m   1357\u001b[0m         \u001b[0;32mif\u001b[0m \u001b[0mspecified_out\u001b[0m\u001b[0;34m:\u001b[0m\u001b[0;34m\u001b[0m\u001b[0;34m\u001b[0m\u001b[0m\n\u001b[1;32m   1358\u001b[0m             \u001b[0mkwargs\u001b[0m\u001b[0;34m[\u001b[0m\u001b[0;34m'out'\u001b[0m\u001b[0;34m]\u001b[0m \u001b[0;34m=\u001b[0m \u001b[0mout\u001b[0m\u001b[0;34m\u001b[0m\u001b[0;34m\u001b[0m\u001b[0m\n\u001b[0;32m-> 1359\u001b[0;31m         \u001b[0;32mreturn\u001b[0m \u001b[0mc_einsum\u001b[0m\u001b[0;34m(\u001b[0m\u001b[0;34m*\u001b[0m\u001b[0moperands\u001b[0m\u001b[0;34m,\u001b[0m \u001b[0;34m**\u001b[0m\u001b[0mkwargs\u001b[0m\u001b[0;34m)\u001b[0m\u001b[0;34m\u001b[0m\u001b[0;34m\u001b[0m\u001b[0m\n\u001b[0m\u001b[1;32m   1360\u001b[0m \u001b[0;34m\u001b[0m\u001b[0m\n\u001b[1;32m   1361\u001b[0m     \u001b[0;31m# Check the kwargs to avoid a more cryptic error later, without having to\u001b[0m\u001b[0;34m\u001b[0m\u001b[0;34m\u001b[0m\u001b[0;34m\u001b[0m\u001b[0m\n",
            "\u001b[0;31mValueError\u001b[0m: einstein sum subscripts string contains too many subscripts for operand 0"
          ]
        }
      ]
    },
    {
      "cell_type": "markdown",
      "metadata": {
        "id": "g1G2uh7hLTUX"
      },
      "source": [
        "#### 93. Consider two arrays A and B of shape (8,3) and (2,2). How to find rows of A that contain elements of each row of B regardless of the order of the elements in B? (★★★) \n",
        "(**hint**: np.where)"
      ]
    },
    {
      "cell_type": "code",
      "execution_count": 66,
      "metadata": {
        "id": "qjWcrWyNLTUX",
        "colab": {
          "base_uri": "https://localhost:8080/"
        },
        "outputId": "0fb43917-d7f9-4a60-f8ec-491c6566ebe4"
      },
      "outputs": [
        {
          "output_type": "stream",
          "name": "stdout",
          "text": [
            "[0 1 2 3 4 5 7]\n"
          ]
        }
      ],
      "source": [
        "A = np.random.randint(0,5,(8,3))\n",
        "B = np.random.randint(0,5,(2,2))\n",
        "\n",
        "C = (A[..., np.newaxis, np.newaxis] == B)\n",
        "rows = np.where(C.any((3,1)).all(1))[0]\n",
        "print(rows)"
      ]
    },
    {
      "cell_type": "markdown",
      "metadata": {
        "id": "VVqiUUd2LTUX"
      },
      "source": [
        "#### 94. Considering a 10x3 matrix, extract rows with unequal values (e.g. \\[2,2,3\\]) (★★★)"
      ]
    },
    {
      "cell_type": "code",
      "execution_count": 69,
      "metadata": {
        "id": "jgTAowFeLTUX",
        "colab": {
          "base_uri": "https://localhost:8080/"
        },
        "outputId": "86831819-a892-427f-d301-275fb83b85d3"
      },
      "outputs": [
        {
          "output_type": "stream",
          "name": "stdout",
          "text": [
            "[[1 1 4]\n",
            " [3 2 2]\n",
            " [1 0 0]\n",
            " [3 0 2]\n",
            " [2 4 0]\n",
            " [0 0 0]\n",
            " [3 4 3]\n",
            " [4 0 0]\n",
            " [2 1 4]\n",
            " [0 3 1]]\n",
            "\n",
            "\n",
            "[[1 1 4]\n",
            " [3 2 2]\n",
            " [1 0 0]\n",
            " [3 0 2]\n",
            " [2 4 0]\n",
            " [3 4 3]\n",
            " [4 0 0]\n",
            " [2 1 4]\n",
            " [0 3 1]]\n"
          ]
        }
      ],
      "source": [
        "Z = np.random.randint(0,5,(10,3))\n",
        "print(Z)\n",
        "print('\\n')\n",
        "\n",
        "U = Z[Z.max(axis=1) != Z.min(axis=1),:]\n",
        "print(U)"
      ]
    },
    {
      "cell_type": "markdown",
      "metadata": {
        "id": "Tks6KKuKLTUY"
      },
      "source": [
        "#### 95. Convert a vector of ints into a matrix binary representation (★★★) \n",
        "(**hint**: np.unpackbits)"
      ]
    },
    {
      "cell_type": "code",
      "execution_count": 70,
      "metadata": {
        "id": "IBUrYquhLTUY",
        "colab": {
          "base_uri": "https://localhost:8080/"
        },
        "outputId": "92edafbf-4da9-4384-c794-a27d891709d0"
      },
      "outputs": [
        {
          "output_type": "stream",
          "name": "stdout",
          "text": [
            "[[0 0 0 0 0 0 0 0]\n",
            " [0 0 0 0 0 0 0 1]\n",
            " [0 0 0 0 0 0 1 0]\n",
            " [0 0 0 0 0 0 1 1]\n",
            " [0 0 0 0 1 1 1 1]\n",
            " [0 0 0 1 0 0 0 0]\n",
            " [0 0 1 0 0 0 0 0]\n",
            " [0 1 0 0 0 0 0 0]\n",
            " [1 0 0 0 0 0 0 0]]\n"
          ]
        }
      ],
      "source": [
        "I = np.array([0, 1, 2, 3, 15, 16, 32, 64, 128], dtype=np.uint8)\n",
        "print(np.unpackbits(I[:, np.newaxis], axis=1))"
      ]
    },
    {
      "cell_type": "markdown",
      "metadata": {
        "id": "T9DuuER3LTUY"
      },
      "source": [
        "#### 96. Given a two dimensional array, how to extract unique rows? (★★★) \n",
        "(**hint**: np.ascontiguousarray)"
      ]
    },
    {
      "cell_type": "code",
      "execution_count": 73,
      "metadata": {
        "id": "e47qYBk9LTUY",
        "colab": {
          "base_uri": "https://localhost:8080/"
        },
        "outputId": "1d65bab1-6427-45f6-ece6-72d06be75a16"
      },
      "outputs": [
        {
          "output_type": "stream",
          "name": "stdout",
          "text": [
            "[[1 1 1]\n",
            " [0 0 1]\n",
            " [1 0 1]\n",
            " [1 1 0]\n",
            " [0 0 0]\n",
            " [1 0 1]] \n",
            "\n",
            "[[0 0 0]\n",
            " [0 0 1]\n",
            " [1 0 1]\n",
            " [1 1 0]\n",
            " [1 1 1]]\n"
          ]
        }
      ],
      "source": [
        "arr = np.random.randint(0,2,(6,3))\n",
        "print(arr, \"\\n\")\n",
        "print(np.unique(arr, axis=0))"
      ]
    },
    {
      "cell_type": "markdown",
      "metadata": {
        "id": "GEXKuYxbLTUY"
      },
      "source": [
        "#### 97. Considering 2 vectors A & B, write the einsum equivalent of inner, outer, sum, and mul function (★★★) \n",
        "(**hint**: np.einsum)"
      ]
    },
    {
      "cell_type": "code",
      "execution_count": 76,
      "metadata": {
        "id": "CivoNApCLTUY",
        "colab": {
          "base_uri": "https://localhost:8080/"
        },
        "outputId": "5b1b84c2-ab12-47aa-8713-24cd51bcb3fc"
      },
      "outputs": [
        {
          "output_type": "stream",
          "name": "stdout",
          "text": [
            "2.0520624753064576 \n",
            "\n",
            "[0.00416016 0.31621819 0.0702172  0.31828503 0.4491155 ] \n",
            "\n",
            "1.157996069936779 \n",
            "\n",
            "[[4.16015643e-03 2.49389392e-01 3.62905997e-01 3.46108137e-01\n",
            "  1.98057222e-01]\n",
            " [5.27495222e-03 3.16218188e-01 4.60153800e-01 4.38854623e-01\n",
            "  2.51130553e-01]\n",
            " [8.04931712e-04 4.82533371e-02 7.02172021e-02 6.69670527e-02\n",
            "  3.83212847e-02]\n",
            " [3.82572773e-03 2.29341355e-01 3.33732531e-01 3.18285025e-01\n",
            "  1.82135701e-01]\n",
            " [9.43359048e-03 5.65516570e-01 8.22927361e-01 7.84836454e-01\n",
            "  4.49115498e-01]] \n",
            "\n"
          ]
        }
      ],
      "source": [
        "A = np.random.uniform(0,1,5)\n",
        "B = np.random.uniform(0,1,5)\n",
        "\n",
        "print(np.einsum('i->', A), '\\n')\n",
        "print(np.einsum('i,i->i', A, B), '\\n')\n",
        "print(np.einsum('i,i', A, B), '\\n')\n",
        "print(np.einsum('i,j->ij', A, B), '\\n')"
      ]
    },
    {
      "cell_type": "markdown",
      "metadata": {
        "id": "tlfRBDKWLTUY"
      },
      "source": [
        "#### 98. Considering a path described by two vectors (X,Y), how to sample it using equidistant samples (★★★)? \n",
        "(**hint**: np.cumsum, np.interp)"
      ]
    },
    {
      "cell_type": "code",
      "execution_count": null,
      "metadata": {
        "collapsed": true,
        "id": "ds7Hmo45LTUY"
      },
      "outputs": [],
      "source": [
        ""
      ]
    },
    {
      "cell_type": "markdown",
      "metadata": {
        "id": "S29gZTGELTUY"
      },
      "source": [
        "#### 99. Given an integer n and a 2D array X, select from X the rows which can be interpreted as draws from a multinomial distribution with n degrees, i.e., the rows which only contain integers and which sum to n. (★★★) \n",
        "(**hint**: np.logical\\_and.reduce, np.mod)"
      ]
    },
    {
      "cell_type": "code",
      "execution_count": null,
      "metadata": {
        "id": "A1LYKn4CLTUY"
      },
      "outputs": [],
      "source": [
        ""
      ]
    },
    {
      "cell_type": "markdown",
      "metadata": {
        "id": "CMxRcxHKLTUZ"
      },
      "source": [
        "#### 100. Compute bootstrapped 95% confidence intervals for the mean of a 1D array X (i.e., resample the elements of an array with replacement N times, compute the mean of each sample, and then compute percentiles over the means). (★★★) \n",
        "(**hint**: np.percentile)"
      ]
    },
    {
      "cell_type": "code",
      "execution_count": null,
      "metadata": {
        "id": "IT5Nw6glLTUZ"
      },
      "outputs": [],
      "source": [
        ""
      ]
    }
  ],
  "metadata": {
    "kernelspec": {
      "display_name": "Python 3",
      "language": "python",
      "name": "python3"
    },
    "language_info": {
      "codemirror_mode": {
        "name": "ipython",
        "version": 3
      },
      "file_extension": ".py",
      "mimetype": "text/x-python",
      "name": "python",
      "nbconvert_exporter": "python",
      "pygments_lexer": "ipython3",
      "version": "3.8.3"
    },
    "colab": {
      "name": "Numpy_tasks.ipynb",
      "provenance": [],
      "collapsed_sections": [
        "0Q9dztGuLTTx",
        "6n19jtY5LTTy",
        "MfXtID5fLTTz",
        "awz1U76iLTT0",
        "7x3P7XZvLTT1",
        "XZeo_Jg-LTT1",
        "dq1gVoSlLTT2",
        "VVNV9XT8LTT3",
        "t1Fs7ADyLTT3",
        "LVxo5u7ZLTT4",
        "tfj0A2XILTT4",
        "vL8OWj-mLTT5",
        "m2sobfEULTT5",
        "P0Zu8yfQLTT5",
        "Rmwv6Y3lLTT6",
        "CDtVNWlBLTT6",
        "uWVy2yZYLTT7",
        "WCwB9zZOLTT7",
        "m_3JH0NTLTT8",
        "KxL7r1IYLTT8",
        "h5I2wlMWLTT9",
        "p-q12n5qLTT9",
        "7hkxDrfuLTT9",
        "AAOBHDfzLTT-",
        "3Ei7232ZLTT-",
        "mhAHt1u2LTUC",
        "NFrWzSN1LTUC",
        "r3Y2M-gSLTUD",
        "g5oxR4_WLTUD",
        "ScQo1MbNLTUD",
        "yr4H-CVnLTUE",
        "AkxF7EmcLTUE",
        "dJ3knR_DLTUE",
        "bTkkw9-dLTUF",
        "Eavs__ZHLTUF",
        "HIsz4tDULTUF",
        "I4JYPmN-LTUG",
        "qCXmnRnoLTUG",
        "ISYTsy2hLTUT",
        "gbNfiJuULTUT",
        "PGvXgpXtLTUT",
        "zxK0XoYSLTUU",
        "2UHq61gOLTUU",
        "uOk3WRcrLTUU",
        "iQLamNKQLTUV",
        "iFw6JWuBLTUV",
        "kQTnJ-Z7LTUV",
        "DKEzMJwILTUW",
        "ilCFi-qILTUW",
        "r-EDmqusLTUW",
        "8dbKmh8hLTUW",
        "xPwuqqQtLTUX",
        "yyDyDcb8LTUX",
        "YDT9oLRALTUX",
        "LFOloTUZLTUX",
        "g1G2uh7hLTUX",
        "VVqiUUd2LTUX",
        "Tks6KKuKLTUY",
        "T9DuuER3LTUY",
        "GEXKuYxbLTUY",
        "tlfRBDKWLTUY",
        "S29gZTGELTUY",
        "CMxRcxHKLTUZ"
      ],
      "include_colab_link": true
    }
  },
  "nbformat": 4,
  "nbformat_minor": 0
}